{
  "nbformat": 4,
  "nbformat_minor": 0,
  "metadata": {
    "colab": {
      "name": "Graded Assignment-4 torch LeNet.ipynb",
      "provenance": [],
      "authorship_tag": "ABX9TyOkeOMRmAMHCZ2jQ5nE6BCh",
      "include_colab_link": true
    },
    "kernelspec": {
      "name": "python3",
      "display_name": "Python 3"
    },
    "widgets": {
      "application/vnd.jupyter.widget-state+json": {
        "0d8b14907197454c962c6db319a0b7bb": {
          "model_module": "@jupyter-widgets/controls",
          "model_name": "HBoxModel",
          "state": {
            "_view_name": "HBoxView",
            "_dom_classes": [],
            "_model_name": "HBoxModel",
            "_view_module": "@jupyter-widgets/controls",
            "_model_module_version": "1.5.0",
            "_view_count": null,
            "_view_module_version": "1.5.0",
            "box_style": "",
            "layout": "IPY_MODEL_f8a321f1107340fdb33f0ecc96140a91",
            "_model_module": "@jupyter-widgets/controls",
            "children": [
              "IPY_MODEL_ba2b0328193740afa0bbcf56fb6fe100",
              "IPY_MODEL_c6fddb32936643c09e5a24d7aa5d9328"
            ]
          }
        },
        "f8a321f1107340fdb33f0ecc96140a91": {
          "model_module": "@jupyter-widgets/base",
          "model_name": "LayoutModel",
          "state": {
            "_view_name": "LayoutView",
            "grid_template_rows": null,
            "right": null,
            "justify_content": null,
            "_view_module": "@jupyter-widgets/base",
            "overflow": null,
            "_model_module_version": "1.2.0",
            "_view_count": null,
            "flex_flow": null,
            "width": null,
            "min_width": null,
            "border": null,
            "align_items": null,
            "bottom": null,
            "_model_module": "@jupyter-widgets/base",
            "top": null,
            "grid_column": null,
            "overflow_y": null,
            "overflow_x": null,
            "grid_auto_flow": null,
            "grid_area": null,
            "grid_template_columns": null,
            "flex": null,
            "_model_name": "LayoutModel",
            "justify_items": null,
            "grid_row": null,
            "max_height": null,
            "align_content": null,
            "visibility": null,
            "align_self": null,
            "height": null,
            "min_height": null,
            "padding": null,
            "grid_auto_rows": null,
            "grid_gap": null,
            "max_width": null,
            "order": null,
            "_view_module_version": "1.2.0",
            "grid_template_areas": null,
            "object_position": null,
            "object_fit": null,
            "grid_auto_columns": null,
            "margin": null,
            "display": null,
            "left": null
          }
        },
        "ba2b0328193740afa0bbcf56fb6fe100": {
          "model_module": "@jupyter-widgets/controls",
          "model_name": "FloatProgressModel",
          "state": {
            "_view_name": "ProgressView",
            "style": "IPY_MODEL_e854ca64bc1148a7b5e2000a452a86a3",
            "_dom_classes": [],
            "description": "",
            "_model_name": "FloatProgressModel",
            "bar_style": "info",
            "max": 1,
            "_view_module": "@jupyter-widgets/controls",
            "_model_module_version": "1.5.0",
            "value": 1,
            "_view_count": null,
            "_view_module_version": "1.5.0",
            "orientation": "horizontal",
            "min": 0,
            "description_tooltip": null,
            "_model_module": "@jupyter-widgets/controls",
            "layout": "IPY_MODEL_2b7abd5472074a05a0afcb626934d041"
          }
        },
        "c6fddb32936643c09e5a24d7aa5d9328": {
          "model_module": "@jupyter-widgets/controls",
          "model_name": "HTMLModel",
          "state": {
            "_view_name": "HTMLView",
            "style": "IPY_MODEL_66931648d5394bc38e403c9e19f91e7b",
            "_dom_classes": [],
            "description": "",
            "_model_name": "HTMLModel",
            "placeholder": "​",
            "_view_module": "@jupyter-widgets/controls",
            "_model_module_version": "1.5.0",
            "value": " 9920512/? [00:20&lt;00:00, 12537395.66it/s]",
            "_view_count": null,
            "_view_module_version": "1.5.0",
            "description_tooltip": null,
            "_model_module": "@jupyter-widgets/controls",
            "layout": "IPY_MODEL_7d28e7a92e7f4a9184f52e6b2d10cff4"
          }
        },
        "e854ca64bc1148a7b5e2000a452a86a3": {
          "model_module": "@jupyter-widgets/controls",
          "model_name": "ProgressStyleModel",
          "state": {
            "_view_name": "StyleView",
            "_model_name": "ProgressStyleModel",
            "description_width": "initial",
            "_view_module": "@jupyter-widgets/base",
            "_model_module_version": "1.5.0",
            "_view_count": null,
            "_view_module_version": "1.2.0",
            "bar_color": null,
            "_model_module": "@jupyter-widgets/controls"
          }
        },
        "2b7abd5472074a05a0afcb626934d041": {
          "model_module": "@jupyter-widgets/base",
          "model_name": "LayoutModel",
          "state": {
            "_view_name": "LayoutView",
            "grid_template_rows": null,
            "right": null,
            "justify_content": null,
            "_view_module": "@jupyter-widgets/base",
            "overflow": null,
            "_model_module_version": "1.2.0",
            "_view_count": null,
            "flex_flow": null,
            "width": null,
            "min_width": null,
            "border": null,
            "align_items": null,
            "bottom": null,
            "_model_module": "@jupyter-widgets/base",
            "top": null,
            "grid_column": null,
            "overflow_y": null,
            "overflow_x": null,
            "grid_auto_flow": null,
            "grid_area": null,
            "grid_template_columns": null,
            "flex": null,
            "_model_name": "LayoutModel",
            "justify_items": null,
            "grid_row": null,
            "max_height": null,
            "align_content": null,
            "visibility": null,
            "align_self": null,
            "height": null,
            "min_height": null,
            "padding": null,
            "grid_auto_rows": null,
            "grid_gap": null,
            "max_width": null,
            "order": null,
            "_view_module_version": "1.2.0",
            "grid_template_areas": null,
            "object_position": null,
            "object_fit": null,
            "grid_auto_columns": null,
            "margin": null,
            "display": null,
            "left": null
          }
        },
        "66931648d5394bc38e403c9e19f91e7b": {
          "model_module": "@jupyter-widgets/controls",
          "model_name": "DescriptionStyleModel",
          "state": {
            "_view_name": "StyleView",
            "_model_name": "DescriptionStyleModel",
            "description_width": "",
            "_view_module": "@jupyter-widgets/base",
            "_model_module_version": "1.5.0",
            "_view_count": null,
            "_view_module_version": "1.2.0",
            "_model_module": "@jupyter-widgets/controls"
          }
        },
        "7d28e7a92e7f4a9184f52e6b2d10cff4": {
          "model_module": "@jupyter-widgets/base",
          "model_name": "LayoutModel",
          "state": {
            "_view_name": "LayoutView",
            "grid_template_rows": null,
            "right": null,
            "justify_content": null,
            "_view_module": "@jupyter-widgets/base",
            "overflow": null,
            "_model_module_version": "1.2.0",
            "_view_count": null,
            "flex_flow": null,
            "width": null,
            "min_width": null,
            "border": null,
            "align_items": null,
            "bottom": null,
            "_model_module": "@jupyter-widgets/base",
            "top": null,
            "grid_column": null,
            "overflow_y": null,
            "overflow_x": null,
            "grid_auto_flow": null,
            "grid_area": null,
            "grid_template_columns": null,
            "flex": null,
            "_model_name": "LayoutModel",
            "justify_items": null,
            "grid_row": null,
            "max_height": null,
            "align_content": null,
            "visibility": null,
            "align_self": null,
            "height": null,
            "min_height": null,
            "padding": null,
            "grid_auto_rows": null,
            "grid_gap": null,
            "max_width": null,
            "order": null,
            "_view_module_version": "1.2.0",
            "grid_template_areas": null,
            "object_position": null,
            "object_fit": null,
            "grid_auto_columns": null,
            "margin": null,
            "display": null,
            "left": null
          }
        },
        "c0b89fb2507e4e3ba3cd12fa9161ef8c": {
          "model_module": "@jupyter-widgets/controls",
          "model_name": "HBoxModel",
          "state": {
            "_view_name": "HBoxView",
            "_dom_classes": [],
            "_model_name": "HBoxModel",
            "_view_module": "@jupyter-widgets/controls",
            "_model_module_version": "1.5.0",
            "_view_count": null,
            "_view_module_version": "1.5.0",
            "box_style": "",
            "layout": "IPY_MODEL_8dc2a48053604ceaa74bf7e4ecd94dc2",
            "_model_module": "@jupyter-widgets/controls",
            "children": [
              "IPY_MODEL_2c7708cb7e7446b6ae82d1a30c1d1825",
              "IPY_MODEL_607b78ede8a649caa960d403679d1557"
            ]
          }
        },
        "8dc2a48053604ceaa74bf7e4ecd94dc2": {
          "model_module": "@jupyter-widgets/base",
          "model_name": "LayoutModel",
          "state": {
            "_view_name": "LayoutView",
            "grid_template_rows": null,
            "right": null,
            "justify_content": null,
            "_view_module": "@jupyter-widgets/base",
            "overflow": null,
            "_model_module_version": "1.2.0",
            "_view_count": null,
            "flex_flow": null,
            "width": null,
            "min_width": null,
            "border": null,
            "align_items": null,
            "bottom": null,
            "_model_module": "@jupyter-widgets/base",
            "top": null,
            "grid_column": null,
            "overflow_y": null,
            "overflow_x": null,
            "grid_auto_flow": null,
            "grid_area": null,
            "grid_template_columns": null,
            "flex": null,
            "_model_name": "LayoutModel",
            "justify_items": null,
            "grid_row": null,
            "max_height": null,
            "align_content": null,
            "visibility": null,
            "align_self": null,
            "height": null,
            "min_height": null,
            "padding": null,
            "grid_auto_rows": null,
            "grid_gap": null,
            "max_width": null,
            "order": null,
            "_view_module_version": "1.2.0",
            "grid_template_areas": null,
            "object_position": null,
            "object_fit": null,
            "grid_auto_columns": null,
            "margin": null,
            "display": null,
            "left": null
          }
        },
        "2c7708cb7e7446b6ae82d1a30c1d1825": {
          "model_module": "@jupyter-widgets/controls",
          "model_name": "FloatProgressModel",
          "state": {
            "_view_name": "ProgressView",
            "style": "IPY_MODEL_0d296a64c0cf46668f9b3fd075dff1d8",
            "_dom_classes": [],
            "description": "",
            "_model_name": "FloatProgressModel",
            "bar_style": "success",
            "max": 1,
            "_view_module": "@jupyter-widgets/controls",
            "_model_module_version": "1.5.0",
            "value": 1,
            "_view_count": null,
            "_view_module_version": "1.5.0",
            "orientation": "horizontal",
            "min": 0,
            "description_tooltip": null,
            "_model_module": "@jupyter-widgets/controls",
            "layout": "IPY_MODEL_10f7d941a3364baa9cea6cbac07bc568"
          }
        },
        "607b78ede8a649caa960d403679d1557": {
          "model_module": "@jupyter-widgets/controls",
          "model_name": "HTMLModel",
          "state": {
            "_view_name": "HTMLView",
            "style": "IPY_MODEL_3e33bc3a66b746bcbf309fa56c9cfec0",
            "_dom_classes": [],
            "description": "",
            "_model_name": "HTMLModel",
            "placeholder": "​",
            "_view_module": "@jupyter-widgets/controls",
            "_model_module_version": "1.5.0",
            "value": " 32768/? [00:00&lt;00:00, 83367.07it/s]",
            "_view_count": null,
            "_view_module_version": "1.5.0",
            "description_tooltip": null,
            "_model_module": "@jupyter-widgets/controls",
            "layout": "IPY_MODEL_4116449bb0954c9583f5b331761dc3b3"
          }
        },
        "0d296a64c0cf46668f9b3fd075dff1d8": {
          "model_module": "@jupyter-widgets/controls",
          "model_name": "ProgressStyleModel",
          "state": {
            "_view_name": "StyleView",
            "_model_name": "ProgressStyleModel",
            "description_width": "initial",
            "_view_module": "@jupyter-widgets/base",
            "_model_module_version": "1.5.0",
            "_view_count": null,
            "_view_module_version": "1.2.0",
            "bar_color": null,
            "_model_module": "@jupyter-widgets/controls"
          }
        },
        "10f7d941a3364baa9cea6cbac07bc568": {
          "model_module": "@jupyter-widgets/base",
          "model_name": "LayoutModel",
          "state": {
            "_view_name": "LayoutView",
            "grid_template_rows": null,
            "right": null,
            "justify_content": null,
            "_view_module": "@jupyter-widgets/base",
            "overflow": null,
            "_model_module_version": "1.2.0",
            "_view_count": null,
            "flex_flow": null,
            "width": null,
            "min_width": null,
            "border": null,
            "align_items": null,
            "bottom": null,
            "_model_module": "@jupyter-widgets/base",
            "top": null,
            "grid_column": null,
            "overflow_y": null,
            "overflow_x": null,
            "grid_auto_flow": null,
            "grid_area": null,
            "grid_template_columns": null,
            "flex": null,
            "_model_name": "LayoutModel",
            "justify_items": null,
            "grid_row": null,
            "max_height": null,
            "align_content": null,
            "visibility": null,
            "align_self": null,
            "height": null,
            "min_height": null,
            "padding": null,
            "grid_auto_rows": null,
            "grid_gap": null,
            "max_width": null,
            "order": null,
            "_view_module_version": "1.2.0",
            "grid_template_areas": null,
            "object_position": null,
            "object_fit": null,
            "grid_auto_columns": null,
            "margin": null,
            "display": null,
            "left": null
          }
        },
        "3e33bc3a66b746bcbf309fa56c9cfec0": {
          "model_module": "@jupyter-widgets/controls",
          "model_name": "DescriptionStyleModel",
          "state": {
            "_view_name": "StyleView",
            "_model_name": "DescriptionStyleModel",
            "description_width": "",
            "_view_module": "@jupyter-widgets/base",
            "_model_module_version": "1.5.0",
            "_view_count": null,
            "_view_module_version": "1.2.0",
            "_model_module": "@jupyter-widgets/controls"
          }
        },
        "4116449bb0954c9583f5b331761dc3b3": {
          "model_module": "@jupyter-widgets/base",
          "model_name": "LayoutModel",
          "state": {
            "_view_name": "LayoutView",
            "grid_template_rows": null,
            "right": null,
            "justify_content": null,
            "_view_module": "@jupyter-widgets/base",
            "overflow": null,
            "_model_module_version": "1.2.0",
            "_view_count": null,
            "flex_flow": null,
            "width": null,
            "min_width": null,
            "border": null,
            "align_items": null,
            "bottom": null,
            "_model_module": "@jupyter-widgets/base",
            "top": null,
            "grid_column": null,
            "overflow_y": null,
            "overflow_x": null,
            "grid_auto_flow": null,
            "grid_area": null,
            "grid_template_columns": null,
            "flex": null,
            "_model_name": "LayoutModel",
            "justify_items": null,
            "grid_row": null,
            "max_height": null,
            "align_content": null,
            "visibility": null,
            "align_self": null,
            "height": null,
            "min_height": null,
            "padding": null,
            "grid_auto_rows": null,
            "grid_gap": null,
            "max_width": null,
            "order": null,
            "_view_module_version": "1.2.0",
            "grid_template_areas": null,
            "object_position": null,
            "object_fit": null,
            "grid_auto_columns": null,
            "margin": null,
            "display": null,
            "left": null
          }
        },
        "71f47cbc06ca40e3bda4ee11d9cfdc95": {
          "model_module": "@jupyter-widgets/controls",
          "model_name": "HBoxModel",
          "state": {
            "_view_name": "HBoxView",
            "_dom_classes": [],
            "_model_name": "HBoxModel",
            "_view_module": "@jupyter-widgets/controls",
            "_model_module_version": "1.5.0",
            "_view_count": null,
            "_view_module_version": "1.5.0",
            "box_style": "",
            "layout": "IPY_MODEL_36907b7514e846729d66d6f6a486ea34",
            "_model_module": "@jupyter-widgets/controls",
            "children": [
              "IPY_MODEL_1898f26e73594d758687cb4e980aefc8",
              "IPY_MODEL_6f2103a37f614154b6e15738d98941aa"
            ]
          }
        },
        "36907b7514e846729d66d6f6a486ea34": {
          "model_module": "@jupyter-widgets/base",
          "model_name": "LayoutModel",
          "state": {
            "_view_name": "LayoutView",
            "grid_template_rows": null,
            "right": null,
            "justify_content": null,
            "_view_module": "@jupyter-widgets/base",
            "overflow": null,
            "_model_module_version": "1.2.0",
            "_view_count": null,
            "flex_flow": null,
            "width": null,
            "min_width": null,
            "border": null,
            "align_items": null,
            "bottom": null,
            "_model_module": "@jupyter-widgets/base",
            "top": null,
            "grid_column": null,
            "overflow_y": null,
            "overflow_x": null,
            "grid_auto_flow": null,
            "grid_area": null,
            "grid_template_columns": null,
            "flex": null,
            "_model_name": "LayoutModel",
            "justify_items": null,
            "grid_row": null,
            "max_height": null,
            "align_content": null,
            "visibility": null,
            "align_self": null,
            "height": null,
            "min_height": null,
            "padding": null,
            "grid_auto_rows": null,
            "grid_gap": null,
            "max_width": null,
            "order": null,
            "_view_module_version": "1.2.0",
            "grid_template_areas": null,
            "object_position": null,
            "object_fit": null,
            "grid_auto_columns": null,
            "margin": null,
            "display": null,
            "left": null
          }
        },
        "1898f26e73594d758687cb4e980aefc8": {
          "model_module": "@jupyter-widgets/controls",
          "model_name": "FloatProgressModel",
          "state": {
            "_view_name": "ProgressView",
            "style": "IPY_MODEL_e9c8cd00bcd44514a9604ed0050d1335",
            "_dom_classes": [],
            "description": "",
            "_model_name": "FloatProgressModel",
            "bar_style": "success",
            "max": 1,
            "_view_module": "@jupyter-widgets/controls",
            "_model_module_version": "1.5.0",
            "value": 1,
            "_view_count": null,
            "_view_module_version": "1.5.0",
            "orientation": "horizontal",
            "min": 0,
            "description_tooltip": null,
            "_model_module": "@jupyter-widgets/controls",
            "layout": "IPY_MODEL_6832fc223dbf45fa9f686f36c8ea29cb"
          }
        },
        "6f2103a37f614154b6e15738d98941aa": {
          "model_module": "@jupyter-widgets/controls",
          "model_name": "HTMLModel",
          "state": {
            "_view_name": "HTMLView",
            "style": "IPY_MODEL_3990336da07a40a8bda84aa3bf7602a6",
            "_dom_classes": [],
            "description": "",
            "_model_name": "HTMLModel",
            "placeholder": "​",
            "_view_module": "@jupyter-widgets/controls",
            "_model_module_version": "1.5.0",
            "value": " 1654784/? [00:00&lt;00:00, 5765870.95it/s]",
            "_view_count": null,
            "_view_module_version": "1.5.0",
            "description_tooltip": null,
            "_model_module": "@jupyter-widgets/controls",
            "layout": "IPY_MODEL_6b4f223fd14a47089fbd0a8c0e5bcb19"
          }
        },
        "e9c8cd00bcd44514a9604ed0050d1335": {
          "model_module": "@jupyter-widgets/controls",
          "model_name": "ProgressStyleModel",
          "state": {
            "_view_name": "StyleView",
            "_model_name": "ProgressStyleModel",
            "description_width": "initial",
            "_view_module": "@jupyter-widgets/base",
            "_model_module_version": "1.5.0",
            "_view_count": null,
            "_view_module_version": "1.2.0",
            "bar_color": null,
            "_model_module": "@jupyter-widgets/controls"
          }
        },
        "6832fc223dbf45fa9f686f36c8ea29cb": {
          "model_module": "@jupyter-widgets/base",
          "model_name": "LayoutModel",
          "state": {
            "_view_name": "LayoutView",
            "grid_template_rows": null,
            "right": null,
            "justify_content": null,
            "_view_module": "@jupyter-widgets/base",
            "overflow": null,
            "_model_module_version": "1.2.0",
            "_view_count": null,
            "flex_flow": null,
            "width": null,
            "min_width": null,
            "border": null,
            "align_items": null,
            "bottom": null,
            "_model_module": "@jupyter-widgets/base",
            "top": null,
            "grid_column": null,
            "overflow_y": null,
            "overflow_x": null,
            "grid_auto_flow": null,
            "grid_area": null,
            "grid_template_columns": null,
            "flex": null,
            "_model_name": "LayoutModel",
            "justify_items": null,
            "grid_row": null,
            "max_height": null,
            "align_content": null,
            "visibility": null,
            "align_self": null,
            "height": null,
            "min_height": null,
            "padding": null,
            "grid_auto_rows": null,
            "grid_gap": null,
            "max_width": null,
            "order": null,
            "_view_module_version": "1.2.0",
            "grid_template_areas": null,
            "object_position": null,
            "object_fit": null,
            "grid_auto_columns": null,
            "margin": null,
            "display": null,
            "left": null
          }
        },
        "3990336da07a40a8bda84aa3bf7602a6": {
          "model_module": "@jupyter-widgets/controls",
          "model_name": "DescriptionStyleModel",
          "state": {
            "_view_name": "StyleView",
            "_model_name": "DescriptionStyleModel",
            "description_width": "",
            "_view_module": "@jupyter-widgets/base",
            "_model_module_version": "1.5.0",
            "_view_count": null,
            "_view_module_version": "1.2.0",
            "_model_module": "@jupyter-widgets/controls"
          }
        },
        "6b4f223fd14a47089fbd0a8c0e5bcb19": {
          "model_module": "@jupyter-widgets/base",
          "model_name": "LayoutModel",
          "state": {
            "_view_name": "LayoutView",
            "grid_template_rows": null,
            "right": null,
            "justify_content": null,
            "_view_module": "@jupyter-widgets/base",
            "overflow": null,
            "_model_module_version": "1.2.0",
            "_view_count": null,
            "flex_flow": null,
            "width": null,
            "min_width": null,
            "border": null,
            "align_items": null,
            "bottom": null,
            "_model_module": "@jupyter-widgets/base",
            "top": null,
            "grid_column": null,
            "overflow_y": null,
            "overflow_x": null,
            "grid_auto_flow": null,
            "grid_area": null,
            "grid_template_columns": null,
            "flex": null,
            "_model_name": "LayoutModel",
            "justify_items": null,
            "grid_row": null,
            "max_height": null,
            "align_content": null,
            "visibility": null,
            "align_self": null,
            "height": null,
            "min_height": null,
            "padding": null,
            "grid_auto_rows": null,
            "grid_gap": null,
            "max_width": null,
            "order": null,
            "_view_module_version": "1.2.0",
            "grid_template_areas": null,
            "object_position": null,
            "object_fit": null,
            "grid_auto_columns": null,
            "margin": null,
            "display": null,
            "left": null
          }
        },
        "205be61e97e24b90904eb7b1c0b65c8d": {
          "model_module": "@jupyter-widgets/controls",
          "model_name": "HBoxModel",
          "state": {
            "_view_name": "HBoxView",
            "_dom_classes": [],
            "_model_name": "HBoxModel",
            "_view_module": "@jupyter-widgets/controls",
            "_model_module_version": "1.5.0",
            "_view_count": null,
            "_view_module_version": "1.5.0",
            "box_style": "",
            "layout": "IPY_MODEL_43ad8dcae6bb41b0b6f5c607f9d07617",
            "_model_module": "@jupyter-widgets/controls",
            "children": [
              "IPY_MODEL_635d100e10a94289a0c3ca9df9b0f7d5",
              "IPY_MODEL_94c463e52eb24723aece5a5b7faf1908"
            ]
          }
        },
        "43ad8dcae6bb41b0b6f5c607f9d07617": {
          "model_module": "@jupyter-widgets/base",
          "model_name": "LayoutModel",
          "state": {
            "_view_name": "LayoutView",
            "grid_template_rows": null,
            "right": null,
            "justify_content": null,
            "_view_module": "@jupyter-widgets/base",
            "overflow": null,
            "_model_module_version": "1.2.0",
            "_view_count": null,
            "flex_flow": null,
            "width": null,
            "min_width": null,
            "border": null,
            "align_items": null,
            "bottom": null,
            "_model_module": "@jupyter-widgets/base",
            "top": null,
            "grid_column": null,
            "overflow_y": null,
            "overflow_x": null,
            "grid_auto_flow": null,
            "grid_area": null,
            "grid_template_columns": null,
            "flex": null,
            "_model_name": "LayoutModel",
            "justify_items": null,
            "grid_row": null,
            "max_height": null,
            "align_content": null,
            "visibility": null,
            "align_self": null,
            "height": null,
            "min_height": null,
            "padding": null,
            "grid_auto_rows": null,
            "grid_gap": null,
            "max_width": null,
            "order": null,
            "_view_module_version": "1.2.0",
            "grid_template_areas": null,
            "object_position": null,
            "object_fit": null,
            "grid_auto_columns": null,
            "margin": null,
            "display": null,
            "left": null
          }
        },
        "635d100e10a94289a0c3ca9df9b0f7d5": {
          "model_module": "@jupyter-widgets/controls",
          "model_name": "FloatProgressModel",
          "state": {
            "_view_name": "ProgressView",
            "style": "IPY_MODEL_0e537742d2974ccbbd86489b9d35818a",
            "_dom_classes": [],
            "description": "",
            "_model_name": "FloatProgressModel",
            "bar_style": "info",
            "max": 1,
            "_view_module": "@jupyter-widgets/controls",
            "_model_module_version": "1.5.0",
            "value": 0,
            "_view_count": null,
            "_view_module_version": "1.5.0",
            "orientation": "horizontal",
            "min": 0,
            "description_tooltip": null,
            "_model_module": "@jupyter-widgets/controls",
            "layout": "IPY_MODEL_fcfb36379575479b93cefdccfa060fb4"
          }
        },
        "94c463e52eb24723aece5a5b7faf1908": {
          "model_module": "@jupyter-widgets/controls",
          "model_name": "HTMLModel",
          "state": {
            "_view_name": "HTMLView",
            "style": "IPY_MODEL_b025c3bf29074ea68d7d15f2d004497f",
            "_dom_classes": [],
            "description": "",
            "_model_name": "HTMLModel",
            "placeholder": "​",
            "_view_module": "@jupyter-widgets/controls",
            "_model_module_version": "1.5.0",
            "value": " 0/? [00:00&lt;?, ?it/s]",
            "_view_count": null,
            "_view_module_version": "1.5.0",
            "description_tooltip": null,
            "_model_module": "@jupyter-widgets/controls",
            "layout": "IPY_MODEL_382ee62539064443b58f311fa5f006e3"
          }
        },
        "0e537742d2974ccbbd86489b9d35818a": {
          "model_module": "@jupyter-widgets/controls",
          "model_name": "ProgressStyleModel",
          "state": {
            "_view_name": "StyleView",
            "_model_name": "ProgressStyleModel",
            "description_width": "initial",
            "_view_module": "@jupyter-widgets/base",
            "_model_module_version": "1.5.0",
            "_view_count": null,
            "_view_module_version": "1.2.0",
            "bar_color": null,
            "_model_module": "@jupyter-widgets/controls"
          }
        },
        "fcfb36379575479b93cefdccfa060fb4": {
          "model_module": "@jupyter-widgets/base",
          "model_name": "LayoutModel",
          "state": {
            "_view_name": "LayoutView",
            "grid_template_rows": null,
            "right": null,
            "justify_content": null,
            "_view_module": "@jupyter-widgets/base",
            "overflow": null,
            "_model_module_version": "1.2.0",
            "_view_count": null,
            "flex_flow": null,
            "width": null,
            "min_width": null,
            "border": null,
            "align_items": null,
            "bottom": null,
            "_model_module": "@jupyter-widgets/base",
            "top": null,
            "grid_column": null,
            "overflow_y": null,
            "overflow_x": null,
            "grid_auto_flow": null,
            "grid_area": null,
            "grid_template_columns": null,
            "flex": null,
            "_model_name": "LayoutModel",
            "justify_items": null,
            "grid_row": null,
            "max_height": null,
            "align_content": null,
            "visibility": null,
            "align_self": null,
            "height": null,
            "min_height": null,
            "padding": null,
            "grid_auto_rows": null,
            "grid_gap": null,
            "max_width": null,
            "order": null,
            "_view_module_version": "1.2.0",
            "grid_template_areas": null,
            "object_position": null,
            "object_fit": null,
            "grid_auto_columns": null,
            "margin": null,
            "display": null,
            "left": null
          }
        },
        "b025c3bf29074ea68d7d15f2d004497f": {
          "model_module": "@jupyter-widgets/controls",
          "model_name": "DescriptionStyleModel",
          "state": {
            "_view_name": "StyleView",
            "_model_name": "DescriptionStyleModel",
            "description_width": "",
            "_view_module": "@jupyter-widgets/base",
            "_model_module_version": "1.5.0",
            "_view_count": null,
            "_view_module_version": "1.2.0",
            "_model_module": "@jupyter-widgets/controls"
          }
        },
        "382ee62539064443b58f311fa5f006e3": {
          "model_module": "@jupyter-widgets/base",
          "model_name": "LayoutModel",
          "state": {
            "_view_name": "LayoutView",
            "grid_template_rows": null,
            "right": null,
            "justify_content": null,
            "_view_module": "@jupyter-widgets/base",
            "overflow": null,
            "_model_module_version": "1.2.0",
            "_view_count": null,
            "flex_flow": null,
            "width": null,
            "min_width": null,
            "border": null,
            "align_items": null,
            "bottom": null,
            "_model_module": "@jupyter-widgets/base",
            "top": null,
            "grid_column": null,
            "overflow_y": null,
            "overflow_x": null,
            "grid_auto_flow": null,
            "grid_area": null,
            "grid_template_columns": null,
            "flex": null,
            "_model_name": "LayoutModel",
            "justify_items": null,
            "grid_row": null,
            "max_height": null,
            "align_content": null,
            "visibility": null,
            "align_self": null,
            "height": null,
            "min_height": null,
            "padding": null,
            "grid_auto_rows": null,
            "grid_gap": null,
            "max_width": null,
            "order": null,
            "_view_module_version": "1.2.0",
            "grid_template_areas": null,
            "object_position": null,
            "object_fit": null,
            "grid_auto_columns": null,
            "margin": null,
            "display": null,
            "left": null
          }
        }
      }
    }
  },
  "cells": [
    {
      "cell_type": "markdown",
      "metadata": {
        "id": "view-in-github",
        "colab_type": "text"
      },
      "source": [
        "<a href=\"https://colab.research.google.com/github/vrnTEK/Deep-Learning/blob/master/Graded_Assignment_4_torch_LeNet.ipynb\" target=\"_parent\"><img src=\"https://colab.research.google.com/assets/colab-badge.svg\" alt=\"Open In Colab\"/></a>"
      ]
    },
    {
      "cell_type": "markdown",
      "metadata": {
        "id": "n_1XlpaJ4jVy",
        "colab_type": "text"
      },
      "source": [
        "##Step-1 Importing Libraries as required"
      ]
    },
    {
      "cell_type": "code",
      "metadata": {
        "id": "onzjw-HS4ZWo",
        "colab_type": "code",
        "colab": {}
      },
      "source": [
        "import torch\n",
        "import torch.nn as nn\n",
        "import torch.optim as optim\n",
        "from torchvision import datasets, transforms\n",
        "from torch.autograd import Variable\n",
        "from PIL import Image\n",
        "import torch.nn.functional as F\n",
        "import numpy as np"
      ],
      "execution_count": 0,
      "outputs": []
    },
    {
      "cell_type": "markdown",
      "metadata": {
        "id": "f9Lld1ln4s_i",
        "colab_type": "text"
      },
      "source": [
        "##Step-2 Create Model"
      ]
    },
    {
      "cell_type": "code",
      "metadata": {
        "id": "REIRvMw54oCi",
        "colab_type": "code",
        "colab": {}
      },
      "source": [
        "class LeNet(nn.Module):\n",
        "    def __init__(self):\n",
        "        super(LeNet, self).__init__()\n",
        "        self.conv1 = nn.Conv2d(1, 6, 5)\n",
        "        self.conv2 = nn.Conv2d(6, 16, 5)\n",
        "        self.fc1 = nn.Linear(16 * 5 * 5, 120)\n",
        "        self.fc2 = nn.Linear(120, 84)\n",
        "        self.fc3 = nn.Linear(84, 10)\n",
        "\n",
        "    def forward(self, x):\n",
        "        x = F.max_pool2d(F.relu(self.conv1(x)), 2)\n",
        "        x = F.max_pool2d(F.relu(self.conv2(x)), 2)\n",
        "        x = x.view(x.size()[0], -1)\n",
        "        x = F.relu(self.fc1(x))\n",
        "        x = F.relu(self.fc2(x))\n",
        "        x = self.fc3(x)\n",
        "        return x"
      ],
      "execution_count": 0,
      "outputs": []
    },
    {
      "cell_type": "markdown",
      "metadata": {
        "id": "0mez36Q645pW",
        "colab_type": "text"
      },
      "source": [
        "##Step-3 Function to load model"
      ]
    },
    {
      "cell_type": "code",
      "metadata": {
        "id": "1XIA5YzO44yJ",
        "colab_type": "code",
        "colab": {}
      },
      "source": [
        "def load_data(train_batch_size, test_batch_size):\n",
        "    # Fetch training data: total 60000 samples\n",
        "    train_loader = torch.utils.data.DataLoader(\n",
        "        datasets.MNIST('data', train=True, download=True,\n",
        "                       transform=transforms.Compose([\n",
        "                           transforms.Resize((32, 32)),\n",
        "                           transforms.ToTensor(),\n",
        "                           transforms.Normalize((0.1307,), (0.3081,))\n",
        "                       ])),\n",
        "        batch_size=train_batch_size, shuffle=True)\n",
        "\n",
        "    # Fetch test data: total 10000 samples\n",
        "    test_loader = torch.utils.data.DataLoader(\n",
        "        datasets.MNIST('data', train=False, transform=transforms.Compose([\n",
        "            transforms.Resize((32, 32)),\n",
        "            transforms.ToTensor(),\n",
        "            transforms.Normalize((0.1307,), (0.3081,))\n",
        "        ])),\n",
        "        batch_size=test_batch_size, shuffle=True)\n",
        "\n",
        "    return (train_loader, test_loader)"
      ],
      "execution_count": 0,
      "outputs": []
    },
    {
      "cell_type": "markdown",
      "metadata": {
        "id": "F0zpVSB35C-h",
        "colab_type": "text"
      },
      "source": [
        "##Step-4 Creating Train Function"
      ]
    },
    {
      "cell_type": "code",
      "metadata": {
        "id": "ndfRY_Cz4_dy",
        "colab_type": "code",
        "colab": {}
      },
      "source": [
        "def train(model, optimizer, epoch, train_loader, log_interval):\n",
        "    model.train()\n",
        "\n",
        "    # define loss function\n",
        "    loss_fn = torch.nn.CrossEntropyLoss()\n",
        "\n",
        "    # Iterate over batches of data\n",
        "    for batch_idx, (data, target) in enumerate(train_loader):\n",
        "        # Wrap the input and target output in the `Variable` wrapper\n",
        "        data, target = Variable(data), Variable(target)\n",
        "\n",
        "        # Clear the gradients, since PyTorch accumulates them\n",
        "        optimizer.zero_grad()\n",
        "\n",
        "        # Forward propagation\n",
        "        output = model(data)\n",
        "\n",
        "        loss = loss_fn(output, target)\n",
        "\n",
        "        # Backward propagation\n",
        "        loss.backward()\n",
        "\n",
        "        # Update the parameters(weight,bias)\n",
        "        optimizer.step()\n",
        "\n",
        "        # print log\n",
        "        if batch_idx % log_interval == 0:\n",
        "            print('Train set, Epoch {} [{}/{} ({:.0f}%)]\\tLoss: {:.6f}'.format(\n",
        "                epoch, batch_idx * len(data), len(train_loader.dataset),\n",
        "                       100. * batch_idx / len(train_loader),\n",
        "                loss.item()))"
      ],
      "execution_count": 0,
      "outputs": []
    },
    {
      "cell_type": "markdown",
      "metadata": {
        "id": "ZnSdTYKS5NfT",
        "colab_type": "text"
      },
      "source": [
        "##Step-5 Creating test function"
      ]
    },
    {
      "cell_type": "code",
      "metadata": {
        "id": "rRrY_tqM5KUZ",
        "colab_type": "code",
        "colab": {}
      },
      "source": [
        "def test(model, epoch, test_loader):\n",
        "    # State that you are testing the model; this prevents layers e.g. Dropout to take effect\n",
        "    model.eval()\n",
        "\n",
        "    # Init loss & correct prediction accumulators\n",
        "    test_loss = 0\n",
        "    correct = 0\n",
        "\n",
        "    # define loss function\n",
        "    loss_fn = torch.nn.CrossEntropyLoss(size_average=False)\n",
        "\n",
        "    # Iterate over data\n",
        "    for data, target in test_loader:\n",
        "        data, target = Variable(data), Variable(target)\n",
        "        \n",
        "        # Forward propagation\n",
        "        output = model(data)\n",
        "\n",
        "        # Calculate & accumulate loss\n",
        "        test_loss += loss_fn(output, target).item()\n",
        "\n",
        "        # Get the index of the max log-probability (the predicted output label)\n",
        "        pred = np.argmax(output.data, axis=1)\n",
        "\n",
        "        # If correct, increment correct prediction accumulator\n",
        "        correct = correct + np.equal(pred, target.data).sum()\n",
        "\n",
        "    # Print log\n",
        "    test_loss /= len(test_loader.dataset)\n",
        "    print('\\nTest set, Epoch {} , Average loss: {:.4f}, Accuracy: {}/{} ({:.0f}%)\\n'.format(epoch,\n",
        "        test_loss, correct, len(test_loader.dataset),\n",
        "        100. * correct / len(test_loader.dataset)))"
      ],
      "execution_count": 0,
      "outputs": []
    },
    {
      "cell_type": "markdown",
      "metadata": {
        "id": "FCOTemyd5Vc5",
        "colab_type": "text"
      },
      "source": [
        "##Step-6 Train Model"
      ]
    },
    {
      "cell_type": "code",
      "metadata": {
        "id": "5HXZgeS55Qe6",
        "colab_type": "code",
        "colab": {
          "base_uri": "https://localhost:8080/",
          "height": 1000,
          "referenced_widgets": [
            "0d8b14907197454c962c6db319a0b7bb",
            "f8a321f1107340fdb33f0ecc96140a91",
            "ba2b0328193740afa0bbcf56fb6fe100",
            "c6fddb32936643c09e5a24d7aa5d9328",
            "e854ca64bc1148a7b5e2000a452a86a3",
            "2b7abd5472074a05a0afcb626934d041",
            "66931648d5394bc38e403c9e19f91e7b",
            "7d28e7a92e7f4a9184f52e6b2d10cff4",
            "c0b89fb2507e4e3ba3cd12fa9161ef8c",
            "8dc2a48053604ceaa74bf7e4ecd94dc2",
            "2c7708cb7e7446b6ae82d1a30c1d1825",
            "607b78ede8a649caa960d403679d1557",
            "0d296a64c0cf46668f9b3fd075dff1d8",
            "10f7d941a3364baa9cea6cbac07bc568",
            "3e33bc3a66b746bcbf309fa56c9cfec0",
            "4116449bb0954c9583f5b331761dc3b3",
            "71f47cbc06ca40e3bda4ee11d9cfdc95",
            "36907b7514e846729d66d6f6a486ea34",
            "1898f26e73594d758687cb4e980aefc8",
            "6f2103a37f614154b6e15738d98941aa",
            "e9c8cd00bcd44514a9604ed0050d1335",
            "6832fc223dbf45fa9f686f36c8ea29cb",
            "3990336da07a40a8bda84aa3bf7602a6",
            "6b4f223fd14a47089fbd0a8c0e5bcb19",
            "205be61e97e24b90904eb7b1c0b65c8d",
            "43ad8dcae6bb41b0b6f5c607f9d07617",
            "635d100e10a94289a0c3ca9df9b0f7d5",
            "94c463e52eb24723aece5a5b7faf1908",
            "0e537742d2974ccbbd86489b9d35818a",
            "fcfb36379575479b93cefdccfa060fb4",
            "b025c3bf29074ea68d7d15f2d004497f",
            "382ee62539064443b58f311fa5f006e3"
          ]
        },
        "outputId": "abf9828a-8289-44a6-ab47-50c9157da1e0"
      },
      "source": [
        "torch.manual_seed(123)\n",
        "\n",
        "model = LeNet()\n",
        "\n",
        "lr = 0.01\n",
        "momentum=0.5\n",
        "optimizer = optim.SGD(model.parameters(), lr=lr, momentum=momentum)\n",
        "\n",
        "train_batch_size = 64\n",
        "test_batch_size = 1000\n",
        "train_loader, test_loader = load_data(train_batch_size, test_batch_size)\n",
        "\n",
        "epochs = 10\n",
        "log_interval = 100\n",
        "for epoch in range(1, epochs + 1):\n",
        "    train(model, optimizer, epoch, train_loader, log_interval=log_interval)\n",
        "    test(model, epoch, test_loader)"
      ],
      "execution_count": 6,
      "outputs": [
        {
          "output_type": "stream",
          "text": [
            "Downloading http://yann.lecun.com/exdb/mnist/train-images-idx3-ubyte.gz to data/MNIST/raw/train-images-idx3-ubyte.gz\n"
          ],
          "name": "stdout"
        },
        {
          "output_type": "display_data",
          "data": {
            "application/vnd.jupyter.widget-view+json": {
              "model_id": "0d8b14907197454c962c6db319a0b7bb",
              "version_minor": 0,
              "version_major": 2
            },
            "text/plain": [
              "HBox(children=(FloatProgress(value=1.0, bar_style='info', max=1.0), HTML(value='')))"
            ]
          },
          "metadata": {
            "tags": []
          }
        },
        {
          "output_type": "stream",
          "text": [
            "Extracting data/MNIST/raw/train-images-idx3-ubyte.gz to data/MNIST/raw\n",
            "Downloading http://yann.lecun.com/exdb/mnist/train-labels-idx1-ubyte.gz to data/MNIST/raw/train-labels-idx1-ubyte.gz\n"
          ],
          "name": "stdout"
        },
        {
          "output_type": "display_data",
          "data": {
            "application/vnd.jupyter.widget-view+json": {
              "model_id": "c0b89fb2507e4e3ba3cd12fa9161ef8c",
              "version_minor": 0,
              "version_major": 2
            },
            "text/plain": [
              "HBox(children=(FloatProgress(value=1.0, bar_style='info', max=1.0), HTML(value='')))"
            ]
          },
          "metadata": {
            "tags": []
          }
        },
        {
          "output_type": "stream",
          "text": [
            "Extracting data/MNIST/raw/train-labels-idx1-ubyte.gz to data/MNIST/raw\n",
            "Downloading http://yann.lecun.com/exdb/mnist/t10k-images-idx3-ubyte.gz to data/MNIST/raw/t10k-images-idx3-ubyte.gz\n"
          ],
          "name": "stdout"
        },
        {
          "output_type": "display_data",
          "data": {
            "application/vnd.jupyter.widget-view+json": {
              "model_id": "71f47cbc06ca40e3bda4ee11d9cfdc95",
              "version_minor": 0,
              "version_major": 2
            },
            "text/plain": [
              "HBox(children=(FloatProgress(value=1.0, bar_style='info', max=1.0), HTML(value='')))"
            ]
          },
          "metadata": {
            "tags": []
          }
        },
        {
          "output_type": "stream",
          "text": [
            "Extracting data/MNIST/raw/t10k-images-idx3-ubyte.gz to data/MNIST/raw\n",
            "Downloading http://yann.lecun.com/exdb/mnist/t10k-labels-idx1-ubyte.gz to data/MNIST/raw/t10k-labels-idx1-ubyte.gz\n",
            "\n",
            "\n"
          ],
          "name": "stdout"
        },
        {
          "output_type": "display_data",
          "data": {
            "application/vnd.jupyter.widget-view+json": {
              "model_id": "205be61e97e24b90904eb7b1c0b65c8d",
              "version_minor": 0,
              "version_major": 2
            },
            "text/plain": [
              "HBox(children=(FloatProgress(value=1.0, bar_style='info', max=1.0), HTML(value='')))"
            ]
          },
          "metadata": {
            "tags": []
          }
        },
        {
          "output_type": "stream",
          "text": [
            "Extracting data/MNIST/raw/t10k-labels-idx1-ubyte.gz to data/MNIST/raw\n",
            "Processing...\n",
            "Done!\n"
          ],
          "name": "stdout"
        },
        {
          "output_type": "stream",
          "text": [
            "/pytorch/torch/csrc/utils/tensor_numpy.cpp:141: UserWarning: The given NumPy array is not writeable, and PyTorch does not support non-writeable tensors. This means you can write to the underlying (supposedly non-writeable) NumPy array using the tensor. You may want to copy the array to protect its data or make it writeable before converting it to a tensor. This type of warning will be suppressed for the rest of this program.\n"
          ],
          "name": "stderr"
        },
        {
          "output_type": "stream",
          "text": [
            "Train set, Epoch 1 [0/60000 (0%)]\tLoss: 2.297229\n",
            "Train set, Epoch 1 [6400/60000 (11%)]\tLoss: 2.138053\n",
            "Train set, Epoch 1 [12800/60000 (21%)]\tLoss: 0.612845\n",
            "Train set, Epoch 1 [19200/60000 (32%)]\tLoss: 0.288354\n",
            "Train set, Epoch 1 [25600/60000 (43%)]\tLoss: 0.421566\n",
            "Train set, Epoch 1 [32000/60000 (53%)]\tLoss: 0.266445\n",
            "Train set, Epoch 1 [38400/60000 (64%)]\tLoss: 0.257292\n",
            "Train set, Epoch 1 [44800/60000 (75%)]\tLoss: 0.118953\n",
            "Train set, Epoch 1 [51200/60000 (85%)]\tLoss: 0.157034\n",
            "Train set, Epoch 1 [57600/60000 (96%)]\tLoss: 0.124597\n"
          ],
          "name": "stdout"
        },
        {
          "output_type": "stream",
          "text": [
            "/usr/local/lib/python3.6/dist-packages/torch/nn/_reduction.py:43: UserWarning: size_average and reduce args will be deprecated, please use reduction='sum' instead.\n",
            "  warnings.warn(warning.format(ret))\n"
          ],
          "name": "stderr"
        },
        {
          "output_type": "stream",
          "text": [
            "\n",
            "Test set, Epoch 1 , Average loss: 0.1271, Accuracy: 9595/10000 (96%)\n",
            "\n",
            "Train set, Epoch 2 [0/60000 (0%)]\tLoss: 0.122956\n",
            "Train set, Epoch 2 [6400/60000 (11%)]\tLoss: 0.056236\n",
            "Train set, Epoch 2 [12800/60000 (21%)]\tLoss: 0.260173\n",
            "Train set, Epoch 2 [19200/60000 (32%)]\tLoss: 0.111177\n",
            "Train set, Epoch 2 [25600/60000 (43%)]\tLoss: 0.087242\n",
            "Train set, Epoch 2 [32000/60000 (53%)]\tLoss: 0.079405\n",
            "Train set, Epoch 2 [38400/60000 (64%)]\tLoss: 0.154342\n",
            "Train set, Epoch 2 [44800/60000 (75%)]\tLoss: 0.043412\n",
            "Train set, Epoch 2 [51200/60000 (85%)]\tLoss: 0.111378\n",
            "Train set, Epoch 2 [57600/60000 (96%)]\tLoss: 0.094715\n",
            "\n",
            "Test set, Epoch 2 , Average loss: 0.1065, Accuracy: 9654/10000 (97%)\n",
            "\n",
            "Train set, Epoch 3 [0/60000 (0%)]\tLoss: 0.141730\n",
            "Train set, Epoch 3 [6400/60000 (11%)]\tLoss: 0.028807\n",
            "Train set, Epoch 3 [12800/60000 (21%)]\tLoss: 0.060322\n",
            "Train set, Epoch 3 [19200/60000 (32%)]\tLoss: 0.055607\n",
            "Train set, Epoch 3 [25600/60000 (43%)]\tLoss: 0.076396\n",
            "Train set, Epoch 3 [32000/60000 (53%)]\tLoss: 0.041063\n",
            "Train set, Epoch 3 [38400/60000 (64%)]\tLoss: 0.085574\n",
            "Train set, Epoch 3 [44800/60000 (75%)]\tLoss: 0.026864\n",
            "Train set, Epoch 3 [51200/60000 (85%)]\tLoss: 0.027914\n",
            "Train set, Epoch 3 [57600/60000 (96%)]\tLoss: 0.035504\n",
            "\n",
            "Test set, Epoch 3 , Average loss: 0.0654, Accuracy: 9803/10000 (98%)\n",
            "\n",
            "Train set, Epoch 4 [0/60000 (0%)]\tLoss: 0.028410\n",
            "Train set, Epoch 4 [6400/60000 (11%)]\tLoss: 0.029777\n",
            "Train set, Epoch 4 [12800/60000 (21%)]\tLoss: 0.025189\n",
            "Train set, Epoch 4 [19200/60000 (32%)]\tLoss: 0.214681\n",
            "Train set, Epoch 4 [25600/60000 (43%)]\tLoss: 0.116581\n",
            "Train set, Epoch 4 [32000/60000 (53%)]\tLoss: 0.042698\n",
            "Train set, Epoch 4 [38400/60000 (64%)]\tLoss: 0.015656\n",
            "Train set, Epoch 4 [44800/60000 (75%)]\tLoss: 0.124302\n",
            "Train set, Epoch 4 [51200/60000 (85%)]\tLoss: 0.061978\n",
            "Train set, Epoch 4 [57600/60000 (96%)]\tLoss: 0.046806\n",
            "\n",
            "Test set, Epoch 4 , Average loss: 0.0564, Accuracy: 9819/10000 (98%)\n",
            "\n",
            "Train set, Epoch 5 [0/60000 (0%)]\tLoss: 0.044701\n",
            "Train set, Epoch 5 [6400/60000 (11%)]\tLoss: 0.027658\n",
            "Train set, Epoch 5 [12800/60000 (21%)]\tLoss: 0.052783\n",
            "Train set, Epoch 5 [19200/60000 (32%)]\tLoss: 0.037395\n",
            "Train set, Epoch 5 [25600/60000 (43%)]\tLoss: 0.238857\n",
            "Train set, Epoch 5 [32000/60000 (53%)]\tLoss: 0.037771\n",
            "Train set, Epoch 5 [38400/60000 (64%)]\tLoss: 0.091367\n",
            "Train set, Epoch 5 [44800/60000 (75%)]\tLoss: 0.025187\n",
            "Train set, Epoch 5 [51200/60000 (85%)]\tLoss: 0.171236\n",
            "Train set, Epoch 5 [57600/60000 (96%)]\tLoss: 0.029826\n",
            "\n",
            "Test set, Epoch 5 , Average loss: 0.0542, Accuracy: 9817/10000 (98%)\n",
            "\n",
            "Train set, Epoch 6 [0/60000 (0%)]\tLoss: 0.018519\n",
            "Train set, Epoch 6 [6400/60000 (11%)]\tLoss: 0.059845\n",
            "Train set, Epoch 6 [12800/60000 (21%)]\tLoss: 0.025090\n",
            "Train set, Epoch 6 [19200/60000 (32%)]\tLoss: 0.023249\n",
            "Train set, Epoch 6 [25600/60000 (43%)]\tLoss: 0.068763\n",
            "Train set, Epoch 6 [32000/60000 (53%)]\tLoss: 0.026272\n",
            "Train set, Epoch 6 [38400/60000 (64%)]\tLoss: 0.015383\n",
            "Train set, Epoch 6 [44800/60000 (75%)]\tLoss: 0.023115\n",
            "Train set, Epoch 6 [51200/60000 (85%)]\tLoss: 0.096826\n",
            "Train set, Epoch 6 [57600/60000 (96%)]\tLoss: 0.006715\n",
            "\n",
            "Test set, Epoch 6 , Average loss: 0.0461, Accuracy: 9851/10000 (99%)\n",
            "\n",
            "Train set, Epoch 7 [0/60000 (0%)]\tLoss: 0.074042\n",
            "Train set, Epoch 7 [6400/60000 (11%)]\tLoss: 0.055926\n",
            "Train set, Epoch 7 [12800/60000 (21%)]\tLoss: 0.157031\n",
            "Train set, Epoch 7 [19200/60000 (32%)]\tLoss: 0.034175\n",
            "Train set, Epoch 7 [25600/60000 (43%)]\tLoss: 0.065114\n",
            "Train set, Epoch 7 [32000/60000 (53%)]\tLoss: 0.014378\n",
            "Train set, Epoch 7 [38400/60000 (64%)]\tLoss: 0.025236\n",
            "Train set, Epoch 7 [44800/60000 (75%)]\tLoss: 0.092153\n",
            "Train set, Epoch 7 [51200/60000 (85%)]\tLoss: 0.045958\n",
            "Train set, Epoch 7 [57600/60000 (96%)]\tLoss: 0.015903\n",
            "\n",
            "Test set, Epoch 7 , Average loss: 0.0380, Accuracy: 9871/10000 (99%)\n",
            "\n",
            "Train set, Epoch 8 [0/60000 (0%)]\tLoss: 0.013485\n",
            "Train set, Epoch 8 [6400/60000 (11%)]\tLoss: 0.010434\n",
            "Train set, Epoch 8 [12800/60000 (21%)]\tLoss: 0.010032\n",
            "Train set, Epoch 8 [19200/60000 (32%)]\tLoss: 0.029373\n",
            "Train set, Epoch 8 [25600/60000 (43%)]\tLoss: 0.097387\n",
            "Train set, Epoch 8 [32000/60000 (53%)]\tLoss: 0.044672\n",
            "Train set, Epoch 8 [38400/60000 (64%)]\tLoss: 0.029341\n",
            "Train set, Epoch 8 [44800/60000 (75%)]\tLoss: 0.045393\n",
            "Train set, Epoch 8 [51200/60000 (85%)]\tLoss: 0.002756\n",
            "Train set, Epoch 8 [57600/60000 (96%)]\tLoss: 0.012727\n",
            "\n",
            "Test set, Epoch 8 , Average loss: 0.0351, Accuracy: 9892/10000 (99%)\n",
            "\n",
            "Train set, Epoch 9 [0/60000 (0%)]\tLoss: 0.024910\n",
            "Train set, Epoch 9 [6400/60000 (11%)]\tLoss: 0.019283\n",
            "Train set, Epoch 9 [12800/60000 (21%)]\tLoss: 0.021649\n",
            "Train set, Epoch 9 [19200/60000 (32%)]\tLoss: 0.071228\n",
            "Train set, Epoch 9 [25600/60000 (43%)]\tLoss: 0.005792\n",
            "Train set, Epoch 9 [32000/60000 (53%)]\tLoss: 0.045057\n",
            "Train set, Epoch 9 [38400/60000 (64%)]\tLoss: 0.003318\n",
            "Train set, Epoch 9 [44800/60000 (75%)]\tLoss: 0.044800\n",
            "Train set, Epoch 9 [51200/60000 (85%)]\tLoss: 0.069590\n",
            "Train set, Epoch 9 [57600/60000 (96%)]\tLoss: 0.095640\n",
            "\n",
            "Test set, Epoch 9 , Average loss: 0.0455, Accuracy: 9850/10000 (98%)\n",
            "\n",
            "Train set, Epoch 10 [0/60000 (0%)]\tLoss: 0.026176\n",
            "Train set, Epoch 10 [6400/60000 (11%)]\tLoss: 0.012678\n",
            "Train set, Epoch 10 [12800/60000 (21%)]\tLoss: 0.029479\n",
            "Train set, Epoch 10 [19200/60000 (32%)]\tLoss: 0.000815\n",
            "Train set, Epoch 10 [25600/60000 (43%)]\tLoss: 0.003438\n",
            "Train set, Epoch 10 [32000/60000 (53%)]\tLoss: 0.014697\n",
            "Train set, Epoch 10 [38400/60000 (64%)]\tLoss: 0.023537\n",
            "Train set, Epoch 10 [44800/60000 (75%)]\tLoss: 0.058405\n",
            "Train set, Epoch 10 [51200/60000 (85%)]\tLoss: 0.020089\n",
            "Train set, Epoch 10 [57600/60000 (96%)]\tLoss: 0.013678\n",
            "\n",
            "Test set, Epoch 10 , Average loss: 0.0402, Accuracy: 9862/10000 (99%)\n",
            "\n"
          ],
          "name": "stdout"
        }
      ]
    },
    {
      "cell_type": "code",
      "metadata": {
        "id": "YIQrOF8x5YHo",
        "colab_type": "code",
        "colab": {}
      },
      "source": [
        ""
      ],
      "execution_count": 0,
      "outputs": []
    }
  ]
}