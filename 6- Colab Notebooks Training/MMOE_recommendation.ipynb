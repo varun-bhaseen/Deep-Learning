{
  "nbformat": 4,
  "nbformat_minor": 0,
  "metadata": {
    "colab": {
      "name": "MMOE_presentation.ipynb",
      "provenance": [],
      "collapsed_sections": [],
      "machine_shape": "hm",
      "include_colab_link": true
    },
    "kernelspec": {
      "name": "python3",
      "display_name": "Python 3"
    },
    "accelerator": "GPU"
  },
  "cells": [
    {
      "cell_type": "markdown",
      "metadata": {
        "id": "view-in-github",
        "colab_type": "text"
      },
      "source": [
        "<a href=\"https://colab.research.google.com/github/varun-bhaseen/Deep-Learning/blob/master/6-%20Colab%20Notebooks%20Training/MMOE_recommendation.ipynb\" target=\"_parent\"><img src=\"https://colab.research.google.com/assets/colab-badge.svg\" alt=\"Open In Colab\"/></a>"
      ]
    },
    {
      "cell_type": "markdown",
      "metadata": {
        "id": "wYy5LbQzCVoc"
      },
      "source": [
        "# **Recommendation System using MMoE(Multi-gate Mixture-of-Experts)**\n",
        "\n",
        "**By GPSV Team:**\n",
        "\n",
        "Gulnara Timokhina,\n",
        "Mirsaeid Abolghasemi,\n",
        "Poornapragna Vadiraj,\n",
        "Varun Bhaseen\n",
        "\n",
        "\n",
        "**Professor:** Vijay Eranti\n",
        "\n",
        "**Class:** Advance Deep Learning (CMPE 297 sec 49)"
      ]
    },
    {
      "cell_type": "code",
      "metadata": {
        "colab": {
          "base_uri": "https://localhost:8080/"
        },
        "id": "fOjkL5Wql6zN",
        "outputId": "be69f97b-14e4-4dbe-afa2-5cc1e1d51924"
      },
      "source": [
        "!pip install transformers"
      ],
      "execution_count": null,
      "outputs": [
        {
          "output_type": "stream",
          "text": [
            "Requirement already satisfied: transformers in /usr/local/lib/python3.6/dist-packages (4.0.0)\n",
            "Requirement already satisfied: sacremoses in /usr/local/lib/python3.6/dist-packages (from transformers) (0.0.43)\n",
            "Requirement already satisfied: numpy in /usr/local/lib/python3.6/dist-packages (from transformers) (1.18.5)\n",
            "Requirement already satisfied: dataclasses; python_version < \"3.7\" in /usr/local/lib/python3.6/dist-packages (from transformers) (0.8)\n",
            "Requirement already satisfied: packaging in /usr/local/lib/python3.6/dist-packages (from transformers) (20.4)\n",
            "Requirement already satisfied: filelock in /usr/local/lib/python3.6/dist-packages (from transformers) (3.0.12)\n",
            "Requirement already satisfied: requests in /usr/local/lib/python3.6/dist-packages (from transformers) (2.23.0)\n",
            "Requirement already satisfied: tqdm>=4.27 in /usr/local/lib/python3.6/dist-packages (from transformers) (4.41.1)\n",
            "Requirement already satisfied: tokenizers==0.9.4 in /usr/local/lib/python3.6/dist-packages (from transformers) (0.9.4)\n",
            "Requirement already satisfied: regex!=2019.12.17 in /usr/local/lib/python3.6/dist-packages (from transformers) (2019.12.20)\n",
            "Requirement already satisfied: click in /usr/local/lib/python3.6/dist-packages (from sacremoses->transformers) (7.1.2)\n",
            "Requirement already satisfied: joblib in /usr/local/lib/python3.6/dist-packages (from sacremoses->transformers) (0.17.0)\n",
            "Requirement already satisfied: six in /usr/local/lib/python3.6/dist-packages (from sacremoses->transformers) (1.15.0)\n",
            "Requirement already satisfied: pyparsing>=2.0.2 in /usr/local/lib/python3.6/dist-packages (from packaging->transformers) (2.4.7)\n",
            "Requirement already satisfied: chardet<4,>=3.0.2 in /usr/local/lib/python3.6/dist-packages (from requests->transformers) (3.0.4)\n",
            "Requirement already satisfied: certifi>=2017.4.17 in /usr/local/lib/python3.6/dist-packages (from requests->transformers) (2020.11.8)\n",
            "Requirement already satisfied: urllib3!=1.25.0,!=1.25.1,<1.26,>=1.21.1 in /usr/local/lib/python3.6/dist-packages (from requests->transformers) (1.24.3)\n",
            "Requirement already satisfied: idna<3,>=2.5 in /usr/local/lib/python3.6/dist-packages (from requests->transformers) (2.10)\n"
          ],
          "name": "stdout"
        }
      ]
    },
    {
      "cell_type": "markdown",
      "metadata": {
        "id": "8at0YRSLTHJy"
      },
      "source": [
        "## **Importing libraries needed for the project**"
      ]
    },
    {
      "cell_type": "code",
      "metadata": {
        "id": "wK9t7F2hltDe"
      },
      "source": [
        "import tensorflow as tf\n",
        "from tensorflow.keras import backend as K\n",
        "from tensorflow.keras import activations, initializers, regularizers, constraints\n",
        "from tensorflow.keras.layers import Layer, InputSpec\n",
        "import pandas as pd\n",
        "import json\n",
        "import numpy as np\n",
        "from tensorflow.keras.optimizers import Adam\n",
        "from tensorflow.keras.initializers import VarianceScaling\n",
        "from tensorflow.keras.layers import Input, Dense,Concatenate,ReLU,Dropout\n",
        "from tensorflow.keras.models import Model\n",
        "from tensorflow.keras.callbacks import Callback\n",
        "from sklearn.metrics import roc_auc_score,explained_variance_score\n",
        "from sklearn.model_selection import train_test_split\n",
        "from sklearn.preprocessing import MinMaxScaler\n",
        "from transformers import BertTokenizer, TFBertModel\n",
        "from scipy.special import expit\n",
        "import random"
      ],
      "execution_count": null,
      "outputs": []
    },
    {
      "cell_type": "code",
      "metadata": {
        "id": "Cmdrf90tTTXS"
      },
      "source": [
        "# Fix random seed for reproducibility\n",
        "SEED = 1\n",
        "np.random.seed(SEED)\n",
        "random.seed(SEED)"
      ],
      "execution_count": null,
      "outputs": []
    },
    {
      "cell_type": "markdown",
      "metadata": {
        "id": "kn8DRDyITVsA"
      },
      "source": [
        "## Mounting our Google drive "
      ]
    },
    {
      "cell_type": "code",
      "metadata": {
        "colab": {
          "base_uri": "https://localhost:8080/"
        },
        "id": "nv_mbh_blNo4",
        "outputId": "d4ab011b-be20-4b50-fdfa-798d6ee2c343"
      },
      "source": [
        "from google.colab import drive\n",
        "drive.mount('/content/drive')"
      ],
      "execution_count": null,
      "outputs": [
        {
          "output_type": "stream",
          "text": [
            "Drive already mounted at /content/drive; to attempt to forcibly remount, call drive.mount(\"/content/drive\", force_remount=True).\n"
          ],
          "name": "stdout"
        }
      ]
    },
    {
      "cell_type": "markdown",
      "metadata": {
        "id": "RW3-ZNqdUCyV"
      },
      "source": [
        "## Copying the dataset "
      ]
    },
    {
      "cell_type": "markdown",
      "metadata": {
        "id": "ylkLDrGLU8aC"
      },
      "source": [
        "Reference: https://www.kaggle.com/"
      ]
    },
    {
      "cell_type": "code",
      "metadata": {
        "id": "8Fm4Td38lfbo"
      },
      "source": [
        "!cp \"/content/drive/MyDrive/DL Project_Recommendation System/Code/videos.csv\" ./"
      ],
      "execution_count": null,
      "outputs": []
    },
    {
      "cell_type": "code",
      "metadata": {
        "colab": {
          "base_uri": "https://localhost:8080/"
        },
        "id": "U46KIhs8UaOa",
        "outputId": "f9bbd9b9-25f0-4bb7-ecb7-e471f44ca7a8"
      },
      "source": [
        "! head -1 videos.csv"
      ],
      "execution_count": null,
      "outputs": [
        {
          "output_type": "stream",
          "text": [
            ",video_id,title,tags,views,likes,dislikes,comment_total,userId,user_click,user_rating,user_like,time_spend,position,pos_bias,device_info,video_emb,user_emb\n"
          ],
          "name": "stdout"
        }
      ]
    },
    {
      "cell_type": "markdown",
      "metadata": {
        "id": "A_uUDRNnMKa4"
      },
      "source": [
        "## Importing TensorBoard"
      ]
    },
    {
      "cell_type": "markdown",
      "metadata": {
        "id": "di3mHGtbYqqj"
      },
      "source": [
        "![Screen Shot 2020-12-07 at 2.45.43 PM.png](data:image/png;base64,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)"
      ]
    },
    {
      "cell_type": "code",
      "metadata": {
        "colab": {
          "base_uri": "https://localhost:8080/",
          "height": 890
        },
        "id": "wUNGRnOwMJPx",
        "outputId": "f33b6982-7cad-43b8-a346-9207758c22fc"
      },
      "source": [
        "import os\n",
        "%load_ext tensorboard\n",
        "%tensorboard --logdir=./my_logs --port=6006\n",
        "\n",
        "root_logdir = os.path.join(os.curdir, \"my_logs\")\n",
        "def get_run_logdir():\n",
        "    import time\n",
        "    run_id = time.strftime(\"run_%Y_%m_%d-%H_%M_%S\")\n",
        "    return os.path.join(root_logdir, run_id)\n",
        "\n",
        "run_logdir = get_run_logdir()\n",
        "run_logdir\n"
      ],
      "execution_count": null,
      "outputs": []
    },
    {
      "cell_type": "markdown",
      "metadata": {
        "id": "E6qlSjAgo-Xf"
      },
      "source": [
        "# Mixture-of-Experts and Network of Gates\n",
        "\n",
        "Using the Wide & Deep model architecture by adopting Multi-gate Mixture-of-Experts (MMoE) for multitask learning to resolve task conflict.\n",
        "\n",
        "\n",
        "NOTE: We have used prebuilt model. Reference GitHub Link [here](https://github.com/drawbridge/keras-mmoe/blob/master/mmoe.py)"
      ]
    },
    {
      "cell_type": "code",
      "metadata": {
        "id": "kjBV8dEJloSm"
      },
      "source": [
        "class MMoE(Layer):\n",
        "    \"\"\"\n",
        "    Multi-gate Mixture-of-Experts model.\n",
        "    \"\"\"\n",
        "\n",
        "    def __init__(self,\n",
        "                 units,\n",
        "                 num_experts,\n",
        "                 num_tasks,\n",
        "                 use_expert_bias=True,\n",
        "                 use_gate_bias=True,\n",
        "                 expert_activation='relu',\n",
        "                 gate_activation='softmax',\n",
        "                 expert_bias_initializer='zeros',\n",
        "                 gate_bias_initializer='zeros',\n",
        "                 expert_bias_regularizer=None,\n",
        "                 gate_bias_regularizer=None,\n",
        "                 expert_bias_constraint=None,\n",
        "                 gate_bias_constraint=None,\n",
        "                 expert_kernel_initializer='VarianceScaling',\n",
        "                 gate_kernel_initializer='VarianceScaling',\n",
        "                 expert_kernel_regularizer=None,\n",
        "                 gate_kernel_regularizer=None,\n",
        "                 expert_kernel_constraint=None,\n",
        "                 gate_kernel_constraint=None,\n",
        "                 activity_regularizer=None,\n",
        "                 **kwargs):\n",
        "        \"\"\"\n",
        "         Method for instantiating MMoE layer.\n",
        "        :param units: Number of hidden units\n",
        "        :param num_experts: Number of experts\n",
        "        :param num_tasks: Number of tasks\n",
        "        :param use_expert_bias: Boolean to indicate the usage of bias in the expert weights\n",
        "        :param use_gate_bias: Boolean to indicate the usage of bias in the gate weights\n",
        "        :param expert_activation: Activation function of the expert weights\n",
        "        :param gate_activation: Activation function of the gate weights\n",
        "        :param expert_bias_initializer: Initializer for the expert bias\n",
        "        :param gate_bias_initializer: Initializer for the gate bias\n",
        "        :param expert_bias_regularizer: Regularizer for the expert bias\n",
        "        :param gate_bias_regularizer: Regularizer for the gate bias\n",
        "        :param expert_bias_constraint: Constraint for the expert bias\n",
        "        :param gate_bias_constraint: Constraint for the gate bias\n",
        "        :param expert_kernel_initializer: Initializer for the expert weights\n",
        "        :param gate_kernel_initializer: Initializer for the gate weights\n",
        "        :param expert_kernel_regularizer: Regularizer for the expert weights\n",
        "        :param gate_kernel_regularizer: Regularizer for the gate weights\n",
        "        :param expert_kernel_constraint: Constraint for the expert weights\n",
        "        :param gate_kernel_constraint: Constraint for the gate weights\n",
        "        :param activity_regularizer: Regularizer for the activity\n",
        "        :param kwargs: Additional keyword arguments for the Layer class\n",
        "        \"\"\"\n",
        "        # Hidden nodes parameter\n",
        "        self.units = units\n",
        "        self.num_experts = num_experts\n",
        "        self.num_tasks = num_tasks\n",
        "\n",
        "        # Weight parameter\n",
        "        self.expert_kernels = None\n",
        "        self.gate_kernels = None\n",
        "        self.expert_kernel_initializer = initializers.get(expert_kernel_initializer)\n",
        "        self.gate_kernel_initializer = initializers.get(gate_kernel_initializer)\n",
        "        self.expert_kernel_regularizer = regularizers.get(expert_kernel_regularizer)\n",
        "        self.gate_kernel_regularizer = regularizers.get(gate_kernel_regularizer)\n",
        "        self.expert_kernel_constraint = constraints.get(expert_kernel_constraint)\n",
        "        self.gate_kernel_constraint = constraints.get(gate_kernel_constraint)\n",
        "\n",
        "        # Activation parameter\n",
        "        self.expert_activation = activations.get(expert_activation)\n",
        "        self.gate_activation = activations.get(gate_activation)\n",
        "\n",
        "        # Bias parameter\n",
        "        self.expert_bias = None\n",
        "        self.gate_bias = None\n",
        "        self.use_expert_bias = use_expert_bias\n",
        "        self.use_gate_bias = use_gate_bias\n",
        "        self.expert_bias_initializer = initializers.get(expert_bias_initializer)\n",
        "        self.gate_bias_initializer = initializers.get(gate_bias_initializer)\n",
        "        self.expert_bias_regularizer = regularizers.get(expert_bias_regularizer)\n",
        "        self.gate_bias_regularizer = regularizers.get(gate_bias_regularizer)\n",
        "        self.expert_bias_constraint = constraints.get(expert_bias_constraint)\n",
        "        self.gate_bias_constraint = constraints.get(gate_bias_constraint)\n",
        "\n",
        "        # Activity parameter\n",
        "        self.activity_regularizer = regularizers.get(activity_regularizer)\n",
        "\n",
        "        # Keras parameter\n",
        "        self.input_spec = InputSpec(min_ndim=2)\n",
        "        self.supports_masking = True\n",
        "\n",
        "        super(MMoE, self).__init__(**kwargs)\n",
        "\n",
        "    def build(self, input_shape):\n",
        "        \"\"\"\n",
        "        Method for creating the layer weights.\n",
        "        :param input_shape: Keras tensor (future input to layer)\n",
        "                            or list/tuple of Keras tensors to reference\n",
        "                            for weight shape computations\n",
        "        \"\"\"\n",
        "        assert input_shape is not None and len(input_shape) >= 2\n",
        "\n",
        "        input_dimension = input_shape[-1]\n",
        "\n",
        "        # Initialize expert weights (number of input features * number of units per expert * number of experts)\n",
        "        self.expert_kernels = self.add_weight(\n",
        "            name='expert_kernel',\n",
        "            shape=(input_dimension, self.units, self.num_experts),\n",
        "            initializer=self.expert_kernel_initializer,\n",
        "            regularizer=self.expert_kernel_regularizer,\n",
        "            constraint=self.expert_kernel_constraint,\n",
        "        )\n",
        "\n",
        "        # Initialize expert bias (number of units per expert * number of experts)\n",
        "        if self.use_expert_bias:\n",
        "            self.expert_bias = self.add_weight(\n",
        "                name='expert_bias',\n",
        "                shape=(self.units, self.num_experts),\n",
        "                initializer=self.expert_bias_initializer,\n",
        "                regularizer=self.expert_bias_regularizer,\n",
        "                constraint=self.expert_bias_constraint,\n",
        "            )\n",
        "\n",
        "        # Initialize gate weights (number of input features * number of experts * number of tasks)\n",
        "        self.gate_kernels = [self.add_weight(\n",
        "            name='gate_kernel_task_{}'.format(i),\n",
        "            shape=(input_dimension, self.num_experts),\n",
        "            initializer=self.gate_kernel_initializer,\n",
        "            regularizer=self.gate_kernel_regularizer,\n",
        "            constraint=self.gate_kernel_constraint\n",
        "        ) for i in range(self.num_tasks)]\n",
        "\n",
        "        # Initialize gate bias (number of experts * number of tasks)\n",
        "        if self.use_gate_bias:\n",
        "            self.gate_bias = [self.add_weight(\n",
        "                name='gate_bias_task_{}'.format(i),\n",
        "                shape=(self.num_experts,),\n",
        "                initializer=self.gate_bias_initializer,\n",
        "                regularizer=self.gate_bias_regularizer,\n",
        "                constraint=self.gate_bias_constraint\n",
        "            ) for i in range(self.num_tasks)]\n",
        "\n",
        "        self.input_spec = InputSpec(min_ndim=2, axes={-1: input_dimension})\n",
        "\n",
        "        super(MMoE, self).build(input_shape)\n",
        "\n",
        "    def call(self, inputs, **kwargs):\n",
        "        \"\"\"\n",
        "        Method for the forward function of the layer.\n",
        "        :param inputs: Input tensor\n",
        "        :param kwargs: Additional keyword arguments for the base method\n",
        "        :return: A tensor\n",
        "        \"\"\"\n",
        "        gate_outputs = []\n",
        "        final_outputs = []\n",
        "\n",
        "        # f_{i}(x) = activation(W_{i} * x + b), where activation is ReLU according to the paper\n",
        "        expert_outputs = tf.tensordot(a=inputs, b=self.expert_kernels, axes=1)\n",
        "        # Add the bias term to the expert weights if necessary\n",
        "        if self.use_expert_bias:\n",
        "            expert_outputs = K.bias_add(x=expert_outputs, bias=self.expert_bias)\n",
        "        expert_outputs = self.expert_activation(expert_outputs)\n",
        "\n",
        "        # g^{k}(x) = activation(W_{gk} * x + b), where activation is softmax according to the paper\n",
        "        for index, gate_kernel in enumerate(self.gate_kernels):\n",
        "            gate_output = K.dot(x=inputs, y=gate_kernel)\n",
        "            # Add the bias term to the gate weights if necessary\n",
        "            if self.use_gate_bias:\n",
        "                gate_output = K.bias_add(x=gate_output, bias=self.gate_bias[index])\n",
        "            gate_output = self.gate_activation(gate_output)\n",
        "            gate_outputs.append(gate_output)\n",
        "\n",
        "        # f^{k}(x) = sum_{i=1}^{n}(g^{k}(x)_{i} * f_{i}(x))\n",
        "        for gate_output in gate_outputs:\n",
        "            expanded_gate_output = K.expand_dims(gate_output, axis=1)\n",
        "            weighted_expert_output = expert_outputs * K.repeat_elements(expanded_gate_output, self.units, axis=1)\n",
        "            final_outputs.append(K.sum(weighted_expert_output, axis=2))\n",
        "\n",
        "        return final_outputs\n",
        "\n",
        "    def compute_output_shape(self, input_shape):\n",
        "        \"\"\"\n",
        "        Method for computing the output shape of the MMoE layer.\n",
        "        :param input_shape: Shape tuple (tuple of integers)\n",
        "        :return: List of input shape tuple where the size of the list is equal to the number of tasks\n",
        "        \"\"\"\n",
        "        assert input_shape is not None and len(input_shape) >= 2\n",
        "\n",
        "        output_shape = list(input_shape)\n",
        "        output_shape[-1] = self.units\n",
        "        output_shape = tuple(output_shape)\n",
        "\n",
        "        return [output_shape for _ in range(self.num_tasks)]\n",
        "\n",
        "    def get_config(self):\n",
        "        \"\"\"\n",
        "        Method for returning the configuration of the MMoE layer.\n",
        "        :return: Config dictionary\n",
        "        \"\"\"\n",
        "        config = {\n",
        "            'units': self.units,\n",
        "            'num_experts': self.num_experts,\n",
        "            'num_tasks': self.num_tasks,\n",
        "            'use_expert_bias': self.use_expert_bias,\n",
        "            'use_gate_bias': self.use_gate_bias,\n",
        "            'expert_activation': activations.serialize(self.expert_activation),\n",
        "            'gate_activation': activations.serialize(self.gate_activation),\n",
        "            'expert_bias_initializer': initializers.serialize(self.expert_bias_initializer),\n",
        "            'gate_bias_initializer': initializers.serialize(self.gate_bias_initializer),\n",
        "            'expert_bias_regularizer': regularizers.serialize(self.expert_bias_regularizer),\n",
        "            'gate_bias_regularizer': regularizers.serialize(self.gate_bias_regularizer),\n",
        "            'expert_bias_constraint': constraints.serialize(self.expert_bias_constraint),\n",
        "            'gate_bias_constraint': constraints.serialize(self.gate_bias_constraint),\n",
        "            'expert_kernel_initializer': initializers.serialize(self.expert_kernel_initializer),\n",
        "            'gate_kernel_initializer': initializers.serialize(self.gate_kernel_initializer),\n",
        "            'expert_kernel_regularizer': regularizers.serialize(self.expert_kernel_regularizer),\n",
        "            'gate_kernel_regularizer': regularizers.serialize(self.gate_kernel_regularizer),\n",
        "            'expert_kernel_constraint': constraints.serialize(self.expert_kernel_constraint),\n",
        "            'gate_kernel_constraint': constraints.serialize(self.gate_kernel_constraint),\n",
        "            'activity_regularizer': regularizers.serialize(self.activity_regularizer)\n",
        "        }\n",
        "        base_config = super(MMoE, self).get_config()\n",
        "\n",
        "        return dict(list(base_config.items()) + list(config.items()))"
      ],
      "execution_count": null,
      "outputs": []
    },
    {
      "cell_type": "markdown",
      "metadata": {
        "id": "cz__wciUmRa2"
      },
      "source": [
        "Prepare Data"
      ]
    },
    {
      "cell_type": "code",
      "metadata": {
        "id": "Fql2XwM4mKod"
      },
      "source": [
        "def prepare_data(filename):\n",
        "    \n",
        "    df = pd.read_csv(filename)\n",
        "    \n",
        "    # get text embeddings\n",
        "    print(\"generating bert embedding videos ....\")\n",
        "    \n",
        "    # title as video embeddings\n",
        "    df['video_emb'] = df['title']\n",
        "\n",
        "    tokenizer = BertTokenizer.from_pretrained('bert-base-cased')\n",
        "    model = TFBertModel.from_pretrained('bert-base-cased')\n",
        "    max_length = 10 \n",
        "    batch_encoding = tokenizer.batch_encode_plus(df['video_emb'].tolist(), max_length=max_length, pad_to_max_length=True)\n",
        "\n",
        "    outputs = model(tf.convert_to_tensor(batch_encoding['input_ids'])) # shape: (batch,sequence length, hidden state)\n",
        "    embeddings_video = tf.reduce_mean(outputs[0],1)\n",
        "    df['video_emb'] = embeddings_video.numpy().tolist()\n",
        "  \n",
        "    print(\"generating bert embedding for user...\")\n",
        "    # assuming tags as user interested tags\n",
        "    batch_encoding_user = tokenizer.batch_encode_plus(df['tags'].tolist(), max_length=max_length, pad_to_max_length=True)\n",
        "    outputs_user = model(tf.convert_to_tensor(batch_encoding_user['input_ids'])) # shape: (batch,sequence length, hidden state)\n",
        "    embeddings_user = tf.reduce_mean(outputs_user[0],1)\n",
        "    df['user_emb'] = embeddings_user.numpy().tolist()\n",
        "\n",
        "    # min max scaling\n",
        "    scaler = MinMaxScaler()\n",
        "    df[['views', 'likes', 'dislikes','comment_total']] = scaler.fit_transform(df[['views', 'likes', 'dislikes','comment_total']])\n",
        "\n",
        "    df = df.reset_index(drop=True) #shuffle df\n",
        "    return df"
      ],
      "execution_count": null,
      "outputs": []
    },
    {
      "cell_type": "code",
      "metadata": {
        "id": "VI9LMrtnnK-G"
      },
      "source": [
        "# Simple callback to print out ROC-AUC, only for classification\n",
        "class ROCCallback(Callback):\n",
        "    def __init__(self, training_data, validation_data):\n",
        "        self.train_X = training_data[0]\n",
        "        self.train_Y = training_data[1]\n",
        "        self.validation_X = validation_data[0]\n",
        "        self.validation_Y = validation_data[1]\n",
        "\n",
        "    def on_train_begin(self, logs={}):\n",
        "        return\n",
        "\n",
        "    def on_train_end(self, logs={}):\n",
        "        return\n",
        "\n",
        "    def on_epoch_begin(self, epoch, logs={}):\n",
        "        return\n",
        "\n",
        "    def on_epoch_end(self, epoch, logs={}):\n",
        "        train_prediction = self.model.predict(self.train_X)\n",
        "        validation_prediction = self.model.predict(self.validation_X)\n",
        "        \n",
        "        # Iterate through each task and output their ROC-AUC across different datasets\n",
        "        for index, output_name in enumerate(self.model.output_names):\n",
        "            if (output_name == 'user_click') or (output_name == 'user_like'): # cassification is roc-auc score\n",
        "                train_roc_auc = roc_auc_score(self.train_Y[index], np.squeeze(train_prediction[index]))\n",
        "                validation_roc_auc = roc_auc_score(self.validation_Y[index], np.squeeze(validation_prediction[index]))\n",
        "                print(\n",
        "                    'ROC-AUC-{}-Train: {} ROC-AUC-{}-Validation: {}'.format(\n",
        "                        output_name, round(train_roc_auc, 4),\n",
        "                        output_name, round(validation_roc_auc, 4)\n",
        "                    )\n",
        "                )\n",
        "            elif (output_name == 'user_rating') or (output_name == 'time_spend'): # regression is explained variance\n",
        "                train_roc_auc = explained_variance_score(self.train_Y[index], np.squeeze(train_prediction[index]))\n",
        "                validation_roc_auc = explained_variance_score(self.validation_Y[index], np.squeeze(validation_prediction[index]))\n",
        "                print(\n",
        "                    'explained-variance-score-{}-Train: {} explained-variance-score-{}-Validation: {}'.format(\n",
        "                        output_name, round(train_roc_auc, 4),\n",
        "                        output_name, round(validation_roc_auc, 4)\n",
        "                    )\n",
        "                )\n",
        "\n",
        "        return\n",
        "\n",
        "    def on_batch_begin(self, batch, logs={}):\n",
        "        return\n",
        "\n",
        "    def on_batch_end(self, batch, logs={}):\n",
        "        return"
      ],
      "execution_count": null,
      "outputs": []
    },
    {
      "cell_type": "markdown",
      "metadata": {
        "id": "CyBgBcw63tvx"
      },
      "source": [
        "Build the model"
      ]
    },
    {
      "cell_type": "code",
      "metadata": {
        "id": "sInOOWfhTr0A"
      },
      "source": [
        "def build_model():\n",
        "    # Set up the input layer\n",
        "    input_video_emb = Input(shape=(768,))\n",
        "    input_likes = Input(shape=(1,))\n",
        "    input_dislikes = Input(shape=(1,))\n",
        "    input_comments = Input(shape=(1,))\n",
        "    input_user_emb = Input(shape=(768,))\n",
        "    input_views = Input(shape=(1,))\n",
        "    input = Concatenate()([input_video_emb,input_user_emb,input_likes,input_dislikes,input_comments,input_views])\n",
        "    \n",
        "    input_layer = ReLU()(input)\n",
        "\n",
        "    # add the shared ReLu layer\n",
        "    # Set up MMoE layer\n",
        "    mmoe_layers = MMoE(\n",
        "        units=4,\n",
        "        num_experts=8,\n",
        "        num_tasks=4\n",
        "    )(input_layer)\n",
        "\n",
        "    output_layers = []\n",
        "    print(\"Output is user_click, user_rating, user_like and time_spend...\")\n",
        "    output_info = [(1, 'user_click'),(1,'user_rating'),(1,'user_like'),(1,'time_spend')]  \n",
        "    output_activation = ['softmax','linear','softmax','linear'] # (linear) activation for regression task; softmax for classification\n",
        "\n",
        "    # Build tower layer from MMoE layer\n",
        "    for index, task_layer in enumerate(mmoe_layers):\n",
        "        tower_layer = Dense(\n",
        "            units=8,\n",
        "            activation='relu',\n",
        "            kernel_initializer=VarianceScaling())(task_layer)\n",
        "        output_layer = Dense(\n",
        "            units=output_info[index][0],\n",
        "            name=output_info[index][1],\n",
        "            activation=output_activation[index],\n",
        "            kernel_initializer=VarianceScaling())(tower_layer)\n",
        "        output_layers.append(output_layer)\n",
        "\n",
        "    # Compile model\n",
        "    model = Model(inputs=[input_video_emb,input_user_emb,input_likes,input_dislikes,input_comments,input_views], outputs=output_layers)\n",
        "    return model"
      ],
      "execution_count": null,
      "outputs": []
    },
    {
      "cell_type": "markdown",
      "metadata": {
        "id": "OfldH2y63Jv2"
      },
      "source": [
        "Train the model"
      ]
    },
    {
      "cell_type": "code",
      "metadata": {
        "id": "K9d3KCa7m1R8"
      },
      "source": [
        "def train_ranking_model(df):\n",
        "\n",
        "    train, val = train_test_split(df, test_size=0.2)\n",
        " \n",
        "    train_label = [train[col_name].values for col_name in ['user_click', 'user_rating', 'user_like', 'time_spend']]\n",
        "    train_data = [np.asarray(np.squeeze(train[['video_emb']].values.tolist())).astype(np.float32),\n",
        "                  np.asarray(np.squeeze(train[['user_emb']].values.tolist())).astype(np.float32),\n",
        "                  train[['likes']].values,\n",
        "                  train[['dislikes']].values,\n",
        "                  train[['comment_total']].values,\n",
        "                  train[['views']].values] \n",
        "\n",
        "    validation_label = [val[col_name].values for col_name in ['user_click', 'user_rating', 'user_like', 'time_spend']]\n",
        "    validation_data = [np.asarray(np.squeeze(val[['video_emb']].values.tolist())).astype(np.float32),\n",
        "                       np.asarray(np.squeeze(val[['user_emb']].values.tolist())).astype(np.float32),\n",
        "                        val[['likes']].values,\n",
        "                        val[['dislikes']].values,\n",
        "                        val[['comment_total']].values,\n",
        "                        val[['views']].values]\n",
        "\n",
        "    print('Training data shape = {}'.format(train.shape))\n",
        "    print('Validation data shape = {}'.format(val.shape))\n",
        "\n",
        "    model = build_model()\n",
        "\n",
        "    adam_optimizer = Adam()\n",
        "    model.compile(\n",
        "        loss={'user_click': 'binary_crossentropy', 'user_rating':'MSE','user_like': 'binary_crossentropy','time_spend':'MSE'},\n",
        "        optimizer=adam_optimizer,\n",
        "        metrics=['accuracy']\n",
        "    )\n",
        "\n",
        "    # Print out model architecture summary\n",
        "    model.summary()\n",
        "\n",
        "    # CALLBACKS for main model\n",
        "    checkpoint_cb = tf.keras.callbacks.ModelCheckpoint(\"mmoe.hdf5\", save_best_only=True)\n",
        "    early_stopping_cb = tf.keras.callbacks.EarlyStopping(patience=10, restore_best_weights=True)\n",
        "    reduce_lr_cb = tf.keras.callbacks.LearningRateScheduler(lambda x: 1e-3 * 0.9 ** x)\n",
        "    tensorboard_cb = tf.keras.callbacks.TensorBoard(run_logdir)\n",
        "   \n",
        "    # Train the model,\n",
        "    model.fit(\n",
        "        x=train_data,\n",
        "        y=train_label,\n",
        "        validation_data=(validation_data, validation_label),\n",
        "        callbacks=[\n",
        "            ROCCallback(\n",
        "                training_data=(train_data, train_label),\n",
        "                validation_data=(validation_data, validation_label)\n",
        "                ),\n",
        "                checkpoint_cb, reduce_lr_cb, early_stopping_cb, tensorboard_cb\n",
        "        ],\n",
        "        epochs=30\n",
        "    )\n",
        "\n",
        "    return model"
      ],
      "execution_count": null,
      "outputs": []
    },
    {
      "cell_type": "markdown",
      "metadata": {
        "id": "04FxJmtjWtlN"
      },
      "source": [
        "# Shallow Tower\n",
        "\n",
        "To factorize bias and relevance"
      ]
    },
    {
      "cell_type": "markdown",
      "metadata": {
        "id": "5PSzklrj-2J9"
      },
      "source": [
        "The system frequently has implicit bias. For instance, a user might actually have clicked and seen a video because its rate was high, not because that the user liked it the most. Models trained to use current system generation data would therefore be biased, which will lead to a feedback loop effect. How to learn to reduce these biases successfully and reliably is an open challenge."
      ]
    },
    {
      "cell_type": "code",
      "metadata": {
        "id": "QtrIrmHyn5A1"
      },
      "source": [
        "def train_position_bias_model(df):\n",
        "    ###  ============================\n",
        "    ## adding a shallow side tower to learn selection biase\n",
        "    # measure https://en.wikipedia.org/wiki/Propensity_score_matching\n",
        "    #### =============================\n",
        "    ## train the selection bias\n",
        "    ## \"shallow tower\": input: item position; output: relevance (clicked or not);\n",
        "\n",
        "    pos_shallow_tower = tf.keras.Sequential(\n",
        "        [\n",
        "            tf.keras.layers.Dense(32, activation='relu', input_shape=(4,)),\n",
        "            tf.keras.layers.Dropout(0.2),\n",
        "            tf.keras.layers.Dense(16, activation='relu'),\n",
        "            tf.keras.layers.Dense(1, activation='softmax')\n",
        "        ]\n",
        "    )\n",
        "\n",
        "    print(\"the network for position bias prediction:\",pos_shallow_tower.summary())\n",
        "    pos_shallow_tower.compile(\n",
        "        loss='binary_crossentropy',\n",
        "        optimizer='adam',\n",
        "        metrics=['accuracy']\n",
        "    )\n",
        "\n",
        "    position_df = pd.get_dummies(df, columns=['device_info'], prefix='', prefix_sep='')[['android', 'ios', 'web','pos_bias','position']]\n",
        "    assert position_df.isnull().any().any() == False\n",
        "\n",
        "    train_pos, val_pos = train_test_split(position_df, test_size=0.2)\n",
        "    train_pos_data = train_pos.drop(columns={'pos_bias'})\n",
        "    train_pos_label = train_pos[['pos_bias']]\n",
        "\n",
        "    validation_pos_data =  val_pos.drop(columns={'pos_bias'})\n",
        "    validation_pos_label = val_pos[['pos_bias']]\n",
        "\n",
        "    # CALLBACKS for shallow tower\n",
        "    checkpoint_cb = tf.keras.callbacks.ModelCheckpoint(\"biase.hdf5\", save_best_only=True)\n",
        "    early_stopping_cb = tf.keras.callbacks.EarlyStopping(patience=10, restore_best_weights=True)\n",
        "    reduce_lr_cb = tf.keras.callbacks.LearningRateScheduler(lambda x: 1e-3 * 0.9 ** x)\n",
        "    tensorboard_cb = tf.keras.callbacks.TensorBoard(run_logdir)\n",
        "\n",
        "    pos_shallow_tower.fit(\n",
        "        x=train_pos_data,\n",
        "        y=train_pos_label,\n",
        "        validation_data=(validation_pos_data, validation_pos_label),\n",
        "        epochs=20,\n",
        "        callbacks=[checkpoint_cb, reduce_lr_cb, early_stopping_cb],\n",
        "    )\n",
        "    return pos_shallow_tower"
      ],
      "execution_count": null,
      "outputs": []
    },
    {
      "cell_type": "markdown",
      "metadata": {
        "id": "2_V5ezmgjMnp"
      },
      "source": [
        "# Function for finding final score based on weights for engagement and satification"
      ]
    },
    {
      "cell_type": "code",
      "metadata": {
        "id": "uKiBpEZWn50U"
      },
      "source": [
        "def final_score(weights_for_engagement, weights_for_satification, main_model, position_biase_model,test_main,test_position):\n",
        "\n",
        "    print(\"the manually set weights for user engagement is\", str(weights_for_engagement))\n",
        "    print(\"the manually set weights for user satisfaction is\", str(weights_for_satification))\n",
        "\n",
        "    preds = main_model.predict(test_main)\n",
        "    user_click = preds[0]\n",
        "    user_rating = preds[1]\n",
        "    user_like = preds[2]\n",
        "    time_spend = preds[3]\n",
        "\n",
        "    preds_position = position_biase_model.predict(test_position)\n",
        "    return weights_for_engagement*expit(user_click+time_spend+preds_position) + weights_for_satification*expit(user_rating+user_like)"
      ],
      "execution_count": null,
      "outputs": []
    },
    {
      "cell_type": "markdown",
      "metadata": {
        "id": "HEqoRpyzpCK9"
      },
      "source": [
        "Creating a dataframe based on the dataset"
      ]
    },
    {
      "cell_type": "code",
      "metadata": {
        "colab": {
          "base_uri": "https://localhost:8080/"
        },
        "id": "5M9ko3HxpED3",
        "outputId": "79638b99-f9a5-4994-d771-a32376da8aad"
      },
      "source": [
        "df = prepare_data('videos.csv')"
      ],
      "execution_count": null,
      "outputs": [
        {
          "output_type": "stream",
          "text": [
            "generating bert embedding videos ....\n"
          ],
          "name": "stdout"
        },
        {
          "output_type": "stream",
          "text": [
            "Some layers from the model checkpoint at bert-base-cased were not used when initializing TFBertModel: ['nsp___cls', 'mlm___cls']\n",
            "- This IS expected if you are initializing TFBertModel from the checkpoint of a model trained on another task or with another architecture (e.g. initializing a BertForSequenceClassification model from a BertForPreTraining model).\n",
            "- This IS NOT expected if you are initializing TFBertModel from the checkpoint of a model that you expect to be exactly identical (initializing a BertForSequenceClassification model from a BertForSequenceClassification model).\n",
            "All the layers of TFBertModel were initialized from the model checkpoint at bert-base-cased.\n",
            "If your task is similar to the task the model of the checkpoint was trained on, you can already use TFBertModel for predictions without further training.\n",
            "Truncation was not explicitly activated but `max_length` is provided a specific value, please use `truncation=True` to explicitly truncate examples to max length. Defaulting to 'longest_first' truncation strategy. If you encode pairs of sequences (GLUE-style) with the tokenizer you can select this strategy more precisely by providing a specific strategy to `truncation`.\n",
            "/usr/local/lib/python3.6/dist-packages/transformers/tokenization_utils_base.py:2142: FutureWarning: The `pad_to_max_length` argument is deprecated and will be removed in a future version, use `padding=True` or `padding='longest'` to pad to the longest sequence in the batch, or use `padding='max_length'` to pad to a max length. In this case, you can give a specific length with `max_length` (e.g. `max_length=45`) or leave max_length to None to pad to the maximal input size of the model (e.g. 512 for Bert).\n",
            "  FutureWarning,\n"
          ],
          "name": "stderr"
        },
        {
          "output_type": "stream",
          "text": [
            "generating bert embedding for user...\n"
          ],
          "name": "stdout"
        }
      ]
    },
    {
      "cell_type": "markdown",
      "metadata": {
        "id": "U0Rcvpi5jq2C"
      },
      "source": [
        "# **Creating models and train them for ranking models and position bias model**"
      ]
    },
    {
      "cell_type": "code",
      "metadata": {
        "colab": {
          "base_uri": "https://localhost:8080/"
        },
        "id": "4BqBKOZ_pHjg",
        "outputId": "bb21d386-c3d4-4d1e-bd13-00065684f1a7"
      },
      "source": [
        "# creating models\n",
        "print(\"train the main model ...\")\n",
        "main_model = train_ranking_model(df)\n",
        "print(\"train the shallow tower for position bias...\")\n",
        "position_biase_model = train_position_bias_model(df)"
      ],
      "execution_count": null,
      "outputs": [
        {
          "output_type": "stream",
          "text": [
            "train the main model ...\n",
            "Training data shape = (1959, 18)\n",
            "Validation data shape = (490, 18)\n",
            "Output is user_click, user_rating, user_like and time_spend...\n",
            "Model: \"functional_1\"\n",
            "__________________________________________________________________________________________________\n",
            "Layer (type)                    Output Shape         Param #     Connected to                     \n",
            "==================================================================================================\n",
            "input_1 (InputLayer)            [(None, 768)]        0                                            \n",
            "__________________________________________________________________________________________________\n",
            "input_5 (InputLayer)            [(None, 768)]        0                                            \n",
            "__________________________________________________________________________________________________\n",
            "input_2 (InputLayer)            [(None, 1)]          0                                            \n",
            "__________________________________________________________________________________________________\n",
            "input_3 (InputLayer)            [(None, 1)]          0                                            \n",
            "__________________________________________________________________________________________________\n",
            "input_4 (InputLayer)            [(None, 1)]          0                                            \n",
            "__________________________________________________________________________________________________\n",
            "input_6 (InputLayer)            [(None, 1)]          0                                            \n",
            "__________________________________________________________________________________________________\n",
            "concatenate (Concatenate)       (None, 1540)         0           input_1[0][0]                    \n",
            "                                                                 input_5[0][0]                    \n",
            "                                                                 input_2[0][0]                    \n",
            "                                                                 input_3[0][0]                    \n",
            "                                                                 input_4[0][0]                    \n",
            "                                                                 input_6[0][0]                    \n",
            "__________________________________________________________________________________________________\n",
            "re_lu (ReLU)                    (None, 1540)         0           concatenate[0][0]                \n",
            "__________________________________________________________________________________________________\n",
            "m_mo_e (MMoE)                   [(None, 4), (None, 4 98624       re_lu[0][0]                      \n",
            "__________________________________________________________________________________________________\n",
            "dense (Dense)                   (None, 8)            40          m_mo_e[0][0]                     \n",
            "__________________________________________________________________________________________________\n",
            "dense_1 (Dense)                 (None, 8)            40          m_mo_e[0][1]                     \n",
            "__________________________________________________________________________________________________\n",
            "dense_2 (Dense)                 (None, 8)            40          m_mo_e[0][2]                     \n",
            "__________________________________________________________________________________________________\n",
            "dense_3 (Dense)                 (None, 8)            40          m_mo_e[0][3]                     \n",
            "__________________________________________________________________________________________________\n",
            "user_click (Dense)              (None, 1)            9           dense[0][0]                      \n",
            "__________________________________________________________________________________________________\n",
            "user_rating (Dense)             (None, 1)            9           dense_1[0][0]                    \n",
            "__________________________________________________________________________________________________\n",
            "user_like (Dense)               (None, 1)            9           dense_2[0][0]                    \n",
            "__________________________________________________________________________________________________\n",
            "time_spend (Dense)              (None, 1)            9           dense_3[0][0]                    \n",
            "==================================================================================================\n",
            "Total params: 98,820\n",
            "Trainable params: 98,820\n",
            "Non-trainable params: 0\n",
            "__________________________________________________________________________________________________\n",
            "Epoch 1/30\n",
            " 1/62 [..............................] - ETA: 0s - loss: 49.7612 - user_click_loss: 7.6246 - user_rating_loss: 12.0769 - user_like_loss: 11.9135 - time_spend_loss: 18.1462 - user_click_accuracy: 0.5000 - user_rating_accuracy: 0.1562 - user_like_accuracy: 0.2188 - time_spend_accuracy: 0.5625WARNING:tensorflow:From /usr/local/lib/python3.6/dist-packages/tensorflow/python/ops/summary_ops_v2.py:1277: stop (from tensorflow.python.eager.profiler) is deprecated and will be removed after 2020-07-01.\n",
            "Instructions for updating:\n",
            "use `tf.profiler.experimental.stop` instead.\n",
            " 2/62 [..............................] - ETA: 1s - loss: 50.7656 - user_click_loss: 6.9098 - user_rating_loss: 11.7621 - user_like_loss: 11.4369 - time_spend_loss: 20.6568 - user_click_accuracy: 0.5469 - user_rating_accuracy: 0.1562 - user_like_accuracy: 0.2500 - time_spend_accuracy: 0.4844WARNING:tensorflow:Callbacks method `on_train_batch_end` is slow compared to the batch time (batch time: 0.0109s vs `on_train_batch_end` time: 0.0538s). Check your callbacks.\n",
            "62/62 [==============================] - ETA: 0s - loss: 36.2044 - user_click_loss: 7.3872 - user_rating_loss: 4.4392 - user_like_loss: 11.2404 - time_spend_loss: 13.1376 - user_click_accuracy: 0.5156 - user_rating_accuracy: 0.1761 - user_like_accuracy: 0.2629 - time_spend_accuracy: 0.0939ROC-AUC-user_click-Train: 0.5 ROC-AUC-user_click-Validation: 0.5\n",
            "explained-variance-score-user_rating-Train: -0.0027 explained-variance-score-user_rating-Validation: -0.0002\n",
            "ROC-AUC-user_like-Train: 0.5 ROC-AUC-user_like-Validation: 0.5\n",
            "explained-variance-score-time_spend-Train: 0.0003 explained-variance-score-time_spend-Validation: -0.0046\n",
            "62/62 [==============================] - 1s 24ms/step - loss: 36.2044 - user_click_loss: 7.3872 - user_rating_loss: 4.4392 - user_like_loss: 11.2404 - time_spend_loss: 13.1376 - user_click_accuracy: 0.5156 - user_rating_accuracy: 0.1761 - user_like_accuracy: 0.2629 - time_spend_accuracy: 0.0939 - val_loss: 33.8349 - val_user_click_loss: 7.8113 - val_user_rating_loss: 2.8744 - val_user_like_loss: 11.7637 - val_time_spend_loss: 11.3855 - val_user_click_accuracy: 0.4878 - val_user_rating_accuracy: 0.1265 - val_user_like_accuracy: 0.2286 - val_time_spend_accuracy: 0.0265\n",
            "Epoch 2/30\n",
            "59/62 [===========================>..] - ETA: 0s - loss: 33.3846 - user_click_loss: 7.4146 - user_rating_loss: 2.9278 - user_like_loss: 11.2431 - time_spend_loss: 11.7991 - user_click_accuracy: 0.5138 - user_rating_accuracy: 0.1626 - user_like_accuracy: 0.2627 - time_spend_accuracy: 0.0403ROC-AUC-user_click-Train: 0.5 ROC-AUC-user_click-Validation: 0.5\n",
            "explained-variance-score-user_rating-Train: 0.0049 explained-variance-score-user_rating-Validation: -0.0017\n",
            "ROC-AUC-user_like-Train: 0.5 ROC-AUC-user_like-Validation: 0.5\n",
            "explained-variance-score-time_spend-Train: 0.0063 explained-variance-score-time_spend-Validation: -0.0062\n",
            "62/62 [==============================] - 1s 15ms/step - loss: 33.4356 - user_click_loss: 7.3872 - user_rating_loss: 2.9413 - user_like_loss: 11.2404 - time_spend_loss: 11.8667 - user_click_accuracy: 0.5156 - user_rating_accuracy: 0.1623 - user_like_accuracy: 0.2629 - time_spend_accuracy: 0.0408 - val_loss: 33.8692 - val_user_click_loss: 7.8113 - val_user_rating_loss: 2.8881 - val_user_like_loss: 11.7637 - val_time_spend_loss: 11.4060 - val_user_click_accuracy: 0.4878 - val_user_rating_accuracy: 0.1265 - val_user_like_accuracy: 0.2286 - val_time_spend_accuracy: 0.0265\n",
            "Epoch 3/30\n",
            "61/62 [============================>.] - ETA: 0s - loss: 33.3169 - user_click_loss: 7.3824 - user_rating_loss: 2.9189 - user_like_loss: 11.2260 - time_spend_loss: 11.7896 - user_click_accuracy: 0.5159 - user_rating_accuracy: 0.1619 - user_like_accuracy: 0.2638 - time_spend_accuracy: 0.0410ROC-AUC-user_click-Train: 0.5 ROC-AUC-user_click-Validation: 0.5\n",
            "explained-variance-score-user_rating-Train: 0.0113 explained-variance-score-user_rating-Validation: -0.0019\n",
            "ROC-AUC-user_like-Train: 0.5 ROC-AUC-user_like-Validation: 0.5\n",
            "explained-variance-score-time_spend-Train: 0.0118 explained-variance-score-time_spend-Validation: -0.0075\n",
            "62/62 [==============================] - 1s 17ms/step - loss: 33.3172 - user_click_loss: 7.3872 - user_rating_loss: 2.9154 - user_like_loss: 11.2404 - time_spend_loss: 11.7742 - user_click_accuracy: 0.5156 - user_rating_accuracy: 0.1623 - user_like_accuracy: 0.2629 - time_spend_accuracy: 0.0408 - val_loss: 33.8549 - val_user_click_loss: 7.8113 - val_user_rating_loss: 2.8704 - val_user_like_loss: 11.7637 - val_time_spend_loss: 11.4095 - val_user_click_accuracy: 0.4878 - val_user_rating_accuracy: 0.1265 - val_user_like_accuracy: 0.2286 - val_time_spend_accuracy: 0.0265\n",
            "Epoch 4/30\n",
            "59/62 [===========================>..] - ETA: 0s - loss: 33.1353 - user_click_loss: 7.3258 - user_rating_loss: 2.8937 - user_like_loss: 11.1946 - time_spend_loss: 11.7212 - user_click_accuracy: 0.5196 - user_rating_accuracy: 0.1610 - user_like_accuracy: 0.2659 - time_spend_accuracy: 0.0408ROC-AUC-user_click-Train: 0.5 ROC-AUC-user_click-Validation: 0.5\n",
            "explained-variance-score-user_rating-Train: 0.017 explained-variance-score-user_rating-Validation: -0.0026\n",
            "ROC-AUC-user_like-Train: 0.5 ROC-AUC-user_like-Validation: 0.5\n",
            "explained-variance-score-time_spend-Train: 0.0163 explained-variance-score-time_spend-Validation: -0.0089\n",
            "62/62 [==============================] - 1s 15ms/step - loss: 33.2380 - user_click_loss: 7.3872 - user_rating_loss: 2.8940 - user_like_loss: 11.2404 - time_spend_loss: 11.7164 - user_click_accuracy: 0.5156 - user_rating_accuracy: 0.1623 - user_like_accuracy: 0.2629 - time_spend_accuracy: 0.0408 - val_loss: 33.9308 - val_user_click_loss: 7.8113 - val_user_rating_loss: 2.8875 - val_user_like_loss: 11.7637 - val_time_spend_loss: 11.4683 - val_user_click_accuracy: 0.4878 - val_user_rating_accuracy: 0.1265 - val_user_like_accuracy: 0.2286 - val_time_spend_accuracy: 0.0265\n",
            "Epoch 5/30\n",
            "61/62 [============================>.] - ETA: 0s - loss: 33.1463 - user_click_loss: 7.3824 - user_rating_loss: 2.8822 - user_like_loss: 11.2338 - time_spend_loss: 11.6479 - user_click_accuracy: 0.5159 - user_rating_accuracy: 0.1619 - user_like_accuracy: 0.2633 - time_spend_accuracy: 0.0405ROC-AUC-user_click-Train: 0.5 ROC-AUC-user_click-Validation: 0.5\n",
            "explained-variance-score-user_rating-Train: 0.0224 explained-variance-score-user_rating-Validation: -0.0043\n",
            "ROC-AUC-user_like-Train: 0.5 ROC-AUC-user_like-Validation: 0.5\n",
            "explained-variance-score-time_spend-Train: 0.0204 explained-variance-score-time_spend-Validation: -0.0105\n",
            "62/62 [==============================] - 1s 15ms/step - loss: 33.1656 - user_click_loss: 7.3872 - user_rating_loss: 2.8811 - user_like_loss: 11.2404 - time_spend_loss: 11.6569 - user_click_accuracy: 0.5156 - user_rating_accuracy: 0.1623 - user_like_accuracy: 0.2629 - time_spend_accuracy: 0.0408 - val_loss: 33.9694 - val_user_click_loss: 7.8113 - val_user_rating_loss: 2.9127 - val_user_like_loss: 11.7637 - val_time_spend_loss: 11.4817 - val_user_click_accuracy: 0.4878 - val_user_rating_accuracy: 0.1265 - val_user_like_accuracy: 0.2286 - val_time_spend_accuracy: 0.0265\n",
            "Epoch 6/30\n",
            "61/62 [============================>.] - ETA: 0s - loss: 33.1301 - user_click_loss: 7.4059 - user_rating_loss: 2.8714 - user_like_loss: 11.2572 - time_spend_loss: 11.5955 - user_click_accuracy: 0.5143 - user_rating_accuracy: 0.1624 - user_like_accuracy: 0.2618 - time_spend_accuracy: 0.0410ROC-AUC-user_click-Train: 0.5 ROC-AUC-user_click-Validation: 0.5\n",
            "explained-variance-score-user_rating-Train: 0.0268 explained-variance-score-user_rating-Validation: -0.0039\n",
            "ROC-AUC-user_like-Train: 0.5 ROC-AUC-user_like-Validation: 0.5\n",
            "explained-variance-score-time_spend-Train: 0.0238 explained-variance-score-time_spend-Validation: -0.0119\n",
            "62/62 [==============================] - 1s 14ms/step - loss: 33.1097 - user_click_loss: 7.3872 - user_rating_loss: 2.8660 - user_like_loss: 11.2404 - time_spend_loss: 11.6161 - user_click_accuracy: 0.5156 - user_rating_accuracy: 0.1623 - user_like_accuracy: 0.2629 - time_spend_accuracy: 0.0408 - val_loss: 33.9507 - val_user_click_loss: 7.8113 - val_user_rating_loss: 2.9004 - val_user_like_loss: 11.7637 - val_time_spend_loss: 11.4753 - val_user_click_accuracy: 0.4878 - val_user_rating_accuracy: 0.1265 - val_user_like_accuracy: 0.2286 - val_time_spend_accuracy: 0.0265\n",
            "Epoch 7/30\n",
            "62/62 [==============================] - ETA: 0s - loss: 33.0683 - user_click_loss: 7.3872 - user_rating_loss: 2.8528 - user_like_loss: 11.2404 - time_spend_loss: 11.5878 - user_click_accuracy: 0.5156 - user_rating_accuracy: 0.1623 - user_like_accuracy: 0.2629 - time_spend_accuracy: 0.0408ROC-AUC-user_click-Train: 0.5 ROC-AUC-user_click-Validation: 0.5\n",
            "explained-variance-score-user_rating-Train: 0.031 explained-variance-score-user_rating-Validation: -0.0051\n",
            "ROC-AUC-user_like-Train: 0.5 ROC-AUC-user_like-Validation: 0.5\n",
            "explained-variance-score-time_spend-Train: 0.027 explained-variance-score-time_spend-Validation: -0.0128\n",
            "62/62 [==============================] - 1s 14ms/step - loss: 33.0683 - user_click_loss: 7.3872 - user_rating_loss: 2.8528 - user_like_loss: 11.2404 - time_spend_loss: 11.5878 - user_click_accuracy: 0.5156 - user_rating_accuracy: 0.1623 - user_like_accuracy: 0.2629 - time_spend_accuracy: 0.0408 - val_loss: 33.9543 - val_user_click_loss: 7.8113 - val_user_rating_loss: 2.8989 - val_user_like_loss: 11.7637 - val_time_spend_loss: 11.4803 - val_user_click_accuracy: 0.4878 - val_user_rating_accuracy: 0.1265 - val_user_like_accuracy: 0.2286 - val_time_spend_accuracy: 0.0265\n",
            "Epoch 8/30\n",
            "62/62 [==============================] - ETA: 0s - loss: 33.0105 - user_click_loss: 7.3872 - user_rating_loss: 2.8370 - user_like_loss: 11.2404 - time_spend_loss: 11.5459 - user_click_accuracy: 0.5156 - user_rating_accuracy: 0.1623 - user_like_accuracy: 0.2629 - time_spend_accuracy: 0.0408ROC-AUC-user_click-Train: 0.5 ROC-AUC-user_click-Validation: 0.5\n",
            "explained-variance-score-user_rating-Train: 0.0347 explained-variance-score-user_rating-Validation: -0.0053\n",
            "ROC-AUC-user_like-Train: 0.5 ROC-AUC-user_like-Validation: 0.5\n",
            "explained-variance-score-time_spend-Train: 0.0297 explained-variance-score-time_spend-Validation: -0.0137\n",
            "62/62 [==============================] - 1s 14ms/step - loss: 33.0105 - user_click_loss: 7.3872 - user_rating_loss: 2.8370 - user_like_loss: 11.2404 - time_spend_loss: 11.5459 - user_click_accuracy: 0.5156 - user_rating_accuracy: 0.1623 - user_like_accuracy: 0.2629 - time_spend_accuracy: 0.0408 - val_loss: 33.9960 - val_user_click_loss: 7.8113 - val_user_rating_loss: 2.9269 - val_user_like_loss: 11.7637 - val_time_spend_loss: 11.4940 - val_user_click_accuracy: 0.4878 - val_user_rating_accuracy: 0.1265 - val_user_like_accuracy: 0.2286 - val_time_spend_accuracy: 0.0265\n",
            "Epoch 9/30\n",
            "62/62 [==============================] - ETA: 0s - loss: 32.9545 - user_click_loss: 7.3872 - user_rating_loss: 2.8273 - user_like_loss: 11.2404 - time_spend_loss: 11.4996 - user_click_accuracy: 0.5156 - user_rating_accuracy: 0.1623 - user_like_accuracy: 0.2629 - time_spend_accuracy: 0.0408ROC-AUC-user_click-Train: 0.5 ROC-AUC-user_click-Validation: 0.5\n",
            "explained-variance-score-user_rating-Train: 0.0382 explained-variance-score-user_rating-Validation: -0.0064\n",
            "ROC-AUC-user_like-Train: 0.5 ROC-AUC-user_like-Validation: 0.5\n",
            "explained-variance-score-time_spend-Train: 0.0325 explained-variance-score-time_spend-Validation: -0.015\n",
            "62/62 [==============================] - 1s 14ms/step - loss: 32.9545 - user_click_loss: 7.3872 - user_rating_loss: 2.8273 - user_like_loss: 11.2404 - time_spend_loss: 11.4996 - user_click_accuracy: 0.5156 - user_rating_accuracy: 0.1623 - user_like_accuracy: 0.2629 - time_spend_accuracy: 0.0408 - val_loss: 34.0239 - val_user_click_loss: 7.8113 - val_user_rating_loss: 2.9011 - val_user_like_loss: 11.7637 - val_time_spend_loss: 11.5477 - val_user_click_accuracy: 0.4878 - val_user_rating_accuracy: 0.1265 - val_user_like_accuracy: 0.2286 - val_time_spend_accuracy: 0.0265\n",
            "Epoch 10/30\n",
            "58/62 [===========================>..] - ETA: 0s - loss: 32.9967 - user_click_loss: 7.4932 - user_rating_loss: 2.8211 - user_like_loss: 11.3548 - time_spend_loss: 11.3276 - user_click_accuracy: 0.5086 - user_rating_accuracy: 0.1633 - user_like_accuracy: 0.2554 - time_spend_accuracy: 0.0420ROC-AUC-user_click-Train: 0.5 ROC-AUC-user_click-Validation: 0.5\n",
            "explained-variance-score-user_rating-Train: 0.0414 explained-variance-score-user_rating-Validation: -0.007\n",
            "ROC-AUC-user_like-Train: 0.5 ROC-AUC-user_like-Validation: 0.5\n",
            "explained-variance-score-time_spend-Train: 0.0347 explained-variance-score-time_spend-Validation: -0.0149\n",
            "62/62 [==============================] - 1s 14ms/step - loss: 32.9136 - user_click_loss: 7.3872 - user_rating_loss: 2.8172 - user_like_loss: 11.2404 - time_spend_loss: 11.4688 - user_click_accuracy: 0.5156 - user_rating_accuracy: 0.1623 - user_like_accuracy: 0.2629 - time_spend_accuracy: 0.0408 - val_loss: 33.9938 - val_user_click_loss: 7.8113 - val_user_rating_loss: 2.9225 - val_user_like_loss: 11.7637 - val_time_spend_loss: 11.4962 - val_user_click_accuracy: 0.4878 - val_user_rating_accuracy: 0.1265 - val_user_like_accuracy: 0.2286 - val_time_spend_accuracy: 0.0265\n",
            "Epoch 11/30\n",
            "62/62 [==============================] - ETA: 0s - loss: 32.8762 - user_click_loss: 7.3872 - user_rating_loss: 2.8106 - user_like_loss: 11.2404 - time_spend_loss: 11.4380 - user_click_accuracy: 0.5156 - user_rating_accuracy: 0.1623 - user_like_accuracy: 0.2629 - time_spend_accuracy: 0.0408ROC-AUC-user_click-Train: 0.5 ROC-AUC-user_click-Validation: 0.5\n",
            "explained-variance-score-user_rating-Train: 0.0442 explained-variance-score-user_rating-Validation: -0.0073\n",
            "ROC-AUC-user_like-Train: 0.5 ROC-AUC-user_like-Validation: 0.5\n",
            "explained-variance-score-time_spend-Train: 0.0369 explained-variance-score-time_spend-Validation: -0.0161\n",
            "62/62 [==============================] - 1s 14ms/step - loss: 32.8762 - user_click_loss: 7.3872 - user_rating_loss: 2.8106 - user_like_loss: 11.2404 - time_spend_loss: 11.4380 - user_click_accuracy: 0.5156 - user_rating_accuracy: 0.1623 - user_like_accuracy: 0.2629 - time_spend_accuracy: 0.0408 - val_loss: 34.0239 - val_user_click_loss: 7.8113 - val_user_rating_loss: 2.9248 - val_user_like_loss: 11.7637 - val_time_spend_loss: 11.5241 - val_user_click_accuracy: 0.4878 - val_user_rating_accuracy: 0.1265 - val_user_like_accuracy: 0.2286 - val_time_spend_accuracy: 0.0265\n",
            "train the shallow tower for position bias...\n",
            "Model: \"sequential\"\n",
            "_________________________________________________________________\n",
            "Layer (type)                 Output Shape              Param #   \n",
            "=================================================================\n",
            "dense_4 (Dense)              (None, 32)                160       \n",
            "_________________________________________________________________\n",
            "dropout_37 (Dropout)         (None, 32)                0         \n",
            "_________________________________________________________________\n",
            "dense_5 (Dense)              (None, 16)                528       \n",
            "_________________________________________________________________\n",
            "dense_6 (Dense)              (None, 1)                 17        \n",
            "=================================================================\n",
            "Total params: 705\n",
            "Trainable params: 705\n",
            "Non-trainable params: 0\n",
            "_________________________________________________________________\n",
            "the network for position bias prediction: None\n",
            "Epoch 1/20\n",
            "62/62 [==============================] - 0s 5ms/step - loss: 8.0099 - accuracy: 0.4747 - val_loss: 6.8466 - val_accuracy: 0.5510\n",
            "Epoch 2/20\n",
            "62/62 [==============================] - 0s 3ms/step - loss: 8.0099 - accuracy: 0.4747 - val_loss: 6.8466 - val_accuracy: 0.5510\n",
            "Epoch 3/20\n",
            "62/62 [==============================] - 0s 3ms/step - loss: 8.0099 - accuracy: 0.4747 - val_loss: 6.8466 - val_accuracy: 0.5510\n",
            "Epoch 4/20\n",
            "62/62 [==============================] - 0s 3ms/step - loss: 8.0099 - accuracy: 0.4747 - val_loss: 6.8466 - val_accuracy: 0.5510\n",
            "Epoch 5/20\n",
            "62/62 [==============================] - 0s 3ms/step - loss: 8.0099 - accuracy: 0.4747 - val_loss: 6.8466 - val_accuracy: 0.5510\n",
            "Epoch 6/20\n",
            "62/62 [==============================] - 0s 3ms/step - loss: 8.0099 - accuracy: 0.4747 - val_loss: 6.8466 - val_accuracy: 0.5510\n",
            "Epoch 7/20\n",
            "62/62 [==============================] - 0s 3ms/step - loss: 8.0099 - accuracy: 0.4747 - val_loss: 6.8466 - val_accuracy: 0.5510\n",
            "Epoch 8/20\n",
            "62/62 [==============================] - 0s 3ms/step - loss: 8.0099 - accuracy: 0.4747 - val_loss: 6.8466 - val_accuracy: 0.5510\n",
            "Epoch 9/20\n",
            "62/62 [==============================] - 0s 3ms/step - loss: 8.0099 - accuracy: 0.4747 - val_loss: 6.8466 - val_accuracy: 0.5510\n",
            "Epoch 10/20\n",
            "62/62 [==============================] - 0s 3ms/step - loss: 8.0099 - accuracy: 0.4747 - val_loss: 6.8466 - val_accuracy: 0.5510\n",
            "Epoch 11/20\n",
            "62/62 [==============================] - 0s 3ms/step - loss: 8.0099 - accuracy: 0.4747 - val_loss: 6.8466 - val_accuracy: 0.5510\n"
          ],
          "name": "stdout"
        }
      ]
    },
    {
      "cell_type": "markdown",
      "metadata": {
        "id": "jZ3IzYqBsHxW"
      },
      "source": [
        "# **Create Candidate List for the query**"
      ]
    },
    {
      "cell_type": "code",
      "metadata": {
        "id": "gbcWR_Tar9nM"
      },
      "source": [
        "import pandas as pd\n",
        "import numpy as np\n",
        "from sklearn.feature_extraction.text import CountVectorizer\n",
        "from sklearn.metrics.pairwise import cosine_similarity"
      ],
      "execution_count": null,
      "outputs": []
    },
    {
      "cell_type": "code",
      "metadata": {
        "id": "Y3tPbgFms2YC"
      },
      "source": [
        "def get_index_from_title(title):\n",
        "    return df[df.title == title][\"index\"].values[0]"
      ],
      "execution_count": null,
      "outputs": []
    },
    {
      "cell_type": "code",
      "metadata": {
        "id": "dVTEu-CrsaGK"
      },
      "source": [
        "cv = CountVectorizer()\n",
        "count_matrix = cv.fit_transform(df[\"tags\"])"
      ],
      "execution_count": null,
      "outputs": []
    },
    {
      "cell_type": "code",
      "metadata": {
        "id": "bD8bYU9dsppK"
      },
      "source": [
        "cosine_sim = cosine_similarity(count_matrix)\n",
        "df['index'] = range(0, len(df) )"
      ],
      "execution_count": null,
      "outputs": []
    },
    {
      "cell_type": "markdown",
      "metadata": {
        "id": "R5FfCuQttG0_"
      },
      "source": [
        "**Get an index based on a query**"
      ]
    },
    {
      "cell_type": "code",
      "metadata": {
        "colab": {
          "base_uri": "https://localhost:8080/"
        },
        "id": "TrSNrxRdtABJ",
        "outputId": "e67eb2b8-f312-4fa9-ac1f-1b1c121ba3d7"
      },
      "source": [
        "query = \"iPhone X + iPhone 8 Hands on!\"\n",
        "movie_index = get_index_from_title(query)\n",
        "print('Query = ', movie_index, query)"
      ],
      "execution_count": null,
      "outputs": [
        {
          "output_type": "stream",
          "text": [
            "Query =  87 iPhone X + iPhone 8 Hands on!\n"
          ],
          "name": "stdout"
        }
      ]
    },
    {
      "cell_type": "code",
      "metadata": {
        "id": "RVhtvjc-tbYA"
      },
      "source": [
        "# get similar movies\n",
        "similar_movies = list(enumerate(cosine_sim[movie_index]))\n",
        "sorted_similar_movies = sorted(similar_movies, key=lambda x:x[1], reverse=True)"
      ],
      "execution_count": null,
      "outputs": []
    },
    {
      "cell_type": "code",
      "metadata": {
        "colab": {
          "base_uri": "https://localhost:8080/",
          "height": 513
        },
        "id": "zcnHyenCtiyS",
        "outputId": "ca246091-5f60-41e0-fb78-7b553fef0704"
      },
      "source": [
        "# return top 50 as our candidate list\n",
        "sorted_similar = sorted_similar_movies[1:51]\n",
        "movie_indices = [i[0] for i in sorted_similar]\n",
        "topMovies = df.iloc[movie_indices]\n",
        "topMovies.head()"
      ],
      "execution_count": null,
      "outputs": [
        {
          "output_type": "execute_result",
          "data": {
            "text/html": [
              "<div>\n",
              "<style scoped>\n",
              "    .dataframe tbody tr th:only-of-type {\n",
              "        vertical-align: middle;\n",
              "    }\n",
              "\n",
              "    .dataframe tbody tr th {\n",
              "        vertical-align: top;\n",
              "    }\n",
              "\n",
              "    .dataframe thead th {\n",
              "        text-align: right;\n",
              "    }\n",
              "</style>\n",
              "<table border=\"1\" class=\"dataframe\">\n",
              "  <thead>\n",
              "    <tr style=\"text-align: right;\">\n",
              "      <th></th>\n",
              "      <th>Unnamed: 0</th>\n",
              "      <th>video_id</th>\n",
              "      <th>title</th>\n",
              "      <th>tags</th>\n",
              "      <th>views</th>\n",
              "      <th>likes</th>\n",
              "      <th>dislikes</th>\n",
              "      <th>comment_total</th>\n",
              "      <th>userId</th>\n",
              "      <th>user_click</th>\n",
              "      <th>user_rating</th>\n",
              "      <th>user_like</th>\n",
              "      <th>time_spend</th>\n",
              "      <th>position</th>\n",
              "      <th>pos_bias</th>\n",
              "      <th>device_info</th>\n",
              "      <th>video_emb</th>\n",
              "      <th>user_emb</th>\n",
              "      <th>index</th>\n",
              "    </tr>\n",
              "  </thead>\n",
              "  <tbody>\n",
              "    <tr>\n",
              "      <th>88</th>\n",
              "      <td>88</td>\n",
              "      <td>1L7JFN7tQLs</td>\n",
              "      <td>iPhone X Hands on - Everything you need to know</td>\n",
              "      <td>Appl,iPh X,iPh 8,iPh X ubxig,Appl iPh X,iPh X ...</td>\n",
              "      <td>0.017439</td>\n",
              "      <td>0.011523</td>\n",
              "      <td>0.002681</td>\n",
              "      <td>0.006674</td>\n",
              "      <td>12</td>\n",
              "      <td>1</td>\n",
              "      <td>2</td>\n",
              "      <td>0</td>\n",
              "      <td>9</td>\n",
              "      <td>35.0</td>\n",
              "      <td>0</td>\n",
              "      <td>web</td>\n",
              "      <td>[0.3546801507472992, 0.27542543411254883, -0.0...</td>\n",
              "      <td>[0.4422164559364319, -0.052605040371418, 0.522...</td>\n",
              "      <td>88</td>\n",
              "    </tr>\n",
              "    <tr>\n",
              "      <th>610</th>\n",
              "      <td>610</td>\n",
              "      <td>F8i8pnZmk50</td>\n",
              "      <td>Early iPhone 8 vs 8 Plus Unboxing &amp; Comparison!</td>\n",
              "      <td>iPh 8,iPh 8 Plus,iPh 8 Ubxig,iPh 8 Rviw,iPh 8 ...</td>\n",
              "      <td>0.024611</td>\n",
              "      <td>0.023712</td>\n",
              "      <td>0.004458</td>\n",
              "      <td>0.008867</td>\n",
              "      <td>1</td>\n",
              "      <td>0</td>\n",
              "      <td>4</td>\n",
              "      <td>0</td>\n",
              "      <td>0</td>\n",
              "      <td>40.0</td>\n",
              "      <td>1</td>\n",
              "      <td>web</td>\n",
              "      <td>[0.060989320278167725, 0.3447396159172058, -0....</td>\n",
              "      <td>[0.310032457113266, 0.1399012804031372, 0.3093...</td>\n",
              "      <td>610</td>\n",
              "    </tr>\n",
              "    <tr>\n",
              "      <th>611</th>\n",
              "      <td>611</td>\n",
              "      <td>F8i8pnZmk50</td>\n",
              "      <td>iPhone 8 vs 8 Plus Unboxing &amp; Comparison!</td>\n",
              "      <td>iPh 8,iPh 8 Plus,iPh 8 Ubxig,iPh 8 Rviw,iPh 8 ...</td>\n",
              "      <td>0.036830</td>\n",
              "      <td>0.028393</td>\n",
              "      <td>0.005879</td>\n",
              "      <td>0.009643</td>\n",
              "      <td>9</td>\n",
              "      <td>0</td>\n",
              "      <td>4</td>\n",
              "      <td>0</td>\n",
              "      <td>0</td>\n",
              "      <td>20.0</td>\n",
              "      <td>1</td>\n",
              "      <td>ios</td>\n",
              "      <td>[0.11219874769449234, 0.19350823760032654, -0....</td>\n",
              "      <td>[0.310032457113266, 0.1399012804031372, 0.3093...</td>\n",
              "      <td>611</td>\n",
              "    </tr>\n",
              "    <tr>\n",
              "      <th>414</th>\n",
              "      <td>414</td>\n",
              "      <td>A0lYm7Qsbak</td>\n",
              "      <td>iPhone X vs iPhone 8 Hands On - What’s the Dif...</td>\n",
              "      <td>uravgcsumr,uac,yur avrag csumr,Nw iPh,iPh 8,iP...</td>\n",
              "      <td>0.029018</td>\n",
              "      <td>0.022590</td>\n",
              "      <td>0.004231</td>\n",
              "      <td>0.006299</td>\n",
              "      <td>1</td>\n",
              "      <td>1</td>\n",
              "      <td>3</td>\n",
              "      <td>1</td>\n",
              "      <td>0</td>\n",
              "      <td>34.0</td>\n",
              "      <td>0</td>\n",
              "      <td>android</td>\n",
              "      <td>[0.06430180370807648, 0.26669782400131226, -0....</td>\n",
              "      <td>[0.41658180952072144, -0.21003320813179016, 0....</td>\n",
              "      <td>414</td>\n",
              "    </tr>\n",
              "    <tr>\n",
              "      <th>1285</th>\n",
              "      <td>1285</td>\n",
              "      <td>WYYvHb03Eog</td>\n",
              "      <td>Apple iPhone X first look</td>\n",
              "      <td>iPh X,iph x hads ,iPh X first lk,appl iph x,ip...</td>\n",
              "      <td>0.121977</td>\n",
              "      <td>0.019018</td>\n",
              "      <td>0.024872</td>\n",
              "      <td>0.022840</td>\n",
              "      <td>16</td>\n",
              "      <td>1</td>\n",
              "      <td>2</td>\n",
              "      <td>0</td>\n",
              "      <td>3</td>\n",
              "      <td>1.0</td>\n",
              "      <td>0</td>\n",
              "      <td>ios</td>\n",
              "      <td>[0.14773817360401154, 0.24620656669139862, 0.0...</td>\n",
              "      <td>[0.45126986503601074, -0.015302416868507862, 0...</td>\n",
              "      <td>1285</td>\n",
              "    </tr>\n",
              "  </tbody>\n",
              "</table>\n",
              "</div>"
            ],
            "text/plain": [
              "      Unnamed: 0  ... index\n",
              "88            88  ...    88\n",
              "610          610  ...   610\n",
              "611          611  ...   611\n",
              "414          414  ...   414\n",
              "1285        1285  ...  1285\n",
              "\n",
              "[5 rows x 19 columns]"
            ]
          },
          "metadata": {
            "tags": []
          },
          "execution_count": 23
        }
      ]
    },
    {
      "cell_type": "markdown",
      "metadata": {
        "id": "IEOdkfOAuz-Y"
      },
      "source": [
        "Save Candidate list in a csv file"
      ]
    },
    {
      "cell_type": "code",
      "metadata": {
        "id": "CYWTPkJdtyeg"
      },
      "source": [
        "#topMovies.to_csv('CandidateList.csv') "
      ],
      "execution_count": null,
      "outputs": []
    },
    {
      "cell_type": "markdown",
      "metadata": {
        "id": "kvv_BBfMvFCA"
      },
      "source": [
        "## **Ranking our Candidate List using MMOe**"
      ]
    },
    {
      "cell_type": "code",
      "metadata": {
        "colab": {
          "base_uri": "https://localhost:8080/"
        },
        "id": "-z5QW18su_wM",
        "outputId": "7f4cb5a9-da31-4a64-c05a-72c05e678060"
      },
      "source": [
        "from keras.models import load_model\n",
        "print(\"ranking...\")\n",
        "test_data =  topMovies       \n",
        "test_main = [np.asarray(np.squeeze(test_data[['video_emb']].values.tolist())).astype(np.float32),\n",
        "          np.asarray(np.squeeze(test_data[['user_emb']].values.tolist())).astype(np.float32),\n",
        "          test_data[['likes']].values,\n",
        "          test_data[['dislikes']].values,\n",
        "          test_data[['comment_total']].values,\n",
        "          test_data[['views']].values]\n",
        "\n",
        "test_position = pd.get_dummies(test_data, columns=['device_info'], prefix='', prefix_sep='')[['android', 'ios', 'web','position']]\n",
        "print(\"The final score for test data is...\")\n",
        "\n",
        "# try to load saved models\n",
        "position_biase = load_model('biase.hdf5')\n",
        "mmoe = build_model()\n",
        "mmoe.load_weights('mmoe.hdf5')\n",
        "adam_optimizer = Adam()\n",
        "mmoe.compile(\n",
        "        loss={'user_click': 'binary_crossentropy', 'user_rating':'MSE','user_like': 'binary_crossentropy','time_spend':'MSE'},\n",
        "        optimizer=adam_optimizer,\n",
        "        metrics=['accuracy'])\n",
        "# weights_for_engagement=02, weights_for_satification = 0.8\n",
        "final_score_list = final_score(0.2, 0.8, mmoe, position_biase,test_main,test_position)\n",
        "print(\"Final score = \", final_score_list)"
      ],
      "execution_count": null,
      "outputs": [
        {
          "output_type": "stream",
          "text": [
            "ranking...\n",
            "The final score for test data is...\n",
            "Output is user_click, user_rating, user_like and time_spend...\n",
            "the manually set weights for user engagement is 0.2\n",
            "the manually set weights for user satisfaction is 0.8\n",
            "Final score =  [[0.9809801 ]\n",
            " [0.9811977 ]\n",
            " [0.98064697]\n",
            " [0.98273087]\n",
            " [0.9820206 ]\n",
            " [0.98201966]\n",
            " [0.98025894]\n",
            " [0.9812434 ]\n",
            " [0.9821669 ]\n",
            " [0.97968954]\n",
            " [0.9768073 ]\n",
            " [0.97854185]\n",
            " [0.98093665]\n",
            " [0.9787785 ]\n",
            " [0.9785143 ]\n",
            " [0.982462  ]\n",
            " [0.97267467]\n",
            " [0.981608  ]\n",
            " [0.9785339 ]\n",
            " [0.98391116]\n",
            " [0.98235875]\n",
            " [0.9809047 ]\n",
            " [0.976905  ]\n",
            " [0.97780985]\n",
            " [0.97942555]\n",
            " [0.9774924 ]\n",
            " [0.98112506]\n",
            " [0.9852112 ]\n",
            " [0.9779681 ]\n",
            " [0.98096776]\n",
            " [0.9801537 ]\n",
            " [0.9787105 ]\n",
            " [0.98060286]\n",
            " [0.9795207 ]\n",
            " [0.9834498 ]\n",
            " [0.975093  ]\n",
            " [0.9803627 ]\n",
            " [0.97572947]\n",
            " [0.97604096]\n",
            " [0.97478807]\n",
            " [0.97567374]\n",
            " [0.9714128 ]\n",
            " [0.976625  ]\n",
            " [0.9788308 ]\n",
            " [0.98328996]\n",
            " [0.98229164]\n",
            " [0.98019683]\n",
            " [0.977774  ]\n",
            " [0.9767367 ]\n",
            " [0.9774905 ]]\n"
          ],
          "name": "stdout"
        }
      ]
    },
    {
      "cell_type": "code",
      "metadata": {
        "colab": {
          "base_uri": "https://localhost:8080/"
        },
        "id": "lJoEuFxJvWhN",
        "outputId": "76cb6ac4-61ee-4f49-f844-f202f54e022c"
      },
      "source": [
        "# merging results from model.predict() with test dataset\n",
        "test_data['final_score'] = final_score_list"
      ],
      "execution_count": null,
      "outputs": [
        {
          "output_type": "stream",
          "text": [
            "/usr/local/lib/python3.6/dist-packages/ipykernel_launcher.py:2: SettingWithCopyWarning: \n",
            "A value is trying to be set on a copy of a slice from a DataFrame.\n",
            "Try using .loc[row_indexer,col_indexer] = value instead\n",
            "\n",
            "See the caveats in the documentation: https://pandas.pydata.org/pandas-docs/stable/user_guide/indexing.html#returning-a-view-versus-a-copy\n",
            "  \n"
          ],
          "name": "stderr"
        }
      ]
    },
    {
      "cell_type": "code",
      "metadata": {
        "colab": {
          "base_uri": "https://localhost:8080/",
          "height": 204
        },
        "id": "tzvPO5vawnby",
        "outputId": "8f90ba4d-37be-4c69-d277-50098902db25"
      },
      "source": [
        "#sort by final_score desc\n",
        "final_set = test_data.sort_values(by='final_score', ascending=False)\n",
        "#select top 5 based on final_score\n",
        "final_set[['title','final_score', 'tags']].head(5) "
      ],
      "execution_count": null,
      "outputs": [
        {
          "output_type": "execute_result",
          "data": {
            "text/html": [
              "<div>\n",
              "<style scoped>\n",
              "    .dataframe tbody tr th:only-of-type {\n",
              "        vertical-align: middle;\n",
              "    }\n",
              "\n",
              "    .dataframe tbody tr th {\n",
              "        vertical-align: top;\n",
              "    }\n",
              "\n",
              "    .dataframe thead th {\n",
              "        text-align: right;\n",
              "    }\n",
              "</style>\n",
              "<table border=\"1\" class=\"dataframe\">\n",
              "  <thead>\n",
              "    <tr style=\"text-align: right;\">\n",
              "      <th></th>\n",
              "      <th>title</th>\n",
              "      <th>final_score</th>\n",
              "      <th>tags</th>\n",
              "    </tr>\n",
              "  </thead>\n",
              "  <tbody>\n",
              "    <tr>\n",
              "      <th>1839</th>\n",
              "      <td>iPhone X hands on</td>\n",
              "      <td>0.985211</td>\n",
              "      <td>iph x,appl iph,fac id,appl,hardwar,hads ,vt,ws,dm</td>\n",
              "    </tr>\n",
              "    <tr>\n",
              "      <th>1951</th>\n",
              "      <td>iPhone 8/8 Plus vs iPhone 7/7 Plus - Worth Upg...</td>\n",
              "      <td>0.983911</td>\n",
              "      <td>iPh 8,iPh 8 Plus,iPh 7,iPh 7 Plus,iPh 8 vs iPh...</td>\n",
              "    </tr>\n",
              "    <tr>\n",
              "      <th>948</th>\n",
              "      <td>iPhone 8 and iPhone 8 Plus Unboxing and First ...</td>\n",
              "      <td>0.983450</td>\n",
              "      <td>iph 8,plus,ubxig,rviw,first,imprssis,vs,iph 7,...</td>\n",
              "    </tr>\n",
              "    <tr>\n",
              "      <th>1901</th>\n",
              "      <td>Apple Watch Series 3 with LTE review</td>\n",
              "      <td>0.983290</td>\n",
              "      <td>thig gd frm Laur's pst. Tags: Appl Watch 3 rvi...</td>\n",
              "    </tr>\n",
              "    <tr>\n",
              "      <th>414</th>\n",
              "      <td>iPhone X vs iPhone 8 Hands On - What’s the Dif...</td>\n",
              "      <td>0.982731</td>\n",
              "      <td>uravgcsumr,uac,yur avrag csumr,Nw iPh,iPh 8,iP...</td>\n",
              "    </tr>\n",
              "  </tbody>\n",
              "</table>\n",
              "</div>"
            ],
            "text/plain": [
              "                                                  title  ...                                               tags\n",
              "1839                                  iPhone X hands on  ...  iph x,appl iph,fac id,appl,hardwar,hads ,vt,ws,dm\n",
              "1951  iPhone 8/8 Plus vs iPhone 7/7 Plus - Worth Upg...  ...  iPh 8,iPh 8 Plus,iPh 7,iPh 7 Plus,iPh 8 vs iPh...\n",
              "948   iPhone 8 and iPhone 8 Plus Unboxing and First ...  ...  iph 8,plus,ubxig,rviw,first,imprssis,vs,iph 7,...\n",
              "1901               Apple Watch Series 3 with LTE review  ...  thig gd frm Laur's pst. Tags: Appl Watch 3 rvi...\n",
              "414   iPhone X vs iPhone 8 Hands On - What’s the Dif...  ...  uravgcsumr,uac,yur avrag csumr,Nw iPh,iPh 8,iP...\n",
              "\n",
              "[5 rows x 3 columns]"
            ]
          },
          "metadata": {
            "tags": []
          },
          "execution_count": 27
        }
      ]
    },
    {
      "cell_type": "markdown",
      "metadata": {
        "id": "xkEF7_z3xF-A"
      },
      "source": [
        "# **References:**\n",
        "\n",
        "* https://dl.acm.org/doi/10.1145/3298689.3346997\n",
        "\n",
        "* https://medium.com/@bhatia.suneet/a-multitask-ranking-system-how-youtube-recommends-the-next-videos-a23a63476073\n",
        "\n",
        "* https://daiwk.github.io/assets/youtube-multitask.pdf\n",
        "\n",
        "* https://www.kaggle.com/datasnaek/youtube-new\n",
        "\n",
        "* https://github.com/drawbridge/keras-mmoe/blob/master/mmoe.py\n",
        "\n",
        "\n"
      ]
    },
    {
      "cell_type": "code",
      "metadata": {
        "id": "NYzDiIa5ATmR"
      },
      "source": [
        ""
      ],
      "execution_count": null,
      "outputs": []
    }
  ]
}