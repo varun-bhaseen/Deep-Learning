{
  "nbformat": 4,
  "nbformat_minor": 0,
  "metadata": {
    "colab": {
      "name": "Graded Assignment 1 : MNIST classifier using numpy and python without CNN.ipynb",
      "provenance": [],
      "collapsed_sections": [],
      "authorship_tag": "ABX9TyMuhbSLIK5D84O/N/8Mm0nK",
      "include_colab_link": true
    },
    "kernelspec": {
      "name": "python3",
      "display_name": "Python 3"
    },
    "accelerator": "GPU"
  },
  "cells": [
    {
      "cell_type": "markdown",
      "metadata": {
        "id": "view-in-github",
        "colab_type": "text"
      },
      "source": [
        "<a href=\"https://colab.research.google.com/github/vrnTEK/Deep-Learning/blob/master/Graded_Assignment_1_MNIST_classifier_using_numpy_and_python_without_CNN.ipynb\" target=\"_parent\"><img src=\"https://colab.research.google.com/assets/colab-badge.svg\" alt=\"Open In Colab\"/></a>"
      ]
    },
    {
      "cell_type": "markdown",
      "metadata": {
        "id": "wWMG5ScdxtuC",
        "colab_type": "text"
      },
      "source": [
        "#Creating MNIST Classifier using Numpy\n",
        "###Goal is to use plain feed forward NNs without keras NN library but just numpy  (you can use keras only for image augmentation and getting training set and nothing else)\n",
        "Following are the tasks that needs to be accomplished by the code:\n",
        "\n",
        "1. The code should normalize the input as discussed in the class before training (scaling the input) \n",
        "2. The code should do mini batch gradient descent along with appropriate learning\n",
        "3. The code should do dropout - try various dropout rates and pick the one which works well. (need not be same for all layers)\n",
        "4. The code should initialize the random weights of network properly\n",
        "5. The code should do basic image augmentations to supplement the training data (not testing data) using keras libraries\n",
        "6. The code should use  3 or more layers for training (not 2 as in example ) - you have to tune and pick number of neurons in your layer and number of layers\n",
        "7. The code will continue to use relu activation layer in right places like python code\n",
        "8. The code should use appropriate learning rate (try out few to find out which one works) - you can use adaptive learning rates like different learning rates per epoch or per mini batch\n",
        "9. The code should provide appropriate metrics, visualization,  testing and training accuracy etc.,. and plot the results and confusion matrix  (this is important)\n",
        "10. The code should display top common errors images identified incorrectly\n",
        "11. Extra points if you hit 99% test accuracy with these changes (very challenging given you are not using CNNs).\n"
      ]
    },
    {
      "cell_type": "markdown",
      "metadata": {
        "id": "wJfKgu_Hzfo7",
        "colab_type": "text"
      },
      "source": [
        "##Importing the Libraries required"
      ]
    },
    {
      "cell_type": "code",
      "metadata": {
        "id": "gurNbLv1xnVQ",
        "colab_type": "code",
        "colab": {}
      },
      "source": [
        "import numpy as np\n",
        "import pandas as pd\n",
        "import seaborn as sns\n",
        "import matplotlib.pyplot as plt\n",
        "%matplotlib inline\n",
        "# Import PyDrive and associated libraries.\n",
        "# This only needs to be done once per notebook.\n",
        "from pydrive.auth import GoogleAuth\n",
        "from pydrive.drive import GoogleDrive\n",
        "from google.colab import auth\n",
        "from oauth2client.client import GoogleCredentials\n",
        "\n",
        "# Authenticate and create the PyDrive client.\n",
        "# This only needs to be done once per notebook.\n",
        "auth.authenticate_user()\n",
        "gauth = GoogleAuth()\n",
        "gauth.credentials = GoogleCredentials.get_application_default()\n",
        "drive = GoogleDrive(gauth)"
      ],
      "execution_count": 0,
      "outputs": []
    },
    {
      "cell_type": "markdown",
      "metadata": {
        "id": "rS3GlqID5oIT",
        "colab_type": "text"
      },
      "source": [
        "####Importing MNIST Files from Google drive"
      ]
    },
    {
      "cell_type": "code",
      "metadata": {
        "id": "VzHS0vK15lkY",
        "colab_type": "code",
        "colab": {
          "base_uri": "https://localhost:8080/",
          "height": 185
        },
        "outputId": "131e34c1-c3b5-44ca-f97b-996e81fa041c"
      },
      "source": [
        "# Download a file based on its file ID.\n",
        "#https://drive.google.com/open?id=1Hcx5VtkGIjH9gU2O7_RLvKhBPgPgqHnX\n",
        "#https://drive.google.com/open?id=16StDwyeRpgtWjmGK-k04iN8iHcSUhzhe\n",
        "file_id1 = '1Hcx5VtkGIjH9gU2O7_RLvKhBPgPgqHnX'\n",
        "downloaded = drive.CreateFile({'id': file_id1})\n",
        "print('Downloaded content \"{}\"'.format(downloaded.GetContentString()))\n",
        "downloaded.GetContentFile('mnist_train.csv')  \n",
        "mnist_train = pd.read_csv('mnist_train.csv')\n",
        "mnist_train.to_csv('mnist_train.csv')\n",
        "\n",
        "\n",
        "file_id2 = '16StDwyeRpgtWjmGK-k04iN8iHcSUhzhe'\n",
        "downloaded = drive.CreateFile({'id': file_id2})\n",
        "print('Downloaded content \"{}\"'.format(downloaded.GetContentString()))\n",
        "downloaded.GetContentFile('mnist_test.csv')  \n",
        "mnist_test = pd.read_csv('mnist_test.csv')\n",
        "mnist_test.to_csv('mnist_test.csv')"
      ],
      "execution_count": 2,
      "outputs": [
        {
          "output_type": "stream",
          "text": [
            "IOPub data rate exceeded.\n",
            "The notebook server will temporarily stop sending output\n",
            "to the client in order to avoid crashing it.\n",
            "To change this limit, set the config variable\n",
            "`--NotebookApp.iopub_data_rate_limit`.\n",
            "\n",
            "Current values:\n",
            "NotebookApp.iopub_data_rate_limit=1000000.0 (bytes/sec)\n",
            "NotebookApp.rate_limit_window=3.0 (secs)\n",
            "\n"
          ],
          "name": "stderr"
        }
      ]
    },
    {
      "cell_type": "code",
      "metadata": {
        "id": "TkIv0LH44Ple",
        "colab_type": "code",
        "colab": {}
      },
      "source": [
        "#redundant code to be deleted\n",
        "#Loading the Mnist dataset from Keras dataset\n",
        "#from tensorflow.examples.tutorials.mnist import input_data\n",
        "#mnist = input_data.read_data_sets(\"MNIST_data/\", one_hot=False)\n",
        "#mnist = input_data.read_data_sets(\"MNIST_data/\")"
      ],
      "execution_count": 0,
      "outputs": []
    },
    {
      "cell_type": "markdown",
      "metadata": {
        "id": "jfB5pVqR9y4X",
        "colab_type": "text"
      },
      "source": [
        "###Converting images to numpy array for easy calculation\n",
        "\n",
        "Also checking the shape and dimentions in the numpy array defined"
      ]
    },
    {
      "cell_type": "code",
      "metadata": {
        "id": "ox_IcA3VbxAE",
        "colab_type": "code",
        "colab": {
          "base_uri": "https://localhost:8080/",
          "height": 34
        },
        "outputId": "3277b43d-c827-4f3c-fb04-c88659e5b492"
      },
      "source": [
        "# default pixel width and length numbers\n",
        "image_size = 28 \n",
        "#Number of output labels is 10 which is 0, 1, 2, 3, 4, 5, 6, 7, 8, 9\n",
        "number_output_label = 10\n",
        "\n",
        "image_pixels = image_size * image_size\n",
        "\n",
        "#Converting dataframe to numpy array\n",
        "train_data = mnist_train.to_numpy()\n",
        "test_data = mnist_test.to_numpy() \n",
        "\n",
        "test_data[test_data==255]\n",
        "train_data.shape"
      ],
      "execution_count": 4,
      "outputs": [
        {
          "output_type": "execute_result",
          "data": {
            "text/plain": [
              "(59999, 785)"
            ]
          },
          "metadata": {
            "tags": []
          },
          "execution_count": 4
        }
      ]
    },
    {
      "cell_type": "code",
      "metadata": {
        "id": "CbUuNk-7543U",
        "colab_type": "code",
        "colab": {}
      },
      "source": [
        "#redundant code to be deleted. Use this for Keras dataset import directly\n",
        "#Not use if internet is slow as it can take lot of time\n",
        "\n",
        "#x_train = np.vstack([img.reshape(-1,) for img in mnist.train.images])\n",
        "#y_train = mnist.train.labels\n",
        "\n",
        "#x_test = np.vstack([img.reshape(-1,) for img in mnist.test.images])\n",
        "#y_test = mnist.test.labels\n",
        "#x_train.shape\"\"\""
      ],
      "execution_count": 0,
      "outputs": []
    },
    {
      "cell_type": "code",
      "metadata": {
        "id": "4eO9zQe4Blr9",
        "colab_type": "code",
        "colab": {}
      },
      "source": [
        "#Redundant code to be deleted. Used this for storing the dataset to local RAM after importing\n",
        "#Can be used if using TPU but this slows down in GPU later\n",
        "\n",
        "#x_train = np.float32(mnist['x_train'][:])\n",
        "#y_train = np.int32(np.array(MNIST_data['y_train'][:, 0])).reshape(-1, 1)\n",
        "#x_test  = np.float32(MNIST_data['x_test'][:])\n",
        "#y_test  = np.int32(np.array(MNIST_data['y_test'][:, 0])).reshape(-1, 1)\"\"\""
      ],
      "execution_count": 0,
      "outputs": []
    },
    {
      "cell_type": "markdown",
      "metadata": {
        "id": "w2n3pS_V_93U",
        "colab_type": "text"
      },
      "source": [
        "Now we have a 2 dimentional numpy array with 60000 rows with 784 (28 X 28) features of data in other two dimentions. We can now carry out the normalization of the data.\n",
        "\n",
        "There is also an alternative method as well that we can follow:\n",
        "\n",
        "The difference is that this will yield 3-dimentional array which needs to be reshaped into 2-D\n",
        "\n",
        "  * from tensorflow.keras.datasets import mnist:\n",
        "  * (x_train, y_train), (x_test, y_test) = mnist.load_data()\n",
        "  * Converting training data to Numpy array\n",
        "  * mnist_train = np.array(x_train)\n",
        "  * mnist_trtarget = np.array(y_train)\n",
        "  * Coverting test data to Numpy array\n",
        "  * mnist_test = np.array(x_test)\n",
        "  * mnist_tetarget = np.array(y_test)"
      ]
    },
    {
      "cell_type": "markdown",
      "metadata": {
        "id": "u_45pvZ2NpiU",
        "colab_type": "text"
      },
      "source": [
        "###Prininting first record to check the values and range of features"
      ]
    },
    {
      "cell_type": "code",
      "metadata": {
        "id": "JUNrWNpWASuf",
        "colab_type": "code",
        "colab": {
          "base_uri": "https://localhost:8080/",
          "height": 1000
        },
        "outputId": "73308384-ac73-4c2f-fe50-342d00ca46b3"
      },
      "source": [
        "import pprint\n",
        "pp = pprint.PrettyPrinter(width=100, compact = True)\n",
        "pp.pprint(train_data[48000])"
      ],
      "execution_count": 7,
      "outputs": [
        {
          "output_type": "stream",
          "text": [
            "array([  7,   0,   0,   0,   0,   0,   0,   0,   0,   0,   0,   0,   0,\n",
            "         0,   0,   0,   0,   0,   0,   0,   0,   0,   0,   0,   0,   0,\n",
            "         0,   0,   0,   0,   0,   0,   0,   0,   0,   0,   0,   0,   0,\n",
            "         0,   0,   0,   0,   0,   0,   0,   0,   0,   0,   0,   0,   0,\n",
            "         0,   0,   0,   0,   0,   0,   0,   0,   0,   0,   0,   0,   0,\n",
            "         0,   0,   0,   0,   0,   0,   0,   0,   0,   0,   0,   0,   0,\n",
            "         0,   0,   0,   0,   0,   0,   0,   0,   0,   0,   0,   0,   0,\n",
            "         0,   0,   0,   0,   0,   0,   0,   0,   0,   0,   0,   0,   0,\n",
            "         0,   0,   0,   0,   0,   0,   0,   0,   0,   0,   0,   0,   0,\n",
            "         0,   0,   0,   0,   0,   0,   0,   0,   0,   0,   0,   0,   0,\n",
            "         0,   0,   0,   0,   0,   0,   0,   0,   0,   0,   0,   0,   0,\n",
            "         0,   0,   0,   0,   0,   0,   0,   0,   0,   0,   0,   0,   0,\n",
            "         0,   0,   0,   0,   0,   0,   0,   0,   0,   0,   0,   0,   0,\n",
            "         0,   0,   0,   0,   0,   0,   0,   0,   0,   0,   0,   0,   0,\n",
            "         0,   0,   0,   0,   0, 170, 226,  57,   0,   0,   0,   0,   0,\n",
            "         0,   0,   0,   0,   0,   0,   0,   0,   0,   0,   0,   0,   0,\n",
            "       226, 114,   0,   0,   0,  57, 198, 255, 255,  86,   0,   0,   0,\n",
            "         0,   0,   0,   0,   0,   0,   0,   0,   0,   0,   0,   0,   0,\n",
            "         0, 141, 255, 255, 170, 255, 255, 255, 255, 255, 255,  29,   0,\n",
            "         0,   0,   0,   0,   0,   0,   0,   0,   0,   0,   0,   0,   0,\n",
            "         0,   0,   0, 226, 255, 255, 255, 255, 255, 255, 255, 255,  86,\n",
            "         0,   0,   0,   0,   0,   0,   0,   0,   0,   0,   0,   0,   0,\n",
            "         0,   0,   0,   0, 170, 255, 255, 198, 170,  86, 114, 255, 255,\n",
            "       226,   0,   0,   0,   0,   0,   0,   0,   0,   0,   0,   0,   0,\n",
            "         0,   0,   0,   0,   0, 226, 255, 255, 170,   0,   0,   0, 170,\n",
            "       255, 255,  86,   0,   0,   0,   0,   0,   0,   0,   0,   0,   0,\n",
            "         0,   0,   0,   0,   0,   0,  86, 255, 255, 170,   0,   0,   0,\n",
            "         0, 255, 255, 226,   0,   0,   0,   0,   0,   0,   0,   0,   0,\n",
            "         0,   0,   0,   0,   0,   0,   0,   0,  29, 170, 170,  29,   0,\n",
            "         0,   0, 141, 255, 255, 114,   0,   0,   0,   0,   0,   0,   0,\n",
            "         0,   0,   0,   0,   0,   0,   0,   0,   0,   0,   0,   0,   0,\n",
            "         0,   0,   0,   0, 170, 255, 255,  57,   0,   0,   0,   0,   0,\n",
            "         0,   0,   0,   0,   0,   0,   0,   0,   0,   0,   0,   0,   0,\n",
            "         0,   0,   0,   0,   0,  29, 255, 255, 226,   0,   0,   0,   0,\n",
            "         0,   0,   0,   0,   0,   0,   0,   0,   0,   0,   0,   0,   0,\n",
            "         0,   0,   0,   0,   0,   0,   0, 141, 255, 255,  86,   0,   0,\n",
            "         0,   0,   0,   0,   0,   0,   0,   0,   0,   0,   0,   0,   0,\n",
            "         0,   0,   0,   0,   0,   0,   0,   0,   0, 226, 255, 255,   0,\n",
            "         0,   0,   0,   0,   0,   0,   0,   0,   0,   0,   0,   0,   0,\n",
            "         0,   0,   0,   0,   0,   0,   0,   0,   0,   0, 141, 255, 255,\n",
            "       114,   0,   0,   0,   0,   0,   0,   0,   0,   0,   0,   0,   0,\n",
            "         0,   0,   0,   0,   0,   0,   0,   0,   0,   0,   0,   0, 198,\n",
            "       255, 255,  57,   0,   0,   0,   0,   0,   0,   0,   0,   0,   0,\n",
            "         0,   0,   0,   0,   0,   0,   0,   0,   0,   0,   0,   0,   0,\n",
            "        57, 255, 255, 226,   0,   0,   0,   0,   0,   0,   0,   0,   0,\n",
            "         0,   0,   0,   0,   0,   0,   0,   0,   0,   0,   0,   0,   0,\n",
            "         0,   0, 141, 255, 255,  86,   0,   0,   0,   0,   0,   0,   0,\n",
            "         0,   0,   0,   0,   0,   0,   0,   0,   0,   0,   0,   0,   0,\n",
            "         0,   0,   0, 114, 226, 255, 226,   0,   0,   0,   0,   0,   0,\n",
            "         0,   0,   0,   0,   0,   0,   0,   0,   0,   0,   0,   0,   0,\n",
            "         0,   0,   0,   0,  29, 255, 255, 255,  86,   0,   0,   0,   0,\n",
            "         0,   0,   0,   0,   0,   0,   0,   0,   0,   0,   0,   0,   0,\n",
            "         0,   0,   0,   0,   0,   0, 141, 255, 255, 170,   0,   0,   0,\n",
            "         0,   0,   0,   0,   0,   0,   0,   0,   0,   0,   0,   0,   0,\n",
            "         0,   0,   0,   0,   0,   0,   0,   0,  86, 226, 226,  57,   0,\n",
            "         0,   0,   0,   0,   0,   0,   0,   0,   0,   0,   0,   0,   0,\n",
            "         0,   0,   0,   0,   0,   0,   0,   0,   0,   0,   0,   0,   0,\n",
            "         0,   0,   0,   0,   0,   0,   0,   0,   0,   0,   0,   0,   0,\n",
            "         0,   0,   0,   0,   0,   0,   0,   0,   0,   0,   0,   0,   0,\n",
            "         0,   0,   0,   0,   0,   0,   0,   0,   0,   0,   0,   0,   0,\n",
            "         0,   0,   0,   0,   0])\n"
          ],
          "name": "stdout"
        }
      ]
    },
    {
      "cell_type": "markdown",
      "metadata": {
        "id": "5P-tLGSZN_h3",
        "colab_type": "text"
      },
      "source": [
        "###One Hot Encoding and data Transforming\n",
        "\n",
        "As we can see from the above values that there are many zero values for pixels which are not activated this is something we need to avoid since weights dont update well for zero values also the value in array range from 0 to 255. we will divide the array by 255 and will add 0.01 to the result to ensure that we have no zero values and range can be between 0.01 to 0.99"
      ]
    },
    {
      "cell_type": "code",
      "metadata": {
        "id": "4_YcQ_CltLKH",
        "colab_type": "code",
        "colab": {}
      },
      "source": [
        "fac = 0.99 / 255\n",
        "X_train = np.asfarray(train_data[:, 1:]) * fac + 0.01\n",
        "X_test = np.asfarray(test_data[:, 1:]) * fac + 0.01\n",
        "\n",
        "#Separating training and test labels\n",
        "Y_train = np.asfarray(train_data[:, :1])\n",
        "Y_test = np.asfarray(test_data[:, :1])"
      ],
      "execution_count": 0,
      "outputs": []
    },
    {
      "cell_type": "markdown",
      "metadata": {
        "id": "hl-ko7UtYB1G",
        "colab_type": "text"
      },
      "source": [
        "###Encoding Output label as well with one hot encoding\n",
        "\n",
        "Encoding Y training and Y test labels for entire dataset"
      ]
    },
    {
      "cell_type": "code",
      "metadata": {
        "id": "x-SaspP61l44",
        "colab_type": "code",
        "colab": {
          "base_uri": "https://localhost:8080/",
          "height": 185
        },
        "outputId": "a64007fd-0df8-455a-c83a-3583ef0e8315"
      },
      "source": [
        "# one-hot encoding\n",
        "import numpy as np\n",
        "\n",
        "lr = np.arange(10)\n",
        "\n",
        "for label in range(10):\n",
        "    one_hot = (lr==label).astype(np.int)\n",
        "    print(\"label: \", label, \" in one-hot representation: \", one_hot)"
      ],
      "execution_count": 9,
      "outputs": [
        {
          "output_type": "stream",
          "text": [
            "label:  0  in one-hot representation:  [1 0 0 0 0 0 0 0 0 0]\n",
            "label:  1  in one-hot representation:  [0 1 0 0 0 0 0 0 0 0]\n",
            "label:  2  in one-hot representation:  [0 0 1 0 0 0 0 0 0 0]\n",
            "label:  3  in one-hot representation:  [0 0 0 1 0 0 0 0 0 0]\n",
            "label:  4  in one-hot representation:  [0 0 0 0 1 0 0 0 0 0]\n",
            "label:  5  in one-hot representation:  [0 0 0 0 0 1 0 0 0 0]\n",
            "label:  6  in one-hot representation:  [0 0 0 0 0 0 1 0 0 0]\n",
            "label:  7  in one-hot representation:  [0 0 0 0 0 0 0 1 0 0]\n",
            "label:  8  in one-hot representation:  [0 0 0 0 0 0 0 0 1 0]\n",
            "label:  9  in one-hot representation:  [0 0 0 0 0 0 0 0 0 1]\n"
          ],
          "name": "stdout"
        }
      ]
    },
    {
      "cell_type": "code",
      "metadata": {
        "id": "sgWQbKHOXmxf",
        "colab_type": "code",
        "colab": {}
      },
      "source": [
        "lr = np.arange(number_output_label)\n",
        "\n",
        "# transform labels into one hot representation\n",
        "train_labels_one_hot = (lr==Y_train).astype(np.float)\n",
        "test_labels_one_hot = (lr==Y_test).astype(np.float)\n",
        "\n",
        "# we don't want zeroes and ones in the labels neither:\n",
        "train_labels_one_hot[train_labels_one_hot==0] = 0.01\n",
        "train_labels_one_hot[train_labels_one_hot==1] = 0.99\n",
        "test_labels_one_hot[test_labels_one_hot==0] = 0.01\n",
        "test_labels_one_hot[test_labels_one_hot==1] = 0.99"
      ],
      "execution_count": 0,
      "outputs": []
    },
    {
      "cell_type": "code",
      "metadata": {
        "id": "3RFxr6o5TtnL",
        "colab_type": "code",
        "colab": {}
      },
      "source": [
        "#Redundant Code To be deleted. Used it for training and test shuffle and split\n",
        "#Multiple errors on data type conversion.\n",
        "#Use above cell for encoding and transformation\n",
        "\n",
        "#digits = 10\n",
        "#examples = mnistar_train.shape[0]\n",
        "#mnistar_train = mnistar_train.reshape(1, examples)\n",
        "#Y_train = np.eye(digits)[mnistar_train.astype('int32')]\n",
        "#Y_train = Y_train.T.reshape(digits, examples)\n",
        "\n",
        "#digits = 10\n",
        "#examples = mnistar_test.shape[0]\n",
        "#mnistar_test = mnistar_test.reshape(1, examples)\n",
        "#Y_test = np.eye(digits)[mnistar_test.astype('int32')]\n",
        "#Y_test = Y_test.T.reshape(digits, examples)\n",
        "\n",
        "# number of training set\n",
        "#m = 55000\n",
        "#m_test = X.shape[0] - m\n",
        "#X_train, X_test = X[:m].T, X[m:].T\n",
        "#Y_train, Y_test = Y_new[:, :m], Y_new[:, m:]\n",
        "\n",
        "# shuffle training set\n",
        "#shuffle_index = np.random.permutation(m)\n",
        "#X_train, Y_train = X_train[:, shuffle_index], Y_train[:, shuffle_index]\n",
        "\n",
        "#X_transpose = X_train[:].T #redundant code for checking the data orientation\n",
        "#X_transpose.shape"
      ],
      "execution_count": 0,
      "outputs": []
    },
    {
      "cell_type": "markdown",
      "metadata": {
        "id": "geHtew4nalXX",
        "colab_type": "text"
      },
      "source": [
        "###Displaying the output for training data "
      ]
    },
    {
      "cell_type": "code",
      "metadata": {
        "id": "TwMkG-e3YrS2",
        "colab_type": "code",
        "colab": {
          "base_uri": "https://localhost:8080/",
          "height": 1000
        },
        "outputId": "c5d4e8e0-afbe-4b90-cb57-dff28cd9f4f8"
      },
      "source": [
        "for i in range(4):\n",
        "    img = X_train[i].reshape((28,28))\n",
        "    plt.imshow(img, cmap=\"Greys\")\n",
        "    plt.show()"
      ],
      "execution_count": 12,
      "outputs": [
        {
          "output_type": "display_data",
          "data": {
            "image/png": "[encoded data removed]",
            "text/plain": [
              "<Figure size 432x288 with 1 Axes>"
            ]
          },
          "metadata": {
            "tags": []
          }
        },
        {
          "output_type": "display_data",
          "data": {
            "image/png": "[encoded data removed]",
            "text/plain": [
              "<Figure size 432x288 with 1 Axes>"
            ]
          },
          "metadata": {
            "tags": []
          }
        },
        {
          "output_type": "display_data",
          "data": {
            "image/png": "[encoded data removed]",
            "text/plain": [
              "<Figure size 432x288 with 1 Axes>"
            ]
          },
          "metadata": {
            "tags": []
          }
        },
        {
          "output_type": "display_data",
          "data": {
            "image/png": "[encoded data removed]",
            "text/plain": [
              "<Figure size 432x288 with 1 Axes>"
            ]
          },
          "metadata": {
            "tags": []
          }
        }
      ]
    },
    {
      "cell_type": "markdown",
      "metadata": {
        "id": "bZiATIHN5e3c",
        "colab_type": "text"
      },
      "source": [
        "###Saving the data in a pickle file for quick access and caching of data in Local GPU RAM in Colab."
      ]
    },
    {
      "cell_type": "code",
      "metadata": {
        "id": "mVEi02iSY8bZ",
        "colab_type": "code",
        "colab": {}
      },
      "source": [
        "import pickle\n",
        "#This is a Binary write (Check 'bw')\n",
        "with open(\"pickled_mnist.pkl\", \"bw\") as fh:\n",
        "    data = (X_train, \n",
        "            X_test, \n",
        "            Y_train,\n",
        "            Y_test,\n",
        "            train_labels_one_hot,\n",
        "            test_labels_one_hot)\n",
        "    pickle.dump(data, fh)"
      ],
      "execution_count": 0,
      "outputs": []
    },
    {
      "cell_type": "code",
      "metadata": {
        "id": "8huDW-UF1hSU",
        "colab_type": "code",
        "colab": {}
      },
      "source": [
        "import pickle\n",
        "\n",
        "with open(\"pickled_mnist.pkl\", \"br\") as fh:\n",
        "    data = pickle.load(fh)\n",
        "\n",
        "X_train = data[0]\n",
        "X_test = data[1]\n",
        "Y_train = data[2]\n",
        "Y_test = data[3]\n",
        "train_labels_one_hot = data[4]\n",
        "test_labels_one_hot = data[5]"
      ],
      "execution_count": 0,
      "outputs": []
    },
    {
      "cell_type": "markdown",
      "metadata": {
        "id": "pF7ddh-77XV5",
        "colab_type": "text"
      },
      "source": [
        "### Creating a Classifier Artificial Neural Network"
      ]
    },
    {
      "cell_type": "markdown",
      "metadata": {
        "id": "2AY4_y057qxF",
        "colab_type": "text"
      },
      "source": [
        "####Creating the Sigmoid & relu function class as defined in slides"
      ]
    },
    {
      "cell_type": "code",
      "metadata": {
        "id": "hLI3fTFT7Qtq",
        "colab_type": "code",
        "colab": {}
      },
      "source": [
        "@np.vectorize\n",
        "def sigmoid(z):\n",
        "    \"\"\"\n",
        "    sigmoid activation function.\n",
        "\n",
        "    inputs: z\n",
        "    outputs: sigmoid(z)\n",
        "    \"\"\"\n",
        "    s = 1. / (1. + np.exp(-z))\n",
        "    return s\n",
        "activation_function = sigmoid"
      ],
      "execution_count": 0,
      "outputs": []
    },
    {
      "cell_type": "code",
      "metadata": {
        "id": "yLtLZp-hxAG8",
        "colab_type": "code",
        "colab": {}
      },
      "source": [
        "@np.vectorize\n",
        "def relu(x):\n",
        "  return x * (x > 0)\n",
        "\n",
        "def dReLU(x):\n",
        "  return 1. * (x > 0)\n",
        "#activation_function = relu"
      ],
      "execution_count": 0,
      "outputs": []
    },
    {
      "cell_type": "code",
      "metadata": {
        "id": "ntnRLYD57opa",
        "colab_type": "code",
        "colab": {}
      },
      "source": [
        "from scipy.special import expit as activation_function\n",
        "from scipy.stats import truncnorm\n",
        "\n",
        "def truncated_normal(mean=0, sd=1, low=0, upp=10):\n",
        "    return truncnorm((low - mean) / sd,\n",
        "                     (upp - mean) / sd, \n",
        "                     loc=mean, \n",
        "                     scale=sd)"
      ],
      "execution_count": 0,
      "outputs": []
    },
    {
      "cell_type": "markdown",
      "metadata": {
        "id": "ayFdA_5e7835",
        "colab_type": "text"
      },
      "source": [
        "####Simple Neural network creation with multiple Hidden layers and Epoch"
      ]
    },
    {
      "cell_type": "code",
      "metadata": {
        "id": "N2BxI6HP764M",
        "colab_type": "code",
        "colab": {}
      },
      "source": [
        "class NeuralNetwork:\n",
        " \n",
        "    def __init__(self, \n",
        "                 no_of_in_nodes, \n",
        "                 no_of_out_nodes, \n",
        "                 no_of_hidden_nodes,\n",
        "                 learning_rate,\n",
        "                 bias=None\n",
        "                ):  \n",
        "\n",
        "        self.no_of_in_nodes = no_of_in_nodes\n",
        "        self.no_of_out_nodes = no_of_out_nodes\n",
        "        \n",
        "        self.no_of_hidden_nodes = no_of_hidden_nodes\n",
        "            \n",
        "        self.learning_rate = learning_rate \n",
        "        self.bias = bias\n",
        "        self.create_weight_matrices()\n",
        "    \n",
        "        \n",
        "    \n",
        "    def create_weight_matrices(self):\n",
        "        \"\"\" \n",
        "        A method to initialize the weight matrices \n",
        "        of the neural network with optional \n",
        "        bias nodes\"\"\"\n",
        "        \n",
        "        bias_node = 1 if self.bias else 0\n",
        "        \n",
        "        rad = 1 / np.sqrt(self.no_of_in_nodes + bias_node)\n",
        "        X = truncated_normal(mean=0, sd=1, low=-rad, upp=rad)\n",
        "        \n",
        "        self.wih = X.rvs((self.no_of_hidden_nodes, self.no_of_in_nodes + bias_node))\n",
        "\n",
        "        rad = 1 / np.sqrt(self.no_of_hidden_nodes + bias_node)\n",
        "        X = truncated_normal(mean=0, \n",
        "                             sd=1, \n",
        "                             low=-rad, \n",
        "                             upp=rad)\n",
        "        self.who = X.rvs((self.no_of_out_nodes, \n",
        "                          self.no_of_hidden_nodes + bias_node))\n",
        "        \n",
        " \n",
        "    def train_single(self, input_vector, target_vector):\n",
        "        \"\"\"\n",
        "        input_vector and target_vector can be tuple, \n",
        "        list or ndarray\n",
        "        \"\"\"\n",
        "\n",
        "        bias_node = 1 if self.bias else 0\n",
        "        if self.bias:\n",
        "            # adding bias node to the end of the inpuy_vector\n",
        "            input_vector = np.concatenate( (input_vector, \n",
        "                                            [self.bias]) )\n",
        "        \n",
        "        output_vectors = []\n",
        "        input_vector = np.array(input_vector, ndmin=2).T\n",
        "        target_vector = np.array(target_vector, ndmin=2).T\n",
        "\n",
        "        \n",
        "        output_vector1 = np.dot(self.wih, input_vector)\n",
        "        output_hidden = activation_function(output_vector1)\n",
        "        \n",
        "        if self.bias:\n",
        "            output_hidden = np.concatenate((output_hidden, [[self.bias]]) )\n",
        "\n",
        "        \n",
        "        output_vector2 = np.dot(self.who, output_hidden)\n",
        "        output_network = activation_function(output_vector2)\n",
        "        \n",
        "        output_errors = target_vector - output_network\n",
        "        # update the weights:\n",
        "        tmp = output_errors * output_network * (1.0 - output_network)          \n",
        "        tmp = self.learning_rate  * np.dot(tmp, output_hidden.T) \n",
        "        self.who += tmp\n",
        "\n",
        "        \n",
        "        # calculate hidden errors:\n",
        "        hidden_errors = np.dot(self.who.T, output_errors)\n",
        "        # update the weights:\n",
        "        tmp = hidden_errors * output_hidden * (1.0 - output_hidden)\n",
        "        if self.bias:\n",
        "            x = np.dot(tmp, input_vector.T)[:-1,:] \n",
        "        else:\n",
        "            x = np.dot(tmp, input_vector.T)\n",
        "        self.wih += self.learning_rate * x\n",
        "        \n",
        "\n",
        "    def train(self, data_array, \n",
        "              labels_one_hot_array,\n",
        "              epochs=1,\n",
        "              intermediate_results=False):\n",
        "        intermediate_weights = []\n",
        "        for epoch in range(epochs):  \n",
        "            for i in range(len(data_array)):\n",
        "                self.train_single(data_array[i], \n",
        "                                  labels_one_hot_array[i])\n",
        "            if intermediate_results:\n",
        "                intermediate_weights.append((self.wih.copy(), \n",
        "                                             self.who.copy()))\n",
        "        return intermediate_weights      \n",
        "        \n",
        "\n",
        "        \n",
        "    \n",
        "    def run(self, input_vector):\n",
        "        # input_vector is tuple, list or ndarray\n",
        "        \n",
        "        if self.bias:\n",
        "            # adding bias node to the end of the input_vector\n",
        "            input_vector = np.concatenate( (input_vector, [self.bias]) )\n",
        "        input_vector = np.array(input_vector, ndmin=2).T\n",
        "\n",
        "        output_vector = np.dot(self.wih, input_vector)\n",
        "        output_vector = activation_function(output_vector)\n",
        "        \n",
        "        if self.bias:\n",
        "            output_vector = np.concatenate( (output_vector, [[self.bias]]) )\n",
        "            \n",
        "\n",
        "        output_vector = np.dot(self.who, output_vector)\n",
        "        output_vector = activation_function(output_vector)\n",
        "    \n",
        "        return output_vector\n",
        "    \n",
        "    \n",
        "    def evaluate(self, data, labels):\n",
        "        corrects, wrongs = 0, 0\n",
        "        for i in range(len(data)):\n",
        "            res = self.run(data[i])\n",
        "            res_max = res.argmax()\n",
        "            if res_max == labels[i]:\n",
        "                corrects += 1\n",
        "            else:\n",
        "                wrongs += 1\n",
        "        return corrects, wrongs"
      ],
      "execution_count": 0,
      "outputs": []
    },
    {
      "cell_type": "code",
      "metadata": {
        "id": "o58mbSYL8ffz",
        "colab_type": "code",
        "colab": {
          "base_uri": "https://localhost:8080/",
          "height": 773
        },
        "outputId": "71e3863a-bcfa-48c8-c561-6f80320fb909"
      },
      "source": [
        "epochs = 15\n",
        "\n",
        "feed_forward = NeuralNetwork(no_of_in_nodes=image_pixels, \n",
        "                        no_of_out_nodes=10, \n",
        "                        no_of_hidden_nodes=100,\n",
        "                        learning_rate=0.1,\n",
        "                        bias=None)\n",
        "\n",
        "weights = feed_forward.train(X_train, \n",
        "                        train_labels_one_hot, \n",
        "                        epochs=epochs, \n",
        "                        intermediate_results=True) \n",
        "for epoch in range(epochs):  \n",
        "    print(\"epoch: \", epoch)\n",
        "    feed_forward.wih = weights[epoch][0]\n",
        "    feed_forward.who = weights[epoch][1]\n",
        "    corrects, wrongs = feed_forward.evaluate(X_train, Y_train)\n",
        "    print(\"accuracy train: \", corrects / ( corrects + wrongs))                   \n",
        "    corrects, wrongs = feed_forward.evaluate(X_test, Y_test)\n",
        "    print(\"accuracy test: \", corrects / ( corrects + wrongs)) "
      ],
      "execution_count": 19,
      "outputs": [
        {
          "output_type": "stream",
          "text": [
            "epoch:  0\n",
            "accuracy train:  0.9466991116518608\n",
            "accuracy test:  0.9477947794779478\n",
            "epoch:  1\n",
            "accuracy train:  0.96021600360006\n",
            "accuracy test:  0.956995699569957\n",
            "epoch:  2\n",
            "accuracy train:  0.9645327422123702\n",
            "accuracy test:  0.956995699569957\n",
            "epoch:  3\n",
            "accuracy train:  0.9667161119351989\n",
            "accuracy test:  0.9567956795679567\n",
            "epoch:  4\n",
            "accuracy train:  0.9648827480458008\n",
            "accuracy test:  0.9554955495549555\n",
            "epoch:  5\n",
            "accuracy train:  0.9687994799913332\n",
            "accuracy test:  0.9556955695569557\n",
            "epoch:  6\n",
            "accuracy train:  0.9707995133252221\n",
            "accuracy test:  0.9586958695869587\n",
            "epoch:  7\n",
            "accuracy train:  0.9728662144369072\n",
            "accuracy test:  0.9613961396139614\n",
            "epoch:  8\n",
            "accuracy train:  0.9713661894364906\n",
            "accuracy test:  0.9602960296029603\n",
            "epoch:  9\n",
            "accuracy train:  0.9733328888814814\n",
            "accuracy test:  0.9591959195919592\n",
            "epoch:  10\n",
            "accuracy train:  0.9723995399923332\n",
            "accuracy test:  0.9583958395839584\n",
            "epoch:  11\n",
            "accuracy train:  0.9700495008250137\n",
            "accuracy test:  0.9571957195719571\n",
            "epoch:  12\n",
            "accuracy train:  0.9738495641594026\n",
            "accuracy test:  0.9576957695769577\n",
            "epoch:  13\n",
            "accuracy train:  0.9755329255487591\n",
            "accuracy test:  0.9596959695969597\n",
            "epoch:  14\n",
            "accuracy train:  0.976832947215787\n",
            "accuracy test:  0.9606960696069607\n"
          ],
          "name": "stdout"
        }
      ]
    },
    {
      "cell_type": "code",
      "metadata": {
        "id": "Jl9HyBKf_EKW",
        "colab_type": "code",
        "colab": {}
      },
      "source": [
        ""
      ],
      "execution_count": 0,
      "outputs": []
    }
  ]
}