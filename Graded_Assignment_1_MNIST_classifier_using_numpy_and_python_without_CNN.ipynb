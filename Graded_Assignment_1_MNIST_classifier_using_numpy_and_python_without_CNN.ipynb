{
  "nbformat": 4,
  "nbformat_minor": 0,
  "metadata": {
    "colab": {
      "name": "Graded Assignment 1 : MNIST classifier using numpy and python without CNN.ipynb",
      "provenance": [],
      "collapsed_sections": [],
      "authorship_tag": "ABX9TyPJei1MgZwYXxQgRMPQiFOK",
      "include_colab_link": true
    },
    "kernelspec": {
      "name": "python3",
      "display_name": "Python 3"
    },
    "accelerator": "GPU"
  },
  "cells": [
    {
      "cell_type": "markdown",
      "metadata": {
        "id": "view-in-github",
        "colab_type": "text"
      },
      "source": [
        "<a href=\"https://colab.research.google.com/github/vrnTEK/Deep-Learning/blob/master/Graded_Assignment_1_MNIST_classifier_using_numpy_and_python_without_CNN.ipynb\" target=\"_parent\"><img src=\"https://colab.research.google.com/assets/colab-badge.svg\" alt=\"Open In Colab\"/></a>"
      ]
    },
    {
      "cell_type": "markdown",
      "metadata": {
        "id": "wWMG5ScdxtuC",
        "colab_type": "text"
      },
      "source": [
        "#Creating MNIST Classifier using Numpy\n",
        "###Goal is to use plain feed forward NNs without keras NN library but just numpy  (you can use keras only for image augmentation and getting training set and nothing else)\n",
        "Following are the tasks that needs to be accomplished by the code:\n",
        "\n",
        "1. The code should normalize the input as discussed in the class before training (scaling the input) \n",
        "2. The code should do mini batch gradient descent along with appropriate learning\n",
        "3. The code should do dropout - try various dropout rates and pick the one which works well. (need not be same for all layers)\n",
        "4. The code should initialize the random weights of network properly\n",
        "5. The code should do basic image augmentations to supplement the training data (not testing data) using keras libraries\n",
        "6. The code should use  3 or more layers for training (not 2 as in example ) - you have to tune and pick number of neurons in your layer and number of layers\n",
        "7. The code will continue to use relu activation layer in right places like python code\n",
        "8. The code should use appropriate learning rate (try out few to find out which one works) - you can use adaptive learning rates like different learning rates per epoch or per mini batch\n",
        "9. The code should provide appropriate metrics, visualization,  testing and training accuracy etc.,. and plot the results and confusion matrix  (this is important)\n",
        "10. The code should display top common errors images identified incorrectly\n",
        "11. Extra points if you hit 99% test accuracy with these changes (very challenging given you are not using CNNs).\n"
      ]
    },
    {
      "cell_type": "markdown",
      "metadata": {
        "id": "wJfKgu_Hzfo7",
        "colab_type": "text"
      },
      "source": [
        "##Importing the Libraries required"
      ]
    },
    {
      "cell_type": "code",
      "metadata": {
        "id": "gurNbLv1xnVQ",
        "colab_type": "code",
        "colab": {}
      },
      "source": [
        "import numpy as np\n",
        "import pandas as pd\n",
        "import seaborn as sns\n",
        "import matplotlib.pyplot as plt\n",
        "%matplotlib inline"
      ],
      "execution_count": 0,
      "outputs": []
    },
    {
      "cell_type": "markdown",
      "metadata": {
        "id": "rS3GlqID5oIT",
        "colab_type": "text"
      },
      "source": [
        "####Importing Libraries for image augmentation"
      ]
    },
    {
      "cell_type": "code",
      "metadata": {
        "id": "VzHS0vK15lkY",
        "colab_type": "code",
        "colab": {}
      },
      "source": [
        "import warnings\n",
        "warnings.filterwarnings('ignore')\n",
        "import skimage.io as io\n",
        "from skimage.transform import rotate, AffineTransform, warp\n",
        "from skimage.util import random_noise\n",
        "from skimage.filters import gaussian"
      ],
      "execution_count": 0,
      "outputs": []
    },
    {
      "cell_type": "markdown",
      "metadata": {
        "id": "E1zc38T15u4X",
        "colab_type": "text"
      },
      "source": [
        "####Importing Mnist dataset from Keras Library dataset as suggested by Professor"
      ]
    },
    {
      "cell_type": "code",
      "metadata": {
        "id": "TkIv0LH44Ple",
        "colab_type": "code",
        "colab": {
          "base_uri": "https://localhost:8080/",
          "height": 402
        },
        "outputId": "0a0a96ff-5aa9-4e1c-85bc-0ba933aaeeca"
      },
      "source": [
        "#Loading the Mnist dataset from Keras dataset\n",
        "from tensorflow.examples.tutorials.mnist import input_data\n",
        "#mnist = input_data.read_data_sets(\"MNIST_data/\", one_hot=False)\n",
        "mnist = input_data.read_data_sets(\"MNIST_data/\")"
      ],
      "execution_count": 3,
      "outputs": [
        {
          "output_type": "display_data",
          "data": {
            "text/html": [
              "<p style=\"color: red;\">\n",
              "The default version of TensorFlow in Colab will soon switch to TensorFlow 2.x.<br>\n",
              "We recommend you <a href=\"https://www.tensorflow.org/guide/migrate\" target=\"_blank\">upgrade</a> now \n",
              "or ensure your notebook will continue to use TensorFlow 1.x via the <code>%tensorflow_version 1.x</code> magic:\n",
              "<a href=\"https://colab.research.google.com/notebooks/tensorflow_version.ipynb\" target=\"_blank\">more info</a>.</p>\n"
            ],
            "text/plain": [
              "<IPython.core.display.HTML object>"
            ]
          },
          "metadata": {
            "tags": []
          }
        },
        {
          "output_type": "stream",
          "text": [
            "WARNING:tensorflow:From <ipython-input-3-877a49047784>:3: read_data_sets (from tensorflow.contrib.learn.python.learn.datasets.mnist) is deprecated and will be removed in a future version.\n",
            "Instructions for updating:\n",
            "Please use alternatives such as official/mnist/dataset.py from tensorflow/models.\n",
            "WARNING:tensorflow:From /tensorflow-1.15.0/python3.6/tensorflow_core/contrib/learn/python/learn/datasets/mnist.py:260: maybe_download (from tensorflow.contrib.learn.python.learn.datasets.base) is deprecated and will be removed in a future version.\n",
            "Instructions for updating:\n",
            "Please write your own downloading logic.\n",
            "WARNING:tensorflow:From /tensorflow-1.15.0/python3.6/tensorflow_core/contrib/learn/python/learn/datasets/mnist.py:262: extract_images (from tensorflow.contrib.learn.python.learn.datasets.mnist) is deprecated and will be removed in a future version.\n",
            "Instructions for updating:\n",
            "Please use tf.data to implement this functionality.\n",
            "Extracting MNIST_data/train-images-idx3-ubyte.gz\n",
            "WARNING:tensorflow:From /tensorflow-1.15.0/python3.6/tensorflow_core/contrib/learn/python/learn/datasets/mnist.py:267: extract_labels (from tensorflow.contrib.learn.python.learn.datasets.mnist) is deprecated and will be removed in a future version.\n",
            "Instructions for updating:\n",
            "Please use tf.data to implement this functionality.\n",
            "Extracting MNIST_data/train-labels-idx1-ubyte.gz\n",
            "Extracting MNIST_data/t10k-images-idx3-ubyte.gz\n",
            "Extracting MNIST_data/t10k-labels-idx1-ubyte.gz\n",
            "WARNING:tensorflow:From /tensorflow-1.15.0/python3.6/tensorflow_core/contrib/learn/python/learn/datasets/mnist.py:290: DataSet.__init__ (from tensorflow.contrib.learn.python.learn.datasets.mnist) is deprecated and will be removed in a future version.\n",
            "Instructions for updating:\n",
            "Please use alternatives such as official/mnist/dataset.py from tensorflow/models.\n"
          ],
          "name": "stdout"
        }
      ]
    },
    {
      "cell_type": "markdown",
      "metadata": {
        "id": "jfB5pVqR9y4X",
        "colab_type": "text"
      },
      "source": [
        "###Converting images to numpy array for easy calculation\n",
        "\n",
        "Also checking the shape and dimentions in the numpy array defined"
      ]
    },
    {
      "cell_type": "code",
      "metadata": {
        "id": "CbUuNk-7543U",
        "colab_type": "code",
        "outputId": "c2611f26-69a7-4983-96a4-7cf27c3e90c0",
        "colab": {
          "base_uri": "https://localhost:8080/",
          "height": 34
        }
      },
      "source": [
        "x_train = np.vstack([img.reshape(-1,) for img in mnist.train.images])\n",
        "y_train = mnist.train.labels\n",
        "\n",
        "x_test = np.vstack([img.reshape(-1,) for img in mnist.test.images])\n",
        "y_test = mnist.test.labels\n",
        "x_train.shape"
      ],
      "execution_count": 4,
      "outputs": [
        {
          "output_type": "execute_result",
          "data": {
            "text/plain": [
              "(55000, 784)"
            ]
          },
          "metadata": {
            "tags": []
          },
          "execution_count": 4
        }
      ]
    },
    {
      "cell_type": "code",
      "metadata": {
        "id": "4eO9zQe4Blr9",
        "colab_type": "code",
        "colab": {
          "base_uri": "https://localhost:8080/",
          "height": 54
        },
        "outputId": "920177b5-2c7d-4104-8970-bc4849f7c6f7"
      },
      "source": [
        "\"\"\"x_train = np.float32(mnist['x_train'][:])\n",
        "y_train = np.int32(np.array(MNIST_data['y_train'][:, 0])).reshape(-1, 1)\n",
        "x_test  = np.float32(MNIST_data['x_test'][:])\n",
        "y_test  = np.int32(np.array(MNIST_data['y_test'][:, 0])).reshape(-1, 1)\"\"\""
      ],
      "execution_count": 7,
      "outputs": [
        {
          "output_type": "execute_result",
          "data": {
            "text/plain": [
              "\"x_train = np.float32(mnist['x_train'][:])\\ny_train = np.int32(np.array(MNIST_data['y_train'][:, 0])).reshape(-1, 1)\\nx_test  = np.float32(MNIST_data['x_test'][:])\\ny_test  = np.int32(np.array(MNIST_data['y_test'][:, 0])).reshape(-1, 1)\""
            ]
          },
          "metadata": {
            "tags": []
          },
          "execution_count": 7
        }
      ]
    },
    {
      "cell_type": "markdown",
      "metadata": {
        "id": "w2n3pS_V_93U",
        "colab_type": "text"
      },
      "source": [
        "Now we have a 2 dimentional numpy array with 60000 rows with 784 (28 X 28) features of data in other two dimentions. We can now carry out the normalization of the data.\n",
        "\n",
        "There is also an alternative method as well that we can follow:\n",
        "\n",
        "The difference is that this will yield 3-dimentional array which needs to be reshaped into 2-D\n",
        "\n",
        "  * from tensorflow.keras.datasets import mnist:\n",
        "  * (x_train, y_train), (x_test, y_test) = mnist.load_data()\n",
        "  * Converting training data to Numpy array\n",
        "  * mnist_train = np.array(x_train)\n",
        "  * mnist_trtarget = np.array(y_train)\n",
        "  * Coverting test data to Numpy array\n",
        "  * mnist_test = np.array(x_test)\n",
        "  * mnist_tetarget = np.array(y_test)"
      ]
    },
    {
      "cell_type": "markdown",
      "metadata": {
        "id": "u_45pvZ2NpiU",
        "colab_type": "text"
      },
      "source": [
        "###Prininting first record to check the values and range of features"
      ]
    },
    {
      "cell_type": "code",
      "metadata": {
        "id": "JUNrWNpWASuf",
        "colab_type": "code",
        "colab": {
          "base_uri": "https://localhost:8080/",
          "height": 34
        },
        "outputId": "178aaf0b-2e64-4408-a2b0-cf21da7ca624"
      },
      "source": [
        "\"\"\"import pprint\n",
        "pp = pprint.PrettyPrinter(width=100, compact = True)\n",
        "pp.pprint(mnistd_train[48000])\"\"\""
      ],
      "execution_count": 8,
      "outputs": [
        {
          "output_type": "execute_result",
          "data": {
            "text/plain": [
              "'import pprint\\npp = pprint.PrettyPrinter(width=100, compact = True)\\npp.pprint(mnistd_train[48000])'"
            ]
          },
          "metadata": {
            "tags": []
          },
          "execution_count": 8
        }
      ]
    },
    {
      "cell_type": "markdown",
      "metadata": {
        "id": "5P-tLGSZN_h3",
        "colab_type": "text"
      },
      "source": [
        "###One Hot Encoding and data Transforming\n",
        "\n",
        "As we can see from the above values that there are many zero values for pixels which are not activated this is something we need to avoid since weights dont update well for zero values. we will add 0.001 to the result"
      ]
    },
    {
      "cell_type": "code",
      "metadata": {
        "id": "4_YcQ_CltLKH",
        "colab_type": "code",
        "colab": {
          "base_uri": "https://localhost:8080/",
          "height": 34
        },
        "outputId": "fb9fa0df-c8b1-4100-c7d0-ead382a50a83"
      },
      "source": [
        "X = np.concatenate((x_train, x_test))\n",
        "y = np.concatenate((y_train, y_test))\n",
        "X.shape"
      ],
      "execution_count": 9,
      "outputs": [
        {
          "output_type": "execute_result",
          "data": {
            "text/plain": [
              "(65000, 784)"
            ]
          },
          "metadata": {
            "tags": []
          },
          "execution_count": 9
        }
      ]
    },
    {
      "cell_type": "markdown",
      "metadata": {
        "id": "hl-ko7UtYB1G",
        "colab_type": "text"
      },
      "source": [
        "###Encoding Output label as well with one hot encoding\n",
        "\n",
        "Encoding Y training and Y test labels for entire dataset"
      ]
    },
    {
      "cell_type": "code",
      "metadata": {
        "id": "x-SaspP61l44",
        "colab_type": "code",
        "colab": {
          "base_uri": "https://localhost:8080/",
          "height": 54
        },
        "outputId": "db74093f-a6d4-4f54-fbd5-1ae41db1c0ea"
      },
      "source": [
        "# one-hot encoding\n",
        "digits = 10\n",
        "examples = y.shape[0]\n",
        "y = y.reshape(1, examples)\n",
        "Y_new = np.eye(digits)[y.astype('int32')]\n",
        "Y_new = Y_new.T.reshape(digits, examples)"
      ],
      "execution_count": 10,
      "outputs": [
        {
          "output_type": "execute_result",
          "data": {
            "text/plain": [
              "\"digits = 10\\nexamples = mnistar_train.shape[0]\\nmnistar_train = mnistar_train.reshape(1, examples)\\nY_train = np.eye(digits)[mnistar_train.astype('int32')]\\nY_train = Y_train.T.reshape(digits, examples)\""
            ]
          },
          "metadata": {
            "tags": []
          },
          "execution_count": 10
        }
      ]
    },
    {
      "cell_type": "code",
      "metadata": {
        "id": "3RFxr6o5TtnL",
        "colab_type": "code",
        "colab": {}
      },
      "source": [
        "#Redundant Code To be deleted\n",
        "\n",
        "#digits = 10\n",
        "#examples = mnistar_train.shape[0]\n",
        "#mnistar_train = mnistar_train.reshape(1, examples)\n",
        "#Y_train = np.eye(digits)[mnistar_train.astype('int32')]\n",
        "#Y_train = Y_train.T.reshape(digits, examples)\n",
        "\n",
        "#digits = 10\n",
        "#examples = mnistar_test.shape[0]\n",
        "#mnistar_test = mnistar_test.reshape(1, examples)\n",
        "#Y_test = np.eye(digits)[mnistar_test.astype('int32')]\n",
        "#Y_test = Y_test.T.reshape(digits, examples)"
      ],
      "execution_count": 0,
      "outputs": []
    },
    {
      "cell_type": "code",
      "metadata": {
        "id": "MsFy5-Y-UIv4",
        "colab_type": "code",
        "colab": {}
      },
      "source": [
        "# number of training set\n",
        "m = 55000\n",
        "m_test = X.shape[0] - m\n",
        "X_train, X_test = X[:m].T, X[m:].T\n",
        "Y_train, Y_test = Y_new[:, :m], Y_new[:, m:]"
      ],
      "execution_count": 0,
      "outputs": []
    },
    {
      "cell_type": "code",
      "metadata": {
        "id": "sgWQbKHOXmxf",
        "colab_type": "code",
        "colab": {}
      },
      "source": [
        "# shuffle training set\n",
        "shuffle_index = np.random.permutation(m)\n",
        "X_train, Y_train = X_train[:, shuffle_index], Y_train[:, shuffle_index]\n",
        "\n",
        "#X_transpose = X_train[:].T #redundant code for checking the data orientation\n",
        "#X_transpose.shape"
      ],
      "execution_count": 0,
      "outputs": []
    },
    {
      "cell_type": "markdown",
      "metadata": {
        "id": "geHtew4nalXX",
        "colab_type": "text"
      },
      "source": [
        "###Displaying the output for training data "
      ]
    },
    {
      "cell_type": "code",
      "metadata": {
        "id": "TwMkG-e3YrS2",
        "colab_type": "code",
        "colab": {
          "base_uri": "https://localhost:8080/",
          "height": 1000
        },
        "outputId": "9283e71f-dc5f-43ee-f067-182cb349bb44"
      },
      "source": [
        "for i in range(10):\n",
        "    img = X_train[::,i].reshape((28,28))\n",
        "    plt.imshow(img, cmap=\"Greys\")\n",
        "    plt.show()"
      ],
      "execution_count": 14,
      "outputs": [
        {
          "output_type": "display_data",
          "data": {
            "image/png": "[encoded data removed]",
            "text/plain": [
              "<Figure size 432x288 with 1 Axes>"
            ]
          },
          "metadata": {
            "tags": []
          }
        },
        {
          "output_type": "display_data",
          "data": {
            "image/png": "[encoded data removed]",
            "text/plain": [
              "<Figure size 432x288 with 1 Axes>"
            ]
          },
          "metadata": {
            "tags": []
          }
        },
        {
          "output_type": "display_data",
          "data": {
            "image/png": "[encoded data removed]",
            "text/plain": [
              "<Figure size 432x288 with 1 Axes>"
            ]
          },
          "metadata": {
            "tags": []
          }
        },
        {
          "output_type": "display_data",
          "data": {
            "image/png": "[encoded data removed]",
            "text/plain": [
              "<Figure size 432x288 with 1 Axes>"
            ]
          },
          "metadata": {
            "tags": []
          }
        },
        {
          "output_type": "display_data",
          "data": {
            "image/png": "[encoded data removed]",
            "text/plain": [
              "<Figure size 432x288 with 1 Axes>"
            ]
          },
          "metadata": {
            "tags": []
          }
        },
        {
          "output_type": "display_data",
          "data": {
            "image/png": "[encoded data removed]",
            "text/plain": [
              "<Figure size 432x288 with 1 Axes>"
            ]
          },
          "metadata": {
            "tags": []
          }
        },
        {
          "output_type": "display_data",
          "data": {
            "image/png": "[encoded data removed]",
            "text/plain": [
              "<Figure size 432x288 with 1 Axes>"
            ]
          },
          "metadata": {
            "tags": []
          }
        },
        {
          "output_type": "display_data",
          "data": {
            "image/png": "[encoded data removed]",
            "text/plain": [
              "<Figure size 432x288 with 1 Axes>"
            ]
          },
          "metadata": {
            "tags": []
          }
        },
        {
          "output_type": "display_data",
          "data": {
            "image/png": "[encoded data removed]",
            "text/plain": [
              "<Figure size 432x288 with 1 Axes>"
            ]
          },
          "metadata": {
            "tags": []
          }
        },
        {
          "output_type": "display_data",
          "data": {
            "image/png": "[encoded data removed]",
            "text/plain": [
              "<Figure size 432x288 with 1 Axes>"
            ]
          },
          "metadata": {
            "tags": []
          }
        }
      ]
    },
    {
      "cell_type": "markdown",
      "metadata": {
        "id": "bZiATIHN5e3c",
        "colab_type": "text"
      },
      "source": [
        "###Saving the data in a pickle file for quick access and caching of data in RAM"
      ]
    },
    {
      "cell_type": "code",
      "metadata": {
        "id": "mVEi02iSY8bZ",
        "colab_type": "code",
        "colab": {}
      },
      "source": [
        "import pickle\n",
        "\n",
        "with open(\"pickled_mnist.pkl\", \"bw\") as fh:\n",
        "    data = (train_imgs, \n",
        "            test_imgs, \n",
        "            Y_train,\n",
        "            Y_test,)\n",
        "    pickle.dump(data, fh)"
      ],
      "execution_count": 0,
      "outputs": []
    },
    {
      "cell_type": "code",
      "metadata": {
        "id": "8huDW-UF1hSU",
        "colab_type": "code",
        "colab": {}
      },
      "source": [
        "with open(\"pickled_mnist.pkl\", \"br\") as fh:\n",
        "    data = pickle.load(fh)\n",
        "\n",
        "train_imgs = data[0]\n",
        "test_imgs = data[1]\n",
        "Y_train = data[2]\n",
        "Y_test = data[3]\n",
        "\n",
        "image_size = 28 # width and length\n",
        "no_of_different_labels = 10 #  i.e. 0, 1, 2, 3, ..., 9\n",
        "image_pixels = image_size * image_size"
      ],
      "execution_count": 0,
      "outputs": []
    },
    {
      "cell_type": "markdown",
      "metadata": {
        "id": "pF7ddh-77XV5",
        "colab_type": "text"
      },
      "source": [
        "### Creating a Classifier Artificial Neural Network"
      ]
    },
    {
      "cell_type": "markdown",
      "metadata": {
        "id": "2AY4_y057qxF",
        "colab_type": "text"
      },
      "source": [
        "####Creating the Sigmoid function class as defined in slides"
      ]
    },
    {
      "cell_type": "code",
      "metadata": {
        "id": "hLI3fTFT7Qtq",
        "colab_type": "code",
        "colab": {}
      },
      "source": [
        "@np.vectorize\n",
        "def sigmoid(x):\n",
        "    return 1 / (1 + np.e ** -x)\n",
        "activation_function = sigmoid"
      ],
      "execution_count": 0,
      "outputs": []
    },
    {
      "cell_type": "code",
      "metadata": {
        "id": "ntnRLYD57opa",
        "colab_type": "code",
        "colab": {}
      },
      "source": [
        "from scipy.stats import truncnorm\n",
        "\n",
        "def truncated_normal(mean=0, sd=1, low=0, upp=10):\n",
        "    return truncnorm((low - mean) / sd, \n",
        "                     (upp - mean) / sd, \n",
        "                     loc=mean, \n",
        "                     scale=sd)"
      ],
      "execution_count": 0,
      "outputs": []
    },
    {
      "cell_type": "markdown",
      "metadata": {
        "id": "ayFdA_5e7835",
        "colab_type": "text"
      },
      "source": [
        "####Simple Neural network creation without multiple epochs, bias"
      ]
    },
    {
      "cell_type": "code",
      "metadata": {
        "id": "N2BxI6HP764M",
        "colab_type": "code",
        "colab": {}
      },
      "source": [
        "class NeuralNetwork:\n",
        "  def __init__(self, \n",
        "                 no_of_in_nodes, \n",
        "                 no_of_out_nodes, \n",
        "                 no_of_hidden_nodes,\n",
        "                 learning_rate):\n",
        "        self.no_of_in_nodes = no_of_in_nodes\n",
        "        self.no_of_out_nodes = no_of_out_nodes\n",
        "        self.no_of_hidden_nodes = no_of_hidden_nodes\n",
        "        self.learning_rate = learning_rate \n",
        "        self.create_weight_matrices()\n",
        "        \n",
        "  def create_weight_matrices(self):\n",
        "        \"\"\" \n",
        "        A method to initialize the weight matrices of the neural network\n",
        "        \"\"\"\n",
        "        rad = 1 / np.sqrt(self.no_of_in_nodes)\n",
        "        X = truncated_normal(mean=0, \n",
        "                             sd=1, \n",
        "                             low=-rad, \n",
        "                             upp=rad)\n",
        "        self.wih = X.rvs((self.no_of_hidden_nodes, \n",
        "                                       self.no_of_in_nodes))\n",
        "        rad = 1 / np.sqrt(self.no_of_hidden_nodes)\n",
        "        X = truncated_normal(mean=0, sd=1, low=-rad, upp=rad)\n",
        "        self.who = X.rvs((self.no_of_out_nodes, \n",
        "                                         self.no_of_hidden_nodes))\n",
        "        \n",
        "    \n",
        "  def train(self, input_vector, target_vector):\n",
        "        \"\"\"\n",
        "        input_vector and target_vector can \n",
        "        be tuple, list or ndarray\n",
        "        \"\"\"\n",
        "        \n",
        "        input_vector = np.array(input_vector, ndmin=2).T\n",
        "        target_vector = np.array(target_vector, ndmin=2).T\n",
        "        \n",
        "        output_vector1 = np.dot(self.wih, \n",
        "                                input_vector)\n",
        "        output_hidden = activation_function(output_vector1)\n",
        "        \n",
        "        output_vector2 = np.dot(self.who, \n",
        "                                output_hidden)\n",
        "        output_network = activation_function(output_vector2)\n",
        "        \n",
        "        output_errors = target_vector - output_network\n",
        "        # update the weights:\n",
        "        tmp = output_errors * output_network \\\n",
        "              * (1.0 - output_network)     \n",
        "        tmp = self.learning_rate  * np.dot(tmp, \n",
        "                                           output_hidden.T)\n",
        "        self.who += tmp\n",
        "\n",
        "\n",
        "        # calculate hidden errors:\n",
        "        hidden_errors = np.dot(self.who.T, \n",
        "                               output_errors)\n",
        "        # update the weights:\n",
        "        tmp = hidden_errors * output_hidden * \\\n",
        "              (1.0 - output_hidden)\n",
        "        self.wih += self.learning_rate \\\n",
        "                          * np.dot(tmp, input_vector.T)\n",
        "        \n",
        "\n",
        "        \n",
        "    \n",
        "  def run(self, input_vector):\n",
        "        # input_vector can be tuple, list or ndarray\n",
        "        input_vector = np.array(input_vector, ndmin=2).T\n",
        "\n",
        "        output_vector = np.dot(self.wih, \n",
        "                               input_vector)\n",
        "        output_vector = activation_function(output_vector)\n",
        "        \n",
        "        output_vector = np.dot(self.who, \n",
        "                               output_vector)\n",
        "        output_vector = activation_function(output_vector)\n",
        "    \n",
        "        return output_vector\n",
        "            \n",
        "  def confusion_matrix(self, data_array, labels):\n",
        "        cm = np.zeros((10, 10), int)\n",
        "        for i in range(len(data_array)):\n",
        "            res = self.run(data_array[i])\n",
        "            res_max = res.argmax()\n",
        "            target = labels[i][0]\n",
        "            cm[res_max, int(target)] += 1\n",
        "        return cm    \n",
        "\n",
        "  def precision(self, label, confusion_matrix):\n",
        "        col = confusion_matrix[:, label]\n",
        "        return confusion_matrix[label, label] / col.sum()\n",
        "    \n",
        "  def recall(self, label, confusion_matrix):\n",
        "        row = confusion_matrix[label, :]\n",
        "        return confusion_matrix[label, label] / row.sum()\n",
        "        \n",
        "    \n",
        "  def evaluate(self, data, labels):\n",
        "        corrects, wrongs = 0, 0\n",
        "        for i in range(len(data)):\n",
        "            res = self.run(data[i])\n",
        "            res_max = res.argmax()\n",
        "            if res_max == labels[i]:\n",
        "                corrects += 1\n",
        "            else:\n",
        "                wrongs += 1\n",
        "        return corrects, wrongs"
      ],
      "execution_count": 0,
      "outputs": []
    },
    {
      "cell_type": "code",
      "metadata": {
        "id": "o58mbSYL8ffz",
        "colab_type": "code",
        "colab": {}
      },
      "source": [
        "ANN = NeuralNetwork(no_of_in_nodes = image_pixels, \n",
        "                    no_of_out_nodes = 10, \n",
        "                    no_of_hidden_nodes = 100,\n",
        "                    learning_rate = 0.1)\n",
        "    \n",
        "    \n",
        "for i in range(len(train_imgs)):\n",
        "    ANN.train(train_imgs[i], Y_train[i])"
      ],
      "execution_count": 0,
      "outputs": []
    },
    {
      "cell_type": "code",
      "metadata": {
        "id": "Jl9HyBKf_EKW",
        "colab_type": "code",
        "colab": {}
      },
      "source": [
        ""
      ],
      "execution_count": 0,
      "outputs": []
    }
  ]
}